{
    "cells": [
        {
            "cell_type": "code",
            "execution_count": null,
            "metadata": {
                "azdata_cell_guid": "950a49ac-4072-4562-89d6-552eb728d0f5",
                "language": "sql"
            },
            "outputs": [
                {
                    "data": {
                        "text/html": [
                            "Commands completed successfully."
                        ]
                    },
                    "metadata": {},
                    "output_type": "display_data"
                },
                {
                    "data": {
                        "text/html": [
                            "Total execution time: 00:00:00.020"
                        ]
                    },
                    "metadata": {},
                    "output_type": "display_data"
                }
            ],
            "source": [
                "USE Practice;\n",
                "GO"
            ]
        },
        {
            "cell_type": "markdown",
            "metadata": {},
            "source": []
        },
        {
            "attachments": {},
            "cell_type": "markdown",
            "metadata": {
                "azdata_cell_guid": "9aed233c-2bc7-4438-b467-be47b6878489"
            },
            "source": [
                "## The problem is an Advanced SQL problem from Hacker Rank. Level : HARD\n",
                "\n",
                "  \n",
                "\n",
                "Link to Problem : https://www.hackerrank.com/challenges/15-days-of-learning-sql/problem"
            ]
        },
        {
            "cell_type": "markdown",
            "metadata": {},
            "source": []
        },
        {
            "cell_type": "code",
            "execution_count": null,
            "metadata": {
                "azdata_cell_guid": "ca50f89c-8690-4588-a464-70421b734e0c",
                "language": "sql"
            },
            "outputs": [
                {
                    "data": {
                        "text/html": [
                            "(6 rows affected)"
                        ]
                    },
                    "metadata": {},
                    "output_type": "display_data"
                },
                {
                    "data": {
                        "text/html": [
                            "Total execution time: 00:00:00.055"
                        ]
                    },
                    "metadata": {},
                    "output_type": "display_data"
                },
                {
                    "data": {
                        "application/vnd.dataresource+json": {
                            "data": [
                                {
                                    "No_of_unique_hackers": "4",
                                    "hacker_id": "20703",
                                    "name": "Angela",
                                    "submission_date": "2016-03-01"
                                },
                                {
                                    "No_of_unique_hackers": "2",
                                    "hacker_id": "79722",
                                    "name": "Micheal",
                                    "submission_date": "2016-03-02"
                                },
                                {
                                    "No_of_unique_hackers": "2",
                                    "hacker_id": "20703",
                                    "name": "Angela",
                                    "submission_date": "2016-03-03"
                                },
                                {
                                    "No_of_unique_hackers": "2",
                                    "hacker_id": "20703",
                                    "name": "Angela",
                                    "submission_date": "2016-03-04"
                                },
                                {
                                    "No_of_unique_hackers": "1",
                                    "hacker_id": "36396",
                                    "name": "Frank",
                                    "submission_date": "2016-03-05"
                                },
                                {
                                    "No_of_unique_hackers": "1",
                                    "hacker_id": "20703",
                                    "name": "Angela",
                                    "submission_date": "2016-03-06"
                                }
                            ],
                            "schema": {
                                "fields": [
                                    {
                                        "name": "submission_date"
                                    },
                                    {
                                        "name": "No_of_unique_hackers"
                                    },
                                    {
                                        "name": "hacker_id"
                                    },
                                    {
                                        "name": "name"
                                    }
                                ]
                            }
                        },
                        "text/html": [
                            "<table>\n",
                            "<tr><th>submission_date</th><th>No_of_unique_hackers</th><th>hacker_id</th><th>name</th></tr>\n",
                            "<tr><td>2016-03-01</td><td>4</td><td>20703</td><td>Angela</td></tr>\n",
                            "<tr><td>2016-03-02</td><td>2</td><td>79722</td><td>Micheal</td></tr>\n",
                            "<tr><td>2016-03-03</td><td>2</td><td>20703</td><td>Angela</td></tr>\n",
                            "<tr><td>2016-03-04</td><td>2</td><td>20703</td><td>Angela</td></tr>\n",
                            "<tr><td>2016-03-05</td><td>1</td><td>36396</td><td>Frank</td></tr>\n",
                            "<tr><td>2016-03-06</td><td>1</td><td>20703</td><td>Angela</td></tr>\n",
                            "</table>"
                        ]
                    },
                    "execution_count": 3,
                    "metadata": {},
                    "output_type": "execute_result"
                }
            ],
            "source": [
                "With dates AS\n",
                "(\n",
                "SELECT DISTINCT submission_date, \n",
                "ROW_NUMBER() OVER(order by (SELECT null)) as rn\n",
                "FROM submissions\n",
                "GROUP BY submission_date\n",
                "),\n",
                "hacker_subs AS\n",
                "(\n",
                "SELECT submission_date, hacker_id,\n",
                "ROW_NUMBER() OVER(PARTITION BY hacker_id ORDER BY submission_date ASC) as rn\n",
                "FROM submissions\n",
                "GROUP BY submission_date, hacker_id\n",
                "),\n",
                "unique_hackers AS\n",
                "(\n",
                "SELECT d.submission_date, hs.hacker_id\n",
                "FROM dates d \n",
                "LEFT JOIN hacker_subs hs ON ((d.submission_date = hs.submission_date) AND (d.rn = hs.rn))\n",
                "),\n",
                "max_subs AS\n",
                "(\n",
                "SELECT submission_date, hacker_id,\n",
                "ROW_NUMBER() OVER(PARTITION BY submission_date ORDER BY COUNT(*) DESC, hacker_id ASC) as rn\n",
                "FROM submissions\n",
                "GROUP BY submission_date, hacker_id\n",
                ")\n",
                "\n",
                "SELECT d.submission_date, COUNT(uh.hacker_id) as No_of_unique_hackers, ms.hacker_id, h.name\n",
                "FROM dates d \n",
                "LEFT JOIN unique_hackers uh ON (d.submission_date = uh.submission_date)\n",
                "LEFT JOIN max_subs ms ON ((d.submission_date = ms.submission_date) AND ms.rn = 1)\n",
                "INNER JOIN hackers h ON (ms.hacker_id = h.hacker_id)\n",
                "GROUP BY d.submission_date, ms.hacker_id, h.name"
            ]
        }
    ],
    "metadata": {
        "kernelspec": {
            "display_name": "SQL",
            "language": "sql",
            "name": "SQL"
        },
        "language_info": {
            "name": "sql",
            "version": ""
        }
    },
    "nbformat": 4,
    "nbformat_minor": 2
}
