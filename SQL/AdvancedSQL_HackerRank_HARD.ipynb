{
    "cells": [
        {
            "cell_type": "code",
            "execution_count": null,
            "metadata": {
                "azdata_cell_guid": "b8ed0070-f570-44ba-9312-a9ac5eed183e",
                "language": "sql",
                "tags": [
                    "hide_input"
                ]
            },
            "outputs": [
                {
                    "data": {
                        "text/html": [
                            "Commands completed successfully."
                        ]
                    },
                    "metadata": {},
                    "output_type": "display_data"
                },
                {
                    "data": {
                        "text/html": [
                            "Total execution time: 00:00:00.003"
                        ]
                    },
                    "metadata": {},
                    "output_type": "display_data"
                }
            ],
            "source": [
                "USE Practice;\n",
                "GO"
            ]
        },
        {
            "attachments": {},
            "cell_type": "markdown",
            "metadata": {
                "azdata_cell_guid": "0db89d36-466d-4c8e-a1d0-8b072d931f3d",
                "language": "sql"
            },
            "source": [
                "<span style=\"color: #569cd6;font-weight: bold;\">## The problem is an Advanced SQL problem from Hacker Rank. Level : HARD</span>\n",
                "\n",
                "  \n",
                "\n",
                "  \n",
                "\n",
                "Link to Problem : https://www.hackerrank.com/challenges/15-days-of-learning-sql/problem"
            ]
        },
        {
            "cell_type": "code",
            "execution_count": null,
            "metadata": {
                "azdata_cell_guid": "cb49a697-e5eb-4878-b20b-72ea62eb7d30",
                "language": "sql"
            },
            "outputs": [
                {
                    "data": {
                        "text/html": [
                            "(6 rows affected)"
                        ]
                    },
                    "metadata": {},
                    "output_type": "display_data"
                },
                {
                    "data": {
                        "text/html": [
                            "Total execution time: 00:00:00.041"
                        ]
                    },
                    "metadata": {},
                    "output_type": "display_data"
                },
                {
                    "data": {
                        "application/vnd.dataresource+json": {
                            "data": [
                                {
                                    "hacker_id": "20703",
                                    "hackers_count": "4",
                                    "name": "Angela",
                                    "submission_date": "2016-03-01"
                                },
                                {
                                    "hacker_id": "79722",
                                    "hackers_count": "2",
                                    "name": "Micheal",
                                    "submission_date": "2016-03-02"
                                },
                                {
                                    "hacker_id": "20703",
                                    "hackers_count": "2",
                                    "name": "Angela",
                                    "submission_date": "2016-03-03"
                                },
                                {
                                    "hacker_id": "20703",
                                    "hackers_count": "2",
                                    "name": "Angela",
                                    "submission_date": "2016-03-04"
                                },
                                {
                                    "hacker_id": "36396",
                                    "hackers_count": "1",
                                    "name": "Frank",
                                    "submission_date": "2016-03-05"
                                },
                                {
                                    "hacker_id": "20703",
                                    "hackers_count": "1",
                                    "name": "Angela",
                                    "submission_date": "2016-03-06"
                                }
                            ],
                            "schema": {
                                "fields": [
                                    {
                                        "name": "submission_date"
                                    },
                                    {
                                        "name": "hackers_count"
                                    },
                                    {
                                        "name": "hacker_id"
                                    },
                                    {
                                        "name": "name"
                                    }
                                ]
                            }
                        },
                        "text/html": [
                            "<table><tr><th>submission_date</th><th>hackers_count</th><th>hacker_id</th><th>name</th></tr><tr><td>2016-03-01</td><td>4</td><td>20703</td><td>Angela</td></tr><tr><td>2016-03-02</td><td>2</td><td>79722</td><td>Micheal</td></tr><tr><td>2016-03-03</td><td>2</td><td>20703</td><td>Angela</td></tr><tr><td>2016-03-04</td><td>2</td><td>20703</td><td>Angela</td></tr><tr><td>2016-03-05</td><td>1</td><td>36396</td><td>Frank</td></tr><tr><td>2016-03-06</td><td>1</td><td>20703</td><td>Angela</td></tr></table>"
                        ]
                    },
                    "execution_count": 3,
                    "metadata": {},
                    "output_type": "execute_result"
                }
            ],
            "source": [
                "With dates AS\n",
                "(\n",
                "SELECT DISTINCT submission_date, \n",
                "ROW_NUMBER() OVER(ORDER BY (SELECT null)) as rn\n",
                "FROM submissions\n",
                "GROUP BY submission_date\n",
                "),\n",
                "hacker_subs AS\n",
                "(\n",
                "SELECT submission_date, hacker_id,\n",
                "ROW_NUMBER() OVER(PARTITION BY hacker_id ORDER BY submission_date ASC) as rn\n",
                "FROM submissions\n",
                "GROUP BY submission_date, hacker_id\n",
                "),\n",
                "unique_hackers AS\n",
                "(\n",
                "SELECT d.submission_date, hs.hacker_id\n",
                "FROM dates d \n",
                "LEFT JOIN hacker_subs hs ON ((d.submission_date = hs.submission_date) AND (d.rn = hs.rn))\n",
                "),\n",
                "max_subs AS\n",
                "(\n",
                "SELECT submission_date, hacker_id,\n",
                "ROW_NUMBER() OVER(PARTITION BY submission_date ORDER BY COUNT(*) DESC, hacker_id ASC) as rn\n",
                "FROM submissions\n",
                "GROUP BY submission_date, hacker_id\n",
                ")\n",
                "\n",
                "SELECT hc.submission_date, hc.hackers_count , ms.hacker_id, h.name\n",
                "FROM \n",
                "(\n",
                "SELECT submission_date, COUNT(*) AS hackers_count\n",
                "FROM unique_hackers\n",
                "GROUP BY submission_date\n",
                ") hc\n",
                "LEFT JOIN max_subs ms ON ((hc.submission_date = ms.submission_date) AND ms.rn = 1)\n",
                "LEFT JOIN hackers h ON (ms.hacker_id = h.hacker_id)"
            ]
        }
    ],
    "metadata": {
        "kernelspec": {
            "display_name": "SQL",
            "language": "sql",
            "name": "SQL"
        },
        "language_info": {
            "name": "sql",
            "version": ""
        }
    },
    "nbformat": 4,
    "nbformat_minor": 2
}
