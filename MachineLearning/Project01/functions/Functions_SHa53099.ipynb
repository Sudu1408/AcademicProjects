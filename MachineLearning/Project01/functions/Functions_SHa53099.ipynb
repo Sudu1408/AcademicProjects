{
 "cells": [
  {
   "cell_type": "markdown",
   "metadata": {},
   "source": [
    "## Feature Selection Functions "
   ]
  },
  {
   "cell_type": "markdown",
   "metadata": {},
   "source": []
  },
  {
   "cell_type": "code",
   "execution_count": 1,
   "metadata": {},
   "outputs": [],
   "source": [
    "import pandas as pd\n",
    "import numpy as np\n",
    "\n",
    "from sklearn.feature_selection import VarianceThreshold\n",
    "from sklearn.feature_selection import SelectKBest\n",
    "from sklearn.feature_selection import f_regression \n",
    "from sklearn.model_selection import train_test_split\n",
    "from sklearn.preprocessing import PolynomialFeatures\n",
    "from sklearn.metrics import mean_squared_error"
   ]
  },
  {
   "cell_type": "markdown",
   "metadata": {},
   "source": [
    "Correlation Based Selection"
   ]
  },
  {
   "cell_type": "code",
   "execution_count": 2,
   "metadata": {},
   "outputs": [],
   "source": [
    "def select_manual(data, threshold):\n",
    "    df = data\n",
    "    \n",
    "    corr = pd.DataFrame(df.corr()['log_inst_review'].abs().sort_values(ascending = False) > threshold)\n",
    "    corr = corr[corr['log_inst_review'] == True]\n",
    "    \n",
    "    df = df.loc[:,(corr).index]\n",
    "    \n",
    "    df.drop('log_inst_review', axis = 1, inplace = True)\n",
    "    \n",
    "    return df"
   ]
  },
  {
   "cell_type": "code",
   "execution_count": null,
   "metadata": {},
   "outputs": [],
   "source": []
  },
  {
   "cell_type": "markdown",
   "metadata": {},
   "source": [
    "Variance Threshold Selection"
   ]
  },
  {
   "cell_type": "code",
   "execution_count": 3,
   "metadata": {},
   "outputs": [],
   "source": [
    "def select_variance(data, threshold_value):\n",
    "    df = data\n",
    "    \n",
    "    selectVarianceThreshold = VarianceThreshold(threshold = threshold_value)\n",
    "    \n",
    "    selectVarianceThreshold.fit(df)\n",
    "    \n",
    "    print(pd.DataFrame({'Variance': selectVarianceThreshold.variances_, 'Selection_status': selectVarianceThreshold.get_support()}, index = df.columns))\n",
    "    \n",
    "    df = df.iloc[:,selectVarianceThreshold.get_support()] \n",
    "    \n",
    "    return df"
   ]
  },
  {
   "cell_type": "code",
   "execution_count": null,
   "metadata": {},
   "outputs": [],
   "source": []
  },
  {
   "cell_type": "markdown",
   "metadata": {},
   "source": [
    "Select K-Best Method"
   ]
  },
  {
   "cell_type": "code",
   "execution_count": 4,
   "metadata": {},
   "outputs": [],
   "source": [
    "def select_best(data, num_of_features):\n",
    "    df = data\n",
    "    \n",
    "    target = df.log_inst_review\n",
    "    features = df.drop('log_inst_review', axis = 1)\n",
    "\n",
    "    selectKBest = SelectKBest(score_func = f_regression, k = num_of_features)\n",
    "    \n",
    "    x_train, x_test, y_train, y_test = train_test_split(features, target, test_size = 0.25, random_state = 42)\n",
    "    \n",
    "    selectKBest.fit_transform(x_train, y_train)\n",
    "    \n",
    "    df = features.iloc[:,selectKBest.get_support()]\n",
    "    \n",
    "    return df"
   ]
  },
  {
   "cell_type": "code",
   "execution_count": null,
   "metadata": {},
   "outputs": [],
   "source": []
  },
  {
   "cell_type": "markdown",
   "metadata": {},
   "source": [
    "Polynomial Features"
   ]
  },
  {
   "cell_type": "code",
   "execution_count": 5,
   "metadata": {},
   "outputs": [],
   "source": [
    "def make_poly(data):\n",
    "    \n",
    "    df = data\n",
    "    \n",
    "    poly_features = PolynomialFeatures(degree = 2, interaction_only = True, include_bias = False)\n",
    "    \n",
    "    df = poly_features.fit_transform(df)\n",
    "    \n",
    "    return df\n",
    "\n",
    "#transforms the data using polynomial trasnformation method..."
   ]
  },
  {
   "cell_type": "code",
   "execution_count": null,
   "metadata": {},
   "outputs": [],
   "source": []
  },
  {
   "cell_type": "markdown",
   "metadata": {},
   "source": [
    "Scaling Function"
   ]
  },
  {
   "cell_type": "code",
   "execution_count": 6,
   "metadata": {},
   "outputs": [],
   "source": [
    "def data_scaling(data):\n",
    "    \n",
    "    scaler = StandardScaler()\n",
    "    \n",
    "    data = scaler.fit_transform(data)\n",
    "    \n",
    "    return data\n",
    "\n",
    "#scales the data\n",
    "#Another known method is MinMaxScaler()"
   ]
  },
  {
   "cell_type": "code",
   "execution_count": null,
   "metadata": {},
   "outputs": [],
   "source": []
  },
  {
   "cell_type": "markdown",
   "metadata": {},
   "source": [
    "Regression Model "
   ]
  },
  {
   "cell_type": "code",
   "execution_count": 7,
   "metadata": {},
   "outputs": [],
   "source": [
    "def regression_call(features, target):\n",
    "    \n",
    "    x_train, x_test, y_train, y_test = train_test_split(features, target, test_size = 0.25, random_state = 42)\n",
    "    #splits dataset for training and testing (75:25)\n",
    "    \n",
    "    x_train = data_scaling(x_train)\n",
    "    \n",
    "    x_test = data_scaling(x_test)\n",
    "    #we apply data scaling separately to test and train dataset \n",
    "    #To avoid leakage of information for unbiased model results\n",
    "    \n",
    "    machineLearningModel = LinearRegression()\n",
    "    \n",
    "    machineLearningModel.fit(x_train, y_train)\n",
    "    \n",
    "    y_pred = machineLearningModel.predict(x_test)\n",
    "    \n",
    "    rSquared = machineLearningModel.score(x_test, y_test)\n",
    "    \n",
    "    rootMeanSquaredError = mean_squared_error(y_test, y_pred, squared = False)\n",
    "    \n",
    "    return rSquared, rootMeanSquaredError\n",
    "   \n",
    "#we run the regression model and return the R-Squared and Root Mean Squared error values..."
   ]
  },
  {
   "cell_type": "code",
   "execution_count": null,
   "metadata": {},
   "outputs": [],
   "source": []
  }
 ],
 "metadata": {
  "kernelspec": {
   "display_name": "Python 3",
   "language": "python",
   "name": "python3"
  },
  "language_info": {
   "codemirror_mode": {
    "name": "ipython",
    "version": 3
   },
   "file_extension": ".py",
   "mimetype": "text/x-python",
   "name": "python",
   "nbconvert_exporter": "python",
   "pygments_lexer": "ipython3",
   "version": "3.7.6"
  }
 },
 "nbformat": 4,
 "nbformat_minor": 4
}
