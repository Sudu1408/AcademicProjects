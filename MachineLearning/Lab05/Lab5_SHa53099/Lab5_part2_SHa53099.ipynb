{
 "cells": [
  {
   "cell_type": "markdown",
   "metadata": {},
   "source": [
    "# Lab 05 - Part 2\n",
    "\n",
    "### Sudarsan Haridas\n",
    "\n",
    "### 300353099"
   ]
  },
  {
   "cell_type": "markdown",
   "metadata": {},
   "source": []
  },
  {
   "cell_type": "markdown",
   "metadata": {},
   "source": [
    "**LOAD THE PYTHON LIBRARIES**"
   ]
  },
  {
   "cell_type": "code",
   "execution_count": 1,
   "metadata": {},
   "outputs": [
    {
     "name": "stderr",
     "output_type": "stream",
     "text": [
      "2023-08-08 16:55:05.657834: I tensorflow/core/platform/cpu_feature_guard.cc:182] This TensorFlow binary is optimized to use available CPU instructions in performance-critical operations.\n",
      "To enable the following instructions: AVX2 FMA, in other operations, rebuild TensorFlow with the appropriate compiler flags.\n"
     ]
    }
   ],
   "source": [
    "import numpy as np\n",
    "import pandas as pd\n",
    "\n",
    "import seaborn as sns\n",
    "import matplotlib.pyplot as plt\n",
    "\n",
    "from sklearn.model_selection import train_test_split\n",
    "\n",
    "import tensorflow as tf\n",
    "from tensorflow import keras\n",
    "from tensorflow.keras import layers\n",
    "\n",
    "from sklearn.metrics import confusion_matrix, classification_report\n",
    "\n",
    "#import and load the necessary libraries..."
   ]
  },
  {
   "cell_type": "code",
   "execution_count": null,
   "metadata": {},
   "outputs": [],
   "source": []
  },
  {
   "cell_type": "code",
   "execution_count": null,
   "metadata": {},
   "outputs": [],
   "source": []
  },
  {
   "cell_type": "markdown",
   "metadata": {},
   "source": [
    "**READ THE DATA**"
   ]
  },
  {
   "cell_type": "code",
   "execution_count": 2,
   "metadata": {},
   "outputs": [],
   "source": [
    "df = pd.read_csv('Lab5_user_behaviour.csv')\n",
    "\n",
    "df_copy = df.copy()\n",
    "\n",
    "#reading the data and creating a copy of the original..."
   ]
  },
  {
   "cell_type": "code",
   "execution_count": 3,
   "metadata": {},
   "outputs": [
    {
     "data": {
      "text/html": [
       "<div>\n",
       "<style scoped>\n",
       "    .dataframe tbody tr th:only-of-type {\n",
       "        vertical-align: middle;\n",
       "    }\n",
       "\n",
       "    .dataframe tbody tr th {\n",
       "        vertical-align: top;\n",
       "    }\n",
       "\n",
       "    .dataframe thead th {\n",
       "        text-align: right;\n",
       "    }\n",
       "</style>\n",
       "<table border=\"1\" class=\"dataframe\">\n",
       "  <thead>\n",
       "    <tr style=\"text-align: right;\">\n",
       "      <th></th>\n",
       "      <th>inter_api_access_duration(sec)</th>\n",
       "      <th>api_access_uniqueness</th>\n",
       "      <th>sequence_length(count)</th>\n",
       "      <th>vsession_duration(min)</th>\n",
       "      <th>ip_type</th>\n",
       "      <th>num_sessions</th>\n",
       "      <th>num_users</th>\n",
       "      <th>num_unique_apis</th>\n",
       "      <th>source</th>\n",
       "      <th>classification</th>\n",
       "    </tr>\n",
       "  </thead>\n",
       "  <tbody>\n",
       "    <tr>\n",
       "      <th>0</th>\n",
       "      <td>7.010387</td>\n",
       "      <td>0.419355</td>\n",
       "      <td>31.0</td>\n",
       "      <td>13040</td>\n",
       "      <td>default</td>\n",
       "      <td>1</td>\n",
       "      <td>1</td>\n",
       "      <td>13</td>\n",
       "      <td>E</td>\n",
       "      <td>1</td>\n",
       "    </tr>\n",
       "    <tr>\n",
       "      <th>1</th>\n",
       "      <td>51.419393</td>\n",
       "      <td>0.252336</td>\n",
       "      <td>107.0</td>\n",
       "      <td>330113</td>\n",
       "      <td>default</td>\n",
       "      <td>1</td>\n",
       "      <td>1</td>\n",
       "      <td>27</td>\n",
       "      <td>E</td>\n",
       "      <td>1</td>\n",
       "    </tr>\n",
       "    <tr>\n",
       "      <th>2</th>\n",
       "      <td>25.860775</td>\n",
       "      <td>0.275000</td>\n",
       "      <td>40.0</td>\n",
       "      <td>62066</td>\n",
       "      <td>default</td>\n",
       "      <td>1</td>\n",
       "      <td>1</td>\n",
       "      <td>11</td>\n",
       "      <td>E</td>\n",
       "      <td>1</td>\n",
       "    </tr>\n",
       "    <tr>\n",
       "      <th>3</th>\n",
       "      <td>0.205909</td>\n",
       "      <td>0.818182</td>\n",
       "      <td>11.0</td>\n",
       "      <td>136</td>\n",
       "      <td>default</td>\n",
       "      <td>1</td>\n",
       "      <td>1</td>\n",
       "      <td>9</td>\n",
       "      <td>E</td>\n",
       "      <td>1</td>\n",
       "    </tr>\n",
       "    <tr>\n",
       "      <th>4</th>\n",
       "      <td>0.122125</td>\n",
       "      <td>0.812500</td>\n",
       "      <td>16.0</td>\n",
       "      <td>118</td>\n",
       "      <td>default</td>\n",
       "      <td>1</td>\n",
       "      <td>1</td>\n",
       "      <td>13</td>\n",
       "      <td>E</td>\n",
       "      <td>1</td>\n",
       "    </tr>\n",
       "  </tbody>\n",
       "</table>\n",
       "</div>"
      ],
      "text/plain": [
       "   inter_api_access_duration(sec)  api_access_uniqueness  \\\n",
       "0                        7.010387               0.419355   \n",
       "1                       51.419393               0.252336   \n",
       "2                       25.860775               0.275000   \n",
       "3                        0.205909               0.818182   \n",
       "4                        0.122125               0.812500   \n",
       "\n",
       "   sequence_length(count)  vsession_duration(min)  ip_type  num_sessions  \\\n",
       "0                    31.0                   13040  default             1   \n",
       "1                   107.0                  330113  default             1   \n",
       "2                    40.0                   62066  default             1   \n",
       "3                    11.0                     136  default             1   \n",
       "4                    16.0                     118  default             1   \n",
       "\n",
       "   num_users  num_unique_apis source  classification  \n",
       "0          1               13      E               1  \n",
       "1          1               27      E               1  \n",
       "2          1               11      E               1  \n",
       "3          1                9      E               1  \n",
       "4          1               13      E               1  "
      ]
     },
     "execution_count": 3,
     "metadata": {},
     "output_type": "execute_result"
    }
   ],
   "source": [
    "df.head()\n",
    "\n",
    "#peeking into the data..."
   ]
  },
  {
   "cell_type": "code",
   "execution_count": 4,
   "metadata": {},
   "outputs": [
    {
     "data": {
      "text/plain": [
       "1    24734\n",
       "0    10052\n",
       "2     1309\n",
       "3       22\n",
       "Name: classification, dtype: int64"
      ]
     },
     "execution_count": 4,
     "metadata": {},
     "output_type": "execute_result"
    }
   ],
   "source": [
    "df.classification.value_counts()\n",
    "\n",
    "#check unique values and value counts of target..."
   ]
  },
  {
   "cell_type": "code",
   "execution_count": null,
   "metadata": {},
   "outputs": [],
   "source": []
  },
  {
   "cell_type": "code",
   "execution_count": null,
   "metadata": {},
   "outputs": [],
   "source": []
  },
  {
   "cell_type": "markdown",
   "metadata": {},
   "source": [
    "**DROP THE UNNEEDED DATA**"
   ]
  },
  {
   "cell_type": "code",
   "execution_count": 5,
   "metadata": {},
   "outputs": [
    {
     "name": "stdout",
     "output_type": "stream",
     "text": [
      "<class 'pandas.core.frame.DataFrame'>\n",
      "RangeIndex: 36117 entries, 0 to 36116\n",
      "Data columns (total 10 columns):\n",
      " #   Column                          Non-Null Count  Dtype  \n",
      "---  ------                          --------------  -----  \n",
      " 0   inter_api_access_duration(sec)  36117 non-null  float64\n",
      " 1   api_access_uniqueness           36117 non-null  float64\n",
      " 2   sequence_length(count)          36117 non-null  float64\n",
      " 3   vsession_duration(min)          36117 non-null  int64  \n",
      " 4   ip_type                         36117 non-null  object \n",
      " 5   num_sessions                    36117 non-null  int64  \n",
      " 6   num_users                       36117 non-null  int64  \n",
      " 7   num_unique_apis                 36117 non-null  int64  \n",
      " 8   source                          36117 non-null  object \n",
      " 9   classification                  36117 non-null  int64  \n",
      "dtypes: float64(3), int64(5), object(2)\n",
      "memory usage: 2.8+ MB\n"
     ]
    }
   ],
   "source": [
    "df.info()\n",
    "\n",
    "#To check data type and number of null values in each column.."
   ]
  },
  {
   "cell_type": "markdown",
   "metadata": {},
   "source": [
    "    - There are no null values to drop..."
   ]
  },
  {
   "cell_type": "code",
   "execution_count": null,
   "metadata": {},
   "outputs": [],
   "source": []
  },
  {
   "cell_type": "code",
   "execution_count": null,
   "metadata": {},
   "outputs": [],
   "source": []
  },
  {
   "cell_type": "markdown",
   "metadata": {},
   "source": [
    "**CREATE DUMMY VALUES**"
   ]
  },
  {
   "cell_type": "code",
   "execution_count": 6,
   "metadata": {},
   "outputs": [],
   "source": [
    "df = pd.get_dummies(df, drop_first = True)\n",
    "\n",
    "#create dummies and drop reference column..."
   ]
  },
  {
   "cell_type": "code",
   "execution_count": 7,
   "metadata": {},
   "outputs": [
    {
     "data": {
      "text/html": [
       "<div>\n",
       "<style scoped>\n",
       "    .dataframe tbody tr th:only-of-type {\n",
       "        vertical-align: middle;\n",
       "    }\n",
       "\n",
       "    .dataframe tbody tr th {\n",
       "        vertical-align: top;\n",
       "    }\n",
       "\n",
       "    .dataframe thead th {\n",
       "        text-align: right;\n",
       "    }\n",
       "</style>\n",
       "<table border=\"1\" class=\"dataframe\">\n",
       "  <thead>\n",
       "    <tr style=\"text-align: right;\">\n",
       "      <th></th>\n",
       "      <th>inter_api_access_duration(sec)</th>\n",
       "      <th>api_access_uniqueness</th>\n",
       "      <th>sequence_length(count)</th>\n",
       "      <th>vsession_duration(min)</th>\n",
       "      <th>num_sessions</th>\n",
       "      <th>num_users</th>\n",
       "      <th>num_unique_apis</th>\n",
       "      <th>classification</th>\n",
       "      <th>ip_type_default</th>\n",
       "      <th>ip_type_google_bot</th>\n",
       "      <th>ip_type_private_ip</th>\n",
       "      <th>source_F</th>\n",
       "    </tr>\n",
       "  </thead>\n",
       "  <tbody>\n",
       "    <tr>\n",
       "      <th>0</th>\n",
       "      <td>7.010387</td>\n",
       "      <td>0.419355</td>\n",
       "      <td>31.0</td>\n",
       "      <td>13040</td>\n",
       "      <td>1</td>\n",
       "      <td>1</td>\n",
       "      <td>13</td>\n",
       "      <td>1</td>\n",
       "      <td>1</td>\n",
       "      <td>0</td>\n",
       "      <td>0</td>\n",
       "      <td>0</td>\n",
       "    </tr>\n",
       "    <tr>\n",
       "      <th>1</th>\n",
       "      <td>51.419393</td>\n",
       "      <td>0.252336</td>\n",
       "      <td>107.0</td>\n",
       "      <td>330113</td>\n",
       "      <td>1</td>\n",
       "      <td>1</td>\n",
       "      <td>27</td>\n",
       "      <td>1</td>\n",
       "      <td>1</td>\n",
       "      <td>0</td>\n",
       "      <td>0</td>\n",
       "      <td>0</td>\n",
       "    </tr>\n",
       "    <tr>\n",
       "      <th>2</th>\n",
       "      <td>25.860775</td>\n",
       "      <td>0.275000</td>\n",
       "      <td>40.0</td>\n",
       "      <td>62066</td>\n",
       "      <td>1</td>\n",
       "      <td>1</td>\n",
       "      <td>11</td>\n",
       "      <td>1</td>\n",
       "      <td>1</td>\n",
       "      <td>0</td>\n",
       "      <td>0</td>\n",
       "      <td>0</td>\n",
       "    </tr>\n",
       "    <tr>\n",
       "      <th>3</th>\n",
       "      <td>0.205909</td>\n",
       "      <td>0.818182</td>\n",
       "      <td>11.0</td>\n",
       "      <td>136</td>\n",
       "      <td>1</td>\n",
       "      <td>1</td>\n",
       "      <td>9</td>\n",
       "      <td>1</td>\n",
       "      <td>1</td>\n",
       "      <td>0</td>\n",
       "      <td>0</td>\n",
       "      <td>0</td>\n",
       "    </tr>\n",
       "    <tr>\n",
       "      <th>4</th>\n",
       "      <td>0.122125</td>\n",
       "      <td>0.812500</td>\n",
       "      <td>16.0</td>\n",
       "      <td>118</td>\n",
       "      <td>1</td>\n",
       "      <td>1</td>\n",
       "      <td>13</td>\n",
       "      <td>1</td>\n",
       "      <td>1</td>\n",
       "      <td>0</td>\n",
       "      <td>0</td>\n",
       "      <td>0</td>\n",
       "    </tr>\n",
       "  </tbody>\n",
       "</table>\n",
       "</div>"
      ],
      "text/plain": [
       "   inter_api_access_duration(sec)  api_access_uniqueness  \\\n",
       "0                        7.010387               0.419355   \n",
       "1                       51.419393               0.252336   \n",
       "2                       25.860775               0.275000   \n",
       "3                        0.205909               0.818182   \n",
       "4                        0.122125               0.812500   \n",
       "\n",
       "   sequence_length(count)  vsession_duration(min)  num_sessions  num_users  \\\n",
       "0                    31.0                   13040             1          1   \n",
       "1                   107.0                  330113             1          1   \n",
       "2                    40.0                   62066             1          1   \n",
       "3                    11.0                     136             1          1   \n",
       "4                    16.0                     118             1          1   \n",
       "\n",
       "   num_unique_apis  classification  ip_type_default  ip_type_google_bot  \\\n",
       "0               13               1                1                   0   \n",
       "1               27               1                1                   0   \n",
       "2               11               1                1                   0   \n",
       "3                9               1                1                   0   \n",
       "4               13               1                1                   0   \n",
       "\n",
       "   ip_type_private_ip  source_F  \n",
       "0                   0         0  \n",
       "1                   0         0  \n",
       "2                   0         0  \n",
       "3                   0         0  \n",
       "4                   0         0  "
      ]
     },
     "execution_count": 7,
     "metadata": {},
     "output_type": "execute_result"
    }
   ],
   "source": [
    "df.head()\n",
    "\n",
    "#check df..."
   ]
  },
  {
   "cell_type": "code",
   "execution_count": null,
   "metadata": {},
   "outputs": [],
   "source": []
  },
  {
   "cell_type": "code",
   "execution_count": null,
   "metadata": {},
   "outputs": [],
   "source": []
  },
  {
   "cell_type": "markdown",
   "metadata": {},
   "source": [
    "**PREPARE FEATURES AND TARGET VARIABLE**"
   ]
  },
  {
   "cell_type": "code",
   "execution_count": 8,
   "metadata": {},
   "outputs": [],
   "source": [
    "target = df.classification\n",
    "\n",
    "features = df.drop('classification', axis = 1)\n",
    "\n",
    "#split features and target..."
   ]
  },
  {
   "cell_type": "code",
   "execution_count": 9,
   "metadata": {},
   "outputs": [],
   "source": [
    "x_train, x_test, y_train, y_test = train_test_split(features, target, test_size = 0.25, random_state = 99)\n",
    "\n",
    "#split training and testing data with 25% of data as test data..."
   ]
  },
  {
   "cell_type": "code",
   "execution_count": null,
   "metadata": {},
   "outputs": [],
   "source": []
  },
  {
   "cell_type": "code",
   "execution_count": null,
   "metadata": {},
   "outputs": [],
   "source": []
  },
  {
   "cell_type": "markdown",
   "metadata": {},
   "source": [
    "**PREPARE NORMALIZATION LAYER**"
   ]
  },
  {
   "cell_type": "code",
   "execution_count": 10,
   "metadata": {},
   "outputs": [],
   "source": [
    "norm_layer = layers.Normalization(axis = -1)\n",
    "\n",
    "norm_layer.adapt(x_train)\n",
    "\n",
    "#create a normalization layer and train with training data..."
   ]
  },
  {
   "cell_type": "code",
   "execution_count": null,
   "metadata": {},
   "outputs": [],
   "source": []
  },
  {
   "cell_type": "code",
   "execution_count": null,
   "metadata": {},
   "outputs": [],
   "source": []
  },
  {
   "cell_type": "markdown",
   "metadata": {},
   "source": [
    "**DNN SEQUENTIAL MODEL**"
   ]
  },
  {
   "cell_type": "code",
   "execution_count": 11,
   "metadata": {},
   "outputs": [],
   "source": [
    "dnn_seq_model = keras.Sequential(\n",
    "[\n",
    "    norm_layer,\n",
    "    layers.Dense(64, activation = 'relu'),\n",
    "    layers.Dense(32, activation = 'relu'),\n",
    "    layers.Dense(4, activation = 'softmax')\n",
    "]\n",
    ")\n",
    "\n",
    "#create a DNN model as specified.."
   ]
  },
  {
   "cell_type": "code",
   "execution_count": null,
   "metadata": {},
   "outputs": [],
   "source": []
  },
  {
   "cell_type": "code",
   "execution_count": null,
   "metadata": {},
   "outputs": [],
   "source": []
  },
  {
   "cell_type": "markdown",
   "metadata": {},
   "source": [
    "**COMPILE THE MODEL AND DISPLAY SUMMARY**"
   ]
  },
  {
   "cell_type": "code",
   "execution_count": 12,
   "metadata": {},
   "outputs": [],
   "source": [
    "dnn_seq_model.compile(loss = 'sparse_categorical_crossentropy',\n",
    "                      optimizer = 'sgd',\n",
    "                     metrics = 'accuracy')\n",
    "\n",
    "#compile the model..."
   ]
  },
  {
   "cell_type": "code",
   "execution_count": 13,
   "metadata": {},
   "outputs": [
    {
     "name": "stdout",
     "output_type": "stream",
     "text": [
      "Model: \"sequential\"\n",
      "_________________________________________________________________\n",
      " Layer (type)                Output Shape              Param #   \n",
      "=================================================================\n",
      " normalization (Normalizati  (None, 11)                23        \n",
      " on)                                                             \n",
      "                                                                 \n",
      " dense (Dense)               (None, 64)                768       \n",
      "                                                                 \n",
      " dense_1 (Dense)             (None, 32)                2080      \n",
      "                                                                 \n",
      " dense_2 (Dense)             (None, 4)                 132       \n",
      "                                                                 \n",
      "=================================================================\n",
      "Total params: 3003 (11.73 KB)\n",
      "Trainable params: 2980 (11.64 KB)\n",
      "Non-trainable params: 23 (96.00 Byte)\n",
      "_________________________________________________________________\n"
     ]
    }
   ],
   "source": [
    "dnn_seq_model.summary()\n",
    "\n",
    "#summary of the model..."
   ]
  },
  {
   "cell_type": "code",
   "execution_count": null,
   "metadata": {},
   "outputs": [],
   "source": []
  },
  {
   "cell_type": "code",
   "execution_count": null,
   "metadata": {},
   "outputs": [],
   "source": []
  },
  {
   "cell_type": "markdown",
   "metadata": {},
   "source": [
    "**FIT, EVALUATE AND PLOT THE EPOCH ACCURACY**"
   ]
  },
  {
   "cell_type": "markdown",
   "metadata": {},
   "source": [
    "    - Good number for epochs to start is 3x number of columns in the dataset...\n",
    "    - if model accuracy is increasing, increase epochs..."
   ]
  },
  {
   "cell_type": "code",
   "execution_count": 14,
   "metadata": {
    "scrolled": false
   },
   "outputs": [
    {
     "name": "stdout",
     "output_type": "stream",
     "text": [
      "Epoch 1/75\n",
      "271/271 [==============================] - 1s 1ms/step - loss: 0.7223 - accuracy: 0.8330\n",
      "Epoch 2/75\n",
      "271/271 [==============================] - 0s 1ms/step - loss: 0.4171 - accuracy: 0.8705\n",
      "Epoch 3/75\n",
      "271/271 [==============================] - 0s 1ms/step - loss: 0.3718 - accuracy: 0.8728\n",
      "Epoch 4/75\n",
      "271/271 [==============================] - 0s 1ms/step - loss: 0.3480 - accuracy: 0.8750\n",
      "Epoch 5/75\n",
      "271/271 [==============================] - 0s 1ms/step - loss: 0.3310 - accuracy: 0.8770\n",
      "Epoch 6/75\n",
      "271/271 [==============================] - 0s 1ms/step - loss: 0.3175 - accuracy: 0.8789\n",
      "Epoch 7/75\n",
      "271/271 [==============================] - 0s 1ms/step - loss: 0.3053 - accuracy: 0.8804\n",
      "Epoch 8/75\n",
      "271/271 [==============================] - 0s 1ms/step - loss: 0.2954 - accuracy: 0.8837\n",
      "Epoch 9/75\n",
      "271/271 [==============================] - 0s 1ms/step - loss: 0.2870 - accuracy: 0.8858\n",
      "Epoch 10/75\n",
      "271/271 [==============================] - 0s 1ms/step - loss: 0.2795 - accuracy: 0.8884\n",
      "Epoch 11/75\n",
      "271/271 [==============================] - 0s 1ms/step - loss: 0.2729 - accuracy: 0.8895\n",
      "Epoch 12/75\n",
      "271/271 [==============================] - 0s 1ms/step - loss: 0.2668 - accuracy: 0.8914\n",
      "Epoch 13/75\n",
      "271/271 [==============================] - 0s 1ms/step - loss: 0.2609 - accuracy: 0.8921\n",
      "Epoch 14/75\n",
      "271/271 [==============================] - 0s 1ms/step - loss: 0.2555 - accuracy: 0.8932\n",
      "Epoch 15/75\n",
      "271/271 [==============================] - 0s 1ms/step - loss: 0.2500 - accuracy: 0.8957\n",
      "Epoch 16/75\n",
      "271/271 [==============================] - 0s 1ms/step - loss: 0.2450 - accuracy: 0.8978\n",
      "Epoch 17/75\n",
      "271/271 [==============================] - 0s 1ms/step - loss: 0.2402 - accuracy: 0.9005\n",
      "Epoch 18/75\n",
      "271/271 [==============================] - 0s 1ms/step - loss: 0.2356 - accuracy: 0.9033\n",
      "Epoch 19/75\n",
      "271/271 [==============================] - 0s 1ms/step - loss: 0.2312 - accuracy: 0.9063\n",
      "Epoch 20/75\n",
      "271/271 [==============================] - 0s 1ms/step - loss: 0.2270 - accuracy: 0.9086\n",
      "Epoch 21/75\n",
      "271/271 [==============================] - 0s 1ms/step - loss: 0.2230 - accuracy: 0.9122\n",
      "Epoch 22/75\n",
      "271/271 [==============================] - 0s 1ms/step - loss: 0.2190 - accuracy: 0.9151\n",
      "Epoch 23/75\n",
      "271/271 [==============================] - 0s 1ms/step - loss: 0.2150 - accuracy: 0.9185\n",
      "Epoch 24/75\n",
      "271/271 [==============================] - 0s 1ms/step - loss: 0.2111 - accuracy: 0.9209\n",
      "Epoch 25/75\n",
      "271/271 [==============================] - 0s 1ms/step - loss: 0.2075 - accuracy: 0.9244\n",
      "Epoch 26/75\n",
      "271/271 [==============================] - 0s 1ms/step - loss: 0.2037 - accuracy: 0.9253\n",
      "Epoch 27/75\n",
      "271/271 [==============================] - 0s 1ms/step - loss: 0.2000 - accuracy: 0.9281\n",
      "Epoch 28/75\n",
      "271/271 [==============================] - 0s 2ms/step - loss: 0.1967 - accuracy: 0.9297\n",
      "Epoch 29/75\n",
      "271/271 [==============================] - 0s 2ms/step - loss: 0.1933 - accuracy: 0.9317\n",
      "Epoch 30/75\n",
      "271/271 [==============================] - 0s 1ms/step - loss: 0.1898 - accuracy: 0.9333\n",
      "Epoch 31/75\n",
      "271/271 [==============================] - 0s 1ms/step - loss: 0.1865 - accuracy: 0.9351\n",
      "Epoch 32/75\n",
      "271/271 [==============================] - 0s 1ms/step - loss: 0.1832 - accuracy: 0.9366\n",
      "Epoch 33/75\n",
      "271/271 [==============================] - 0s 1ms/step - loss: 0.1801 - accuracy: 0.9381\n",
      "Epoch 34/75\n",
      "271/271 [==============================] - 0s 1ms/step - loss: 0.1773 - accuracy: 0.9388\n",
      "Epoch 35/75\n",
      "271/271 [==============================] - 0s 1ms/step - loss: 0.1743 - accuracy: 0.9407\n",
      "Epoch 36/75\n",
      "271/271 [==============================] - 0s 1ms/step - loss: 0.1713 - accuracy: 0.9421\n",
      "Epoch 37/75\n",
      "271/271 [==============================] - 0s 1ms/step - loss: 0.1686 - accuracy: 0.9436\n",
      "Epoch 38/75\n",
      "271/271 [==============================] - 0s 1ms/step - loss: 0.1657 - accuracy: 0.9447\n",
      "Epoch 39/75\n",
      "271/271 [==============================] - 0s 1ms/step - loss: 0.1629 - accuracy: 0.9461\n",
      "Epoch 40/75\n",
      "271/271 [==============================] - 0s 1ms/step - loss: 0.1604 - accuracy: 0.9474\n",
      "Epoch 41/75\n",
      "271/271 [==============================] - 0s 1ms/step - loss: 0.1578 - accuracy: 0.9487\n",
      "Epoch 42/75\n",
      "271/271 [==============================] - 0s 1ms/step - loss: 0.1553 - accuracy: 0.9498\n",
      "Epoch 43/75\n",
      "271/271 [==============================] - 0s 1ms/step - loss: 0.1528 - accuracy: 0.9509\n",
      "Epoch 44/75\n",
      "271/271 [==============================] - 0s 1ms/step - loss: 0.1507 - accuracy: 0.9518\n",
      "Epoch 45/75\n",
      "271/271 [==============================] - 0s 1ms/step - loss: 0.1483 - accuracy: 0.9532\n",
      "Epoch 46/75\n",
      "271/271 [==============================] - 0s 1ms/step - loss: 0.1460 - accuracy: 0.9532\n",
      "Epoch 47/75\n",
      "271/271 [==============================] - 0s 1ms/step - loss: 0.1438 - accuracy: 0.9548\n",
      "Epoch 48/75\n",
      "271/271 [==============================] - 0s 1ms/step - loss: 0.1415 - accuracy: 0.9556\n",
      "Epoch 49/75\n",
      "271/271 [==============================] - 0s 1ms/step - loss: 0.1395 - accuracy: 0.9570\n",
      "Epoch 50/75\n",
      "271/271 [==============================] - 0s 1ms/step - loss: 0.1375 - accuracy: 0.9575\n",
      "Epoch 51/75\n",
      "271/271 [==============================] - 0s 1ms/step - loss: 0.1353 - accuracy: 0.9593\n",
      "Epoch 52/75\n",
      "271/271 [==============================] - 0s 1ms/step - loss: 0.1335 - accuracy: 0.9590\n",
      "Epoch 53/75\n",
      "271/271 [==============================] - 0s 1ms/step - loss: 0.1314 - accuracy: 0.9604\n",
      "Epoch 54/75\n",
      "271/271 [==============================] - 0s 2ms/step - loss: 0.1299 - accuracy: 0.9606\n",
      "Epoch 55/75\n",
      "271/271 [==============================] - 0s 1ms/step - loss: 0.1278 - accuracy: 0.9613\n",
      "Epoch 56/75\n",
      "271/271 [==============================] - 0s 2ms/step - loss: 0.1263 - accuracy: 0.9620\n",
      "Epoch 57/75\n",
      "271/271 [==============================] - 0s 1ms/step - loss: 0.1242 - accuracy: 0.9637\n",
      "Epoch 58/75\n",
      "271/271 [==============================] - 0s 1ms/step - loss: 0.1227 - accuracy: 0.9631\n",
      "Epoch 59/75\n",
      "271/271 [==============================] - 0s 1ms/step - loss: 0.1210 - accuracy: 0.9645\n",
      "Epoch 60/75\n",
      "271/271 [==============================] - 0s 1ms/step - loss: 0.1196 - accuracy: 0.9655\n",
      "Epoch 61/75\n",
      "271/271 [==============================] - 0s 1ms/step - loss: 0.1180 - accuracy: 0.9657\n",
      "Epoch 62/75\n",
      "271/271 [==============================] - 0s 1ms/step - loss: 0.1166 - accuracy: 0.9661\n",
      "Epoch 63/75\n",
      "271/271 [==============================] - 0s 1ms/step - loss: 0.1152 - accuracy: 0.9671\n",
      "Epoch 64/75\n",
      "271/271 [==============================] - 0s 1ms/step - loss: 0.1138 - accuracy: 0.9668\n",
      "Epoch 65/75\n",
      "271/271 [==============================] - 0s 2ms/step - loss: 0.1122 - accuracy: 0.9685\n",
      "Epoch 66/75\n",
      "271/271 [==============================] - 0s 2ms/step - loss: 0.1108 - accuracy: 0.9683\n",
      "Epoch 67/75\n",
      "271/271 [==============================] - 0s 1ms/step - loss: 0.1093 - accuracy: 0.9691\n",
      "Epoch 68/75\n",
      "271/271 [==============================] - 0s 1ms/step - loss: 0.1082 - accuracy: 0.9691\n",
      "Epoch 69/75\n",
      "271/271 [==============================] - 0s 1ms/step - loss: 0.1072 - accuracy: 0.9696\n",
      "Epoch 70/75\n",
      "271/271 [==============================] - 0s 1ms/step - loss: 0.1055 - accuracy: 0.9699\n",
      "Epoch 71/75\n",
      "271/271 [==============================] - 0s 1ms/step - loss: 0.1044 - accuracy: 0.9698\n",
      "Epoch 72/75\n",
      "271/271 [==============================] - 0s 1ms/step - loss: 0.1033 - accuracy: 0.9704\n",
      "Epoch 73/75\n",
      "271/271 [==============================] - 0s 1ms/step - loss: 0.1018 - accuracy: 0.9710\n",
      "Epoch 74/75\n",
      "271/271 [==============================] - 0s 1ms/step - loss: 0.1011 - accuracy: 0.9716\n",
      "Epoch 75/75\n",
      "271/271 [==============================] - 0s 1ms/step - loss: 0.0999 - accuracy: 0.9715\n"
     ]
    }
   ],
   "source": [
    "dnn_seq_model_data = dnn_seq_model.fit(x_train, y_train, epochs = 75, batch_size = 100)\n",
    "\n",
    "#fit the dnn model"
   ]
  },
  {
   "cell_type": "markdown",
   "metadata": {},
   "source": [
    "    - The model has attained a good accuracy score..."
   ]
  },
  {
   "cell_type": "code",
   "execution_count": 15,
   "metadata": {},
   "outputs": [
    {
     "name": "stdout",
     "output_type": "stream",
     "text": [
      "283/283 [==============================] - 0s 944us/step - loss: 0.1019 - accuracy: 0.9707\n"
     ]
    },
    {
     "data": {
      "text/plain": [
       "[0.10190603882074356, 0.9706533551216125]"
      ]
     },
     "execution_count": 15,
     "metadata": {},
     "output_type": "execute_result"
    }
   ],
   "source": [
    "dnn_seq_model.evaluate(x_test, y_test)\n",
    "\n",
    "#evaluate the model with test data..."
   ]
  },
  {
   "cell_type": "code",
   "execution_count": 16,
   "metadata": {},
   "outputs": [
    {
     "data": {
      "text/plain": [
       "Text(0.5, 1.0, 'Increase in Accuracy score')"
      ]
     },
     "execution_count": 16,
     "metadata": {},
     "output_type": "execute_result"
    },
    {
     "data": {
      "image/png": "[encoded data removed]",
      "text/plain": [
       "<Figure size 1000x700 with 1 Axes>"
      ]
     },
     "metadata": {},
     "output_type": "display_data"
    }
   ],
   "source": [
    "plt.figure(figsize = (10,7))\n",
    "plt.plot(dnn_seq_model_data.history['accuracy'], label = 'Accuracy')\n",
    "plt.xlabel('Epochs')\n",
    "plt.ylabel('Accuracy')\n",
    "plt.title('Increase in Accuracy score')\n",
    "\n",
    "#Plot epoch accuracy of model.."
   ]
  },
  {
   "cell_type": "code",
   "execution_count": null,
   "metadata": {},
   "outputs": [],
   "source": []
  },
  {
   "cell_type": "code",
   "execution_count": null,
   "metadata": {},
   "outputs": [],
   "source": []
  },
  {
   "cell_type": "markdown",
   "metadata": {},
   "source": [
    "**MAKE PREDICTTION, PLOT CONFUSION MATRIX AND PROVIDE CLASSIFICATION REPORT**"
   ]
  },
  {
   "cell_type": "code",
   "execution_count": 17,
   "metadata": {},
   "outputs": [
    {
     "name": "stdout",
     "output_type": "stream",
     "text": [
      "283/283 [==============================] - 0s 1ms/step\n"
     ]
    }
   ],
   "source": [
    "y_pred = np.argmax(dnn_seq_model.predict(x_test), axis = 1)\n",
    "\n",
    "#predict using the model...\n",
    "#argmax as 'softmax' activation in output layer provides probability of a class and not class..."
   ]
  },
  {
   "cell_type": "code",
   "execution_count": 18,
   "metadata": {
    "scrolled": false
   },
   "outputs": [
    {
     "data": {
      "text/plain": [
       "<Axes: xlabel='Predicted Class', ylabel='Actual Class'>"
      ]
     },
     "execution_count": 18,
     "metadata": {},
     "output_type": "execute_result"
    },
    {
     "data": {
      "image/png": "[encoded data removed]",
      "text/plain": [
       "<Figure size 800x800 with 1 Axes>"
      ]
     },
     "metadata": {},
     "output_type": "display_data"
    }
   ],
   "source": [
    "confusion_matrix_df = pd.DataFrame(confusion_matrix(y_test, y_pred),\n",
    "                                  columns = np.unique(y_test),\n",
    "                                  index = np.unique(y_test))\n",
    "\n",
    "confusion_matrix_df.index.name = 'Actual Class'\n",
    "confusion_matrix_df.columns.name = 'Predicted Class'\n",
    "\n",
    "plt.figure(figsize = (8,8))\n",
    "\n",
    "sns.heatmap(confusion_matrix_df, annot = True, square = True,\n",
    "            vmax = 200, cbar = False, fmt = \"d\", cmap = 'Blues_r')\n",
    "\n",
    "#create a dataframe with confusion matrix...\n",
    "#Plot a heatmap to visualize it..."
   ]
  },
  {
   "cell_type": "code",
   "execution_count": 19,
   "metadata": {},
   "outputs": [
    {
     "name": "stdout",
     "output_type": "stream",
     "text": [
      "              precision    recall  f1-score   support\n",
      "\n",
      "           0       0.98      0.98      0.98      2545\n",
      "           1       0.97      0.99      0.98      6147\n",
      "           2       0.97      0.52      0.68       330\n",
      "           3       0.00      0.00      0.00         8\n",
      "\n",
      "    accuracy                           0.97      9030\n",
      "   macro avg       0.73      0.62      0.66      9030\n",
      "weighted avg       0.97      0.97      0.97      9030\n",
      "\n"
     ]
    }
   ],
   "source": [
    "print(classification_report(y_test, y_pred, zero_division = 0))\n",
    "\n",
    "#classification report..."
   ]
  },
  {
   "cell_type": "code",
   "execution_count": null,
   "metadata": {},
   "outputs": [],
   "source": []
  }
 ],
 "metadata": {
  "kernelspec": {
   "display_name": "Python 3 (ipykernel)",
   "language": "python",
   "name": "python3"
  },
  "language_info": {
   "codemirror_mode": {
    "name": "ipython",
    "version": 3
   },
   "file_extension": ".py",
   "mimetype": "text/x-python",
   "name": "python",
   "nbconvert_exporter": "python",
   "pygments_lexer": "ipython3",
   "version": "3.11.4"
  }
 },
 "nbformat": 4,
 "nbformat_minor": 4
}
