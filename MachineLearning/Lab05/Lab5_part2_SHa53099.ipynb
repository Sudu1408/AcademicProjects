{
 "cells": [
  {
   "cell_type": "markdown",
   "metadata": {},
   "source": [
    "# Lab 05 - Part 2\n",
    "\n",
    "### Sudarsan Haridas\n",
    "\n",
    "### 300353099"
   ]
  },
  {
   "cell_type": "markdown",
   "metadata": {},
   "source": []
  },
  {
   "cell_type": "markdown",
   "metadata": {},
   "source": [
    "**LOAD THE PYTHON LIBRARIES**"
   ]
  },
  {
   "cell_type": "code",
   "execution_count": 1,
   "metadata": {},
   "outputs": [
    {
     "name": "stderr",
     "output_type": "stream",
     "text": [
      "2023-08-08 22:27:45.284936: I tensorflow/core/platform/cpu_feature_guard.cc:182] This TensorFlow binary is optimized to use available CPU instructions in performance-critical operations.\n",
      "To enable the following instructions: AVX2 FMA, in other operations, rebuild TensorFlow with the appropriate compiler flags.\n"
     ]
    }
   ],
   "source": [
    "import numpy as np\n",
    "import pandas as pd\n",
    "\n",
    "import seaborn as sns\n",
    "import matplotlib.pyplot as plt\n",
    "\n",
    "from sklearn.model_selection import train_test_split\n",
    "\n",
    "import tensorflow as tf\n",
    "from tensorflow import keras\n",
    "from tensorflow.keras import layers\n",
    "\n",
    "from sklearn.metrics import confusion_matrix, classification_report\n",
    "\n",
    "#import and load the necessary libraries..."
   ]
  },
  {
   "cell_type": "code",
   "execution_count": null,
   "metadata": {},
   "outputs": [],
   "source": []
  },
  {
   "cell_type": "code",
   "execution_count": null,
   "metadata": {},
   "outputs": [],
   "source": []
  },
  {
   "cell_type": "markdown",
   "metadata": {},
   "source": [
    "**READ THE DATA**"
   ]
  },
  {
   "cell_type": "code",
   "execution_count": 2,
   "metadata": {},
   "outputs": [],
   "source": [
    "df = pd.read_csv('Lab5_user_behaviour.csv')\n",
    "\n",
    "df_copy = df.copy()\n",
    "\n",
    "#reading the data and creating a copy of the original..."
   ]
  },
  {
   "cell_type": "code",
   "execution_count": 3,
   "metadata": {},
   "outputs": [
    {
     "data": {
      "text/html": [
       "<div>\n",
       "<style scoped>\n",
       "    .dataframe tbody tr th:only-of-type {\n",
       "        vertical-align: middle;\n",
       "    }\n",
       "\n",
       "    .dataframe tbody tr th {\n",
       "        vertical-align: top;\n",
       "    }\n",
       "\n",
       "    .dataframe thead th {\n",
       "        text-align: right;\n",
       "    }\n",
       "</style>\n",
       "<table border=\"1\" class=\"dataframe\">\n",
       "  <thead>\n",
       "    <tr style=\"text-align: right;\">\n",
       "      <th></th>\n",
       "      <th>inter_api_access_duration(sec)</th>\n",
       "      <th>api_access_uniqueness</th>\n",
       "      <th>sequence_length(count)</th>\n",
       "      <th>vsession_duration(min)</th>\n",
       "      <th>ip_type</th>\n",
       "      <th>num_sessions</th>\n",
       "      <th>num_users</th>\n",
       "      <th>num_unique_apis</th>\n",
       "      <th>source</th>\n",
       "      <th>classification</th>\n",
       "    </tr>\n",
       "  </thead>\n",
       "  <tbody>\n",
       "    <tr>\n",
       "      <th>0</th>\n",
       "      <td>7.010387</td>\n",
       "      <td>0.419355</td>\n",
       "      <td>31.0</td>\n",
       "      <td>13040</td>\n",
       "      <td>default</td>\n",
       "      <td>1</td>\n",
       "      <td>1</td>\n",
       "      <td>13</td>\n",
       "      <td>E</td>\n",
       "      <td>1</td>\n",
       "    </tr>\n",
       "    <tr>\n",
       "      <th>1</th>\n",
       "      <td>51.419393</td>\n",
       "      <td>0.252336</td>\n",
       "      <td>107.0</td>\n",
       "      <td>330113</td>\n",
       "      <td>default</td>\n",
       "      <td>1</td>\n",
       "      <td>1</td>\n",
       "      <td>27</td>\n",
       "      <td>E</td>\n",
       "      <td>1</td>\n",
       "    </tr>\n",
       "    <tr>\n",
       "      <th>2</th>\n",
       "      <td>25.860775</td>\n",
       "      <td>0.275000</td>\n",
       "      <td>40.0</td>\n",
       "      <td>62066</td>\n",
       "      <td>default</td>\n",
       "      <td>1</td>\n",
       "      <td>1</td>\n",
       "      <td>11</td>\n",
       "      <td>E</td>\n",
       "      <td>1</td>\n",
       "    </tr>\n",
       "    <tr>\n",
       "      <th>3</th>\n",
       "      <td>0.205909</td>\n",
       "      <td>0.818182</td>\n",
       "      <td>11.0</td>\n",
       "      <td>136</td>\n",
       "      <td>default</td>\n",
       "      <td>1</td>\n",
       "      <td>1</td>\n",
       "      <td>9</td>\n",
       "      <td>E</td>\n",
       "      <td>1</td>\n",
       "    </tr>\n",
       "    <tr>\n",
       "      <th>4</th>\n",
       "      <td>0.122125</td>\n",
       "      <td>0.812500</td>\n",
       "      <td>16.0</td>\n",
       "      <td>118</td>\n",
       "      <td>default</td>\n",
       "      <td>1</td>\n",
       "      <td>1</td>\n",
       "      <td>13</td>\n",
       "      <td>E</td>\n",
       "      <td>1</td>\n",
       "    </tr>\n",
       "  </tbody>\n",
       "</table>\n",
       "</div>"
      ],
      "text/plain": [
       "   inter_api_access_duration(sec)  api_access_uniqueness  \\\n",
       "0                        7.010387               0.419355   \n",
       "1                       51.419393               0.252336   \n",
       "2                       25.860775               0.275000   \n",
       "3                        0.205909               0.818182   \n",
       "4                        0.122125               0.812500   \n",
       "\n",
       "   sequence_length(count)  vsession_duration(min)  ip_type  num_sessions  \\\n",
       "0                    31.0                   13040  default             1   \n",
       "1                   107.0                  330113  default             1   \n",
       "2                    40.0                   62066  default             1   \n",
       "3                    11.0                     136  default             1   \n",
       "4                    16.0                     118  default             1   \n",
       "\n",
       "   num_users  num_unique_apis source  classification  \n",
       "0          1               13      E               1  \n",
       "1          1               27      E               1  \n",
       "2          1               11      E               1  \n",
       "3          1                9      E               1  \n",
       "4          1               13      E               1  "
      ]
     },
     "execution_count": 3,
     "metadata": {},
     "output_type": "execute_result"
    }
   ],
   "source": [
    "df.head()\n",
    "\n",
    "#peeking into the data..."
   ]
  },
  {
   "cell_type": "code",
   "execution_count": 4,
   "metadata": {},
   "outputs": [
    {
     "data": {
      "text/plain": [
       "1    24734\n",
       "0    10052\n",
       "2     1309\n",
       "3       22\n",
       "Name: classification, dtype: int64"
      ]
     },
     "execution_count": 4,
     "metadata": {},
     "output_type": "execute_result"
    }
   ],
   "source": [
    "df.classification.value_counts()\n",
    "\n",
    "#check unique values and value counts of target..."
   ]
  },
  {
   "cell_type": "code",
   "execution_count": null,
   "metadata": {},
   "outputs": [],
   "source": []
  },
  {
   "cell_type": "code",
   "execution_count": null,
   "metadata": {},
   "outputs": [],
   "source": []
  },
  {
   "cell_type": "markdown",
   "metadata": {},
   "source": [
    "**DROP THE UNNEEDED DATA**"
   ]
  },
  {
   "cell_type": "code",
   "execution_count": 5,
   "metadata": {},
   "outputs": [
    {
     "name": "stdout",
     "output_type": "stream",
     "text": [
      "<class 'pandas.core.frame.DataFrame'>\n",
      "RangeIndex: 36117 entries, 0 to 36116\n",
      "Data columns (total 10 columns):\n",
      " #   Column                          Non-Null Count  Dtype  \n",
      "---  ------                          --------------  -----  \n",
      " 0   inter_api_access_duration(sec)  36117 non-null  float64\n",
      " 1   api_access_uniqueness           36117 non-null  float64\n",
      " 2   sequence_length(count)          36117 non-null  float64\n",
      " 3   vsession_duration(min)          36117 non-null  int64  \n",
      " 4   ip_type                         36117 non-null  object \n",
      " 5   num_sessions                    36117 non-null  int64  \n",
      " 6   num_users                       36117 non-null  int64  \n",
      " 7   num_unique_apis                 36117 non-null  int64  \n",
      " 8   source                          36117 non-null  object \n",
      " 9   classification                  36117 non-null  int64  \n",
      "dtypes: float64(3), int64(5), object(2)\n",
      "memory usage: 2.8+ MB\n"
     ]
    }
   ],
   "source": [
    "df.info()\n",
    "\n",
    "#To check data type and number of null values in each column.."
   ]
  },
  {
   "cell_type": "markdown",
   "metadata": {},
   "source": [
    "    - There are no null values to drop..."
   ]
  },
  {
   "cell_type": "code",
   "execution_count": null,
   "metadata": {},
   "outputs": [],
   "source": []
  },
  {
   "cell_type": "code",
   "execution_count": null,
   "metadata": {},
   "outputs": [],
   "source": []
  },
  {
   "cell_type": "markdown",
   "metadata": {},
   "source": [
    "**CREATE DUMMY VALUES**"
   ]
  },
  {
   "cell_type": "code",
   "execution_count": 6,
   "metadata": {},
   "outputs": [],
   "source": [
    "df = pd.get_dummies(df, drop_first = True)\n",
    "\n",
    "#create dummies and drop reference column..."
   ]
  },
  {
   "cell_type": "code",
   "execution_count": 7,
   "metadata": {},
   "outputs": [
    {
     "data": {
      "text/html": [
       "<div>\n",
       "<style scoped>\n",
       "    .dataframe tbody tr th:only-of-type {\n",
       "        vertical-align: middle;\n",
       "    }\n",
       "\n",
       "    .dataframe tbody tr th {\n",
       "        vertical-align: top;\n",
       "    }\n",
       "\n",
       "    .dataframe thead th {\n",
       "        text-align: right;\n",
       "    }\n",
       "</style>\n",
       "<table border=\"1\" class=\"dataframe\">\n",
       "  <thead>\n",
       "    <tr style=\"text-align: right;\">\n",
       "      <th></th>\n",
       "      <th>inter_api_access_duration(sec)</th>\n",
       "      <th>api_access_uniqueness</th>\n",
       "      <th>sequence_length(count)</th>\n",
       "      <th>vsession_duration(min)</th>\n",
       "      <th>num_sessions</th>\n",
       "      <th>num_users</th>\n",
       "      <th>num_unique_apis</th>\n",
       "      <th>classification</th>\n",
       "      <th>ip_type_default</th>\n",
       "      <th>ip_type_google_bot</th>\n",
       "      <th>ip_type_private_ip</th>\n",
       "      <th>source_F</th>\n",
       "    </tr>\n",
       "  </thead>\n",
       "  <tbody>\n",
       "    <tr>\n",
       "      <th>0</th>\n",
       "      <td>7.010387</td>\n",
       "      <td>0.419355</td>\n",
       "      <td>31.0</td>\n",
       "      <td>13040</td>\n",
       "      <td>1</td>\n",
       "      <td>1</td>\n",
       "      <td>13</td>\n",
       "      <td>1</td>\n",
       "      <td>1</td>\n",
       "      <td>0</td>\n",
       "      <td>0</td>\n",
       "      <td>0</td>\n",
       "    </tr>\n",
       "    <tr>\n",
       "      <th>1</th>\n",
       "      <td>51.419393</td>\n",
       "      <td>0.252336</td>\n",
       "      <td>107.0</td>\n",
       "      <td>330113</td>\n",
       "      <td>1</td>\n",
       "      <td>1</td>\n",
       "      <td>27</td>\n",
       "      <td>1</td>\n",
       "      <td>1</td>\n",
       "      <td>0</td>\n",
       "      <td>0</td>\n",
       "      <td>0</td>\n",
       "    </tr>\n",
       "    <tr>\n",
       "      <th>2</th>\n",
       "      <td>25.860775</td>\n",
       "      <td>0.275000</td>\n",
       "      <td>40.0</td>\n",
       "      <td>62066</td>\n",
       "      <td>1</td>\n",
       "      <td>1</td>\n",
       "      <td>11</td>\n",
       "      <td>1</td>\n",
       "      <td>1</td>\n",
       "      <td>0</td>\n",
       "      <td>0</td>\n",
       "      <td>0</td>\n",
       "    </tr>\n",
       "    <tr>\n",
       "      <th>3</th>\n",
       "      <td>0.205909</td>\n",
       "      <td>0.818182</td>\n",
       "      <td>11.0</td>\n",
       "      <td>136</td>\n",
       "      <td>1</td>\n",
       "      <td>1</td>\n",
       "      <td>9</td>\n",
       "      <td>1</td>\n",
       "      <td>1</td>\n",
       "      <td>0</td>\n",
       "      <td>0</td>\n",
       "      <td>0</td>\n",
       "    </tr>\n",
       "    <tr>\n",
       "      <th>4</th>\n",
       "      <td>0.122125</td>\n",
       "      <td>0.812500</td>\n",
       "      <td>16.0</td>\n",
       "      <td>118</td>\n",
       "      <td>1</td>\n",
       "      <td>1</td>\n",
       "      <td>13</td>\n",
       "      <td>1</td>\n",
       "      <td>1</td>\n",
       "      <td>0</td>\n",
       "      <td>0</td>\n",
       "      <td>0</td>\n",
       "    </tr>\n",
       "  </tbody>\n",
       "</table>\n",
       "</div>"
      ],
      "text/plain": [
       "   inter_api_access_duration(sec)  api_access_uniqueness  \\\n",
       "0                        7.010387               0.419355   \n",
       "1                       51.419393               0.252336   \n",
       "2                       25.860775               0.275000   \n",
       "3                        0.205909               0.818182   \n",
       "4                        0.122125               0.812500   \n",
       "\n",
       "   sequence_length(count)  vsession_duration(min)  num_sessions  num_users  \\\n",
       "0                    31.0                   13040             1          1   \n",
       "1                   107.0                  330113             1          1   \n",
       "2                    40.0                   62066             1          1   \n",
       "3                    11.0                     136             1          1   \n",
       "4                    16.0                     118             1          1   \n",
       "\n",
       "   num_unique_apis  classification  ip_type_default  ip_type_google_bot  \\\n",
       "0               13               1                1                   0   \n",
       "1               27               1                1                   0   \n",
       "2               11               1                1                   0   \n",
       "3                9               1                1                   0   \n",
       "4               13               1                1                   0   \n",
       "\n",
       "   ip_type_private_ip  source_F  \n",
       "0                   0         0  \n",
       "1                   0         0  \n",
       "2                   0         0  \n",
       "3                   0         0  \n",
       "4                   0         0  "
      ]
     },
     "execution_count": 7,
     "metadata": {},
     "output_type": "execute_result"
    }
   ],
   "source": [
    "df.head()\n",
    "\n",
    "#check df..."
   ]
  },
  {
   "cell_type": "code",
   "execution_count": null,
   "metadata": {},
   "outputs": [],
   "source": []
  },
  {
   "cell_type": "code",
   "execution_count": null,
   "metadata": {},
   "outputs": [],
   "source": []
  },
  {
   "cell_type": "markdown",
   "metadata": {},
   "source": [
    "**PREPARE FEATURES AND TARGET VARIABLE**"
   ]
  },
  {
   "cell_type": "code",
   "execution_count": 8,
   "metadata": {},
   "outputs": [],
   "source": [
    "target = df.classification\n",
    "\n",
    "features = df.drop('classification', axis = 1)\n",
    "\n",
    "#split features and target..."
   ]
  },
  {
   "cell_type": "code",
   "execution_count": 9,
   "metadata": {},
   "outputs": [],
   "source": [
    "x_train, x_test, y_train, y_test = train_test_split(features, target, test_size = 0.20, random_state = 99)\n",
    "\n",
    "#split training and testing data with 25% of data as test data..."
   ]
  },
  {
   "cell_type": "code",
   "execution_count": null,
   "metadata": {},
   "outputs": [],
   "source": []
  },
  {
   "cell_type": "code",
   "execution_count": null,
   "metadata": {},
   "outputs": [],
   "source": []
  },
  {
   "cell_type": "markdown",
   "metadata": {},
   "source": [
    "**PREPARE NORMALIZATION LAYER**"
   ]
  },
  {
   "cell_type": "code",
   "execution_count": 10,
   "metadata": {},
   "outputs": [],
   "source": [
    "norm_layer = layers.Normalization(axis = -1)\n",
    "\n",
    "norm_layer.adapt(x_train)\n",
    "\n",
    "#create a normalization layer and train with training data..."
   ]
  },
  {
   "cell_type": "code",
   "execution_count": null,
   "metadata": {},
   "outputs": [],
   "source": []
  },
  {
   "cell_type": "code",
   "execution_count": null,
   "metadata": {},
   "outputs": [],
   "source": []
  },
  {
   "cell_type": "markdown",
   "metadata": {},
   "source": [
    "**DNN SEQUENTIAL MODEL**"
   ]
  },
  {
   "cell_type": "code",
   "execution_count": 11,
   "metadata": {},
   "outputs": [],
   "source": [
    "dnn_seq_model = keras.Sequential(\n",
    "[\n",
    "    norm_layer,\n",
    "    layers.Dense(128, activation = 'relu'),\n",
    "    layers.Dense(64, activation = 'relu'),\n",
    "    layers.Dense(32, activation = 'relu'),\n",
    "    layers.Dense(16, activation = 'relu'),\n",
    "    layers.Dense(8, activation = 'relu'),    \n",
    "    layers.Dense(4, activation = 'softmax')\n",
    "]\n",
    ")\n",
    "\n",
    "#create a DNN model as specified.."
   ]
  },
  {
   "cell_type": "code",
   "execution_count": null,
   "metadata": {},
   "outputs": [],
   "source": []
  },
  {
   "cell_type": "code",
   "execution_count": null,
   "metadata": {},
   "outputs": [],
   "source": []
  },
  {
   "cell_type": "markdown",
   "metadata": {},
   "source": [
    "**COMPILE THE MODEL AND DISPLAY SUMMARY**"
   ]
  },
  {
   "cell_type": "code",
   "execution_count": 12,
   "metadata": {},
   "outputs": [],
   "source": [
    "dnn_seq_model.compile(loss = 'sparse_categorical_crossentropy',metrics = 'accuracy')\n",
    "\n",
    "#compile the model..."
   ]
  },
  {
   "cell_type": "code",
   "execution_count": 13,
   "metadata": {},
   "outputs": [
    {
     "name": "stdout",
     "output_type": "stream",
     "text": [
      "Model: \"sequential\"\n",
      "_________________________________________________________________\n",
      " Layer (type)                Output Shape              Param #   \n",
      "=================================================================\n",
      " normalization (Normalizati  (None, 11)                23        \n",
      " on)                                                             \n",
      "                                                                 \n",
      " dense (Dense)               (None, 128)               1536      \n",
      "                                                                 \n",
      " dense_1 (Dense)             (None, 64)                8256      \n",
      "                                                                 \n",
      " dense_2 (Dense)             (None, 32)                2080      \n",
      "                                                                 \n",
      " dense_3 (Dense)             (None, 16)                528       \n",
      "                                                                 \n",
      " dense_4 (Dense)             (None, 8)                 136       \n",
      "                                                                 \n",
      " dense_5 (Dense)             (None, 4)                 36        \n",
      "                                                                 \n",
      "=================================================================\n",
      "Total params: 12595 (49.20 KB)\n",
      "Trainable params: 12572 (49.11 KB)\n",
      "Non-trainable params: 23 (96.00 Byte)\n",
      "_________________________________________________________________\n"
     ]
    }
   ],
   "source": [
    "dnn_seq_model.summary()\n",
    "\n",
    "#summary of the model..."
   ]
  },
  {
   "cell_type": "code",
   "execution_count": null,
   "metadata": {},
   "outputs": [],
   "source": []
  },
  {
   "cell_type": "code",
   "execution_count": null,
   "metadata": {},
   "outputs": [],
   "source": []
  },
  {
   "cell_type": "markdown",
   "metadata": {},
   "source": [
    "**FIT, EVALUATE AND PLOT THE EPOCH ACCURACY**"
   ]
  },
  {
   "cell_type": "markdown",
   "metadata": {},
   "source": [
    "    - Good number for epochs to start is 3x number of columns in the dataset...\n",
    "    - if model accuracy is increasing, increase epochs..."
   ]
  },
  {
   "cell_type": "code",
   "execution_count": 14,
   "metadata": {
    "scrolled": false
   },
   "outputs": [
    {
     "name": "stdout",
     "output_type": "stream",
     "text": [
      "Epoch 1/40\n",
      "203/203 [==============================] - 1s 2ms/step - loss: 0.4124 - accuracy: 0.8524 - val_loss: 0.2631 - val_accuracy: 0.8972\n",
      "Epoch 2/40\n",
      "203/203 [==============================] - 0s 2ms/step - loss: 0.2409 - accuracy: 0.9021 - val_loss: 0.2262 - val_accuracy: 0.9219\n",
      "Epoch 3/40\n",
      "203/203 [==============================] - 0s 2ms/step - loss: 0.1875 - accuracy: 0.9304 - val_loss: 0.2305 - val_accuracy: 0.9128\n",
      "Epoch 4/40\n",
      "203/203 [==============================] - 1s 2ms/step - loss: 0.1553 - accuracy: 0.9448 - val_loss: 0.2271 - val_accuracy: 0.9260\n",
      "Epoch 5/40\n",
      "203/203 [==============================] - 0s 2ms/step - loss: 0.1357 - accuracy: 0.9532 - val_loss: 0.2216 - val_accuracy: 0.9317\n",
      "Epoch 6/40\n",
      "203/203 [==============================] - 0s 2ms/step - loss: 0.1224 - accuracy: 0.9572 - val_loss: 0.1643 - val_accuracy: 0.9655\n",
      "Epoch 7/40\n",
      "203/203 [==============================] - 0s 2ms/step - loss: 0.1150 - accuracy: 0.9601 - val_loss: 0.1758 - val_accuracy: 0.9615\n",
      "Epoch 8/40\n",
      "203/203 [==============================] - 0s 2ms/step - loss: 0.1081 - accuracy: 0.9624 - val_loss: 0.1638 - val_accuracy: 0.9723\n",
      "Epoch 9/40\n",
      "203/203 [==============================] - 0s 2ms/step - loss: 0.1021 - accuracy: 0.9650 - val_loss: 0.4122 - val_accuracy: 0.8791\n",
      "Epoch 10/40\n",
      "203/203 [==============================] - 0s 1ms/step - loss: 0.1012 - accuracy: 0.9648 - val_loss: 0.1778 - val_accuracy: 0.9612\n",
      "Epoch 11/40\n",
      "203/203 [==============================] - 0s 2ms/step - loss: 0.0957 - accuracy: 0.9676 - val_loss: 0.1567 - val_accuracy: 0.9720\n",
      "Epoch 12/40\n",
      "203/203 [==============================] - 0s 2ms/step - loss: 0.0924 - accuracy: 0.9687 - val_loss: 0.1872 - val_accuracy: 0.9624\n",
      "Epoch 13/40\n",
      "203/203 [==============================] - 0s 1ms/step - loss: 0.0894 - accuracy: 0.9688 - val_loss: 0.1613 - val_accuracy: 0.9737\n",
      "Epoch 14/40\n",
      "203/203 [==============================] - 0s 2ms/step - loss: 0.0891 - accuracy: 0.9706 - val_loss: 0.3708 - val_accuracy: 0.9220\n",
      "Epoch 15/40\n",
      "203/203 [==============================] - 0s 2ms/step - loss: 0.0866 - accuracy: 0.9700 - val_loss: 0.1608 - val_accuracy: 0.9754\n",
      "Epoch 16/40\n",
      "203/203 [==============================] - 0s 1ms/step - loss: 0.0835 - accuracy: 0.9731 - val_loss: 0.3144 - val_accuracy: 0.9333\n",
      "Epoch 17/40\n",
      "203/203 [==============================] - 0s 2ms/step - loss: 0.0848 - accuracy: 0.9722 - val_loss: 0.1584 - val_accuracy: 0.9784\n",
      "Epoch 18/40\n",
      "203/203 [==============================] - 0s 2ms/step - loss: 0.0815 - accuracy: 0.9731 - val_loss: 0.2054 - val_accuracy: 0.9631\n",
      "Epoch 19/40\n",
      "203/203 [==============================] - 0s 1ms/step - loss: 0.0793 - accuracy: 0.9739 - val_loss: 0.1639 - val_accuracy: 0.9778\n",
      "Epoch 20/40\n",
      "203/203 [==============================] - 0s 2ms/step - loss: 0.0772 - accuracy: 0.9737 - val_loss: 0.2273 - val_accuracy: 0.9543\n",
      "Epoch 21/40\n",
      "203/203 [==============================] - 0s 1ms/step - loss: 0.0761 - accuracy: 0.9754 - val_loss: 0.2787 - val_accuracy: 0.9363\n",
      "Epoch 22/40\n",
      "203/203 [==============================] - 0s 1ms/step - loss: 0.0748 - accuracy: 0.9744 - val_loss: 0.1647 - val_accuracy: 0.9820\n",
      "Epoch 23/40\n",
      "203/203 [==============================] - 0s 2ms/step - loss: 0.0727 - accuracy: 0.9767 - val_loss: 0.1751 - val_accuracy: 0.9782\n",
      "Epoch 24/40\n",
      "203/203 [==============================] - 0s 1ms/step - loss: 0.0748 - accuracy: 0.9763 - val_loss: 0.1641 - val_accuracy: 0.9829\n",
      "Epoch 25/40\n",
      "203/203 [==============================] - 0s 1ms/step - loss: 0.0719 - accuracy: 0.9760 - val_loss: 0.1723 - val_accuracy: 0.9791\n",
      "Epoch 26/40\n",
      "203/203 [==============================] - 0s 2ms/step - loss: 0.0721 - accuracy: 0.9766 - val_loss: 0.1901 - val_accuracy: 0.9796\n",
      "Epoch 27/40\n",
      "203/203 [==============================] - 0s 2ms/step - loss: 0.0672 - accuracy: 0.9774 - val_loss: 0.6990 - val_accuracy: 0.8662\n",
      "Epoch 28/40\n",
      "203/203 [==============================] - 0s 2ms/step - loss: 0.0704 - accuracy: 0.9770 - val_loss: 0.1978 - val_accuracy: 0.9686\n",
      "Epoch 29/40\n",
      "203/203 [==============================] - 0s 2ms/step - loss: 0.0686 - accuracy: 0.9781 - val_loss: 0.1728 - val_accuracy: 0.9826\n",
      "Epoch 30/40\n",
      "203/203 [==============================] - 0s 2ms/step - loss: 0.0677 - accuracy: 0.9770 - val_loss: 0.1784 - val_accuracy: 0.9833\n",
      "Epoch 31/40\n",
      "203/203 [==============================] - 0s 2ms/step - loss: 0.0676 - accuracy: 0.9782 - val_loss: 0.1694 - val_accuracy: 0.9845\n",
      "Epoch 32/40\n",
      "203/203 [==============================] - 0s 2ms/step - loss: 0.0642 - accuracy: 0.9785 - val_loss: 0.1906 - val_accuracy: 0.9798\n",
      "Epoch 33/40\n",
      "203/203 [==============================] - 0s 2ms/step - loss: 0.0640 - accuracy: 0.9786 - val_loss: 0.2984 - val_accuracy: 0.9417\n",
      "Epoch 34/40\n",
      "203/203 [==============================] - 0s 1ms/step - loss: 0.0641 - accuracy: 0.9787 - val_loss: 0.2416 - val_accuracy: 0.9616\n",
      "Epoch 35/40\n",
      "203/203 [==============================] - 0s 1ms/step - loss: 0.0633 - accuracy: 0.9784 - val_loss: 0.1943 - val_accuracy: 0.9826\n",
      "Epoch 36/40\n",
      "203/203 [==============================] - 0s 1ms/step - loss: 0.0628 - accuracy: 0.9796 - val_loss: 0.1955 - val_accuracy: 0.9832\n",
      "Epoch 37/40\n",
      "203/203 [==============================] - 0s 2ms/step - loss: 0.0632 - accuracy: 0.9792 - val_loss: 0.2444 - val_accuracy: 0.9647\n",
      "Epoch 38/40\n",
      "203/203 [==============================] - 0s 2ms/step - loss: 0.0605 - accuracy: 0.9795 - val_loss: 0.2083 - val_accuracy: 0.9821\n",
      "Epoch 39/40\n",
      "203/203 [==============================] - 0s 1ms/step - loss: 0.0599 - accuracy: 0.9809 - val_loss: 0.2277 - val_accuracy: 0.9766\n",
      "Epoch 40/40\n",
      "203/203 [==============================] - 0s 1ms/step - loss: 0.0602 - accuracy: 0.9805 - val_loss: 0.2165 - val_accuracy: 0.9863\n"
     ]
    }
   ],
   "source": [
    "dnn_seq_model_data = dnn_seq_model.fit(x_train, y_train, epochs = 40, validation_split = 0.3, batch_size = 100)\n",
    "\n",
    "#fit the dnn model"
   ]
  },
  {
   "cell_type": "markdown",
   "metadata": {},
   "source": [
    "    - The model has attained a good accuracy score..."
   ]
  },
  {
   "cell_type": "code",
   "execution_count": 15,
   "metadata": {},
   "outputs": [
    {
     "name": "stdout",
     "output_type": "stream",
     "text": [
      "226/226 [==============================] - 0s 842us/step - loss: 0.0625 - accuracy: 0.9827\n"
     ]
    },
    {
     "data": {
      "text/plain": [
       "[0.06251955777406693, 0.9826965928077698]"
      ]
     },
     "execution_count": 15,
     "metadata": {},
     "output_type": "execute_result"
    }
   ],
   "source": [
    "dnn_seq_model.evaluate(x_test, y_test)\n",
    "\n",
    "#evaluate the model with test data..."
   ]
  },
  {
   "cell_type": "code",
   "execution_count": 16,
   "metadata": {},
   "outputs": [
    {
     "data": {
      "text/plain": [
       "Text(0.5, 1.0, 'Increase in Accuracy score')"
      ]
     },
     "execution_count": 16,
     "metadata": {},
     "output_type": "execute_result"
    },
    {
     "data": {
      "image/png": "[encoded data removed]",
      "text/plain": [
       "<Figure size 1000x700 with 1 Axes>"
      ]
     },
     "metadata": {},
     "output_type": "display_data"
    }
   ],
   "source": [
    "plt.figure(figsize = (10,7))\n",
    "plt.plot(dnn_seq_model_data.history['accuracy'], label = 'Accuracy')\n",
    "plt.xlabel('Epochs')\n",
    "plt.ylabel('Accuracy')\n",
    "plt.title('Increase in Accuracy score')\n",
    "\n",
    "#Plot epoch accuracy of model.."
   ]
  },
  {
   "cell_type": "code",
   "execution_count": null,
   "metadata": {},
   "outputs": [],
   "source": []
  },
  {
   "cell_type": "code",
   "execution_count": null,
   "metadata": {},
   "outputs": [],
   "source": []
  },
  {
   "cell_type": "markdown",
   "metadata": {},
   "source": [
    "**MAKE PREDICTTION, PLOT CONFUSION MATRIX AND PROVIDE CLASSIFICATION REPORT**"
   ]
  },
  {
   "cell_type": "code",
   "execution_count": 17,
   "metadata": {},
   "outputs": [
    {
     "name": "stdout",
     "output_type": "stream",
     "text": [
      "226/226 [==============================] - 0s 744us/step\n"
     ]
    }
   ],
   "source": [
    "y_pred = np.argmax(dnn_seq_model.predict(x_test), axis = 1)\n",
    "\n",
    "#predict using the model...\n",
    "#argmax as 'softmax' activation in output layer provides probability of a class and not class..."
   ]
  },
  {
   "cell_type": "code",
   "execution_count": 18,
   "metadata": {
    "scrolled": false
   },
   "outputs": [
    {
     "data": {
      "text/plain": [
       "<Axes: xlabel='Predicted Class', ylabel='Actual Class'>"
      ]
     },
     "execution_count": 18,
     "metadata": {},
     "output_type": "execute_result"
    },
    {
     "data": {
      "image/png": "[encoded data removed]",
      "text/plain": [
       "<Figure size 800x800 with 1 Axes>"
      ]
     },
     "metadata": {},
     "output_type": "display_data"
    }
   ],
   "source": [
    "confusion_matrix_df = pd.DataFrame(confusion_matrix(y_test, y_pred),\n",
    "                                  columns = np.unique(y_test),\n",
    "                                  index = np.unique(y_test))\n",
    "\n",
    "confusion_matrix_df.index.name = 'Actual Class'\n",
    "confusion_matrix_df.columns.name = 'Predicted Class'\n",
    "\n",
    "plt.figure(figsize = (8,8))\n",
    "\n",
    "sns.heatmap(confusion_matrix_df, annot = True, square = True,\n",
    "            vmax = 200, cbar = False, fmt = \"d\", cmap = 'Blues_r')\n",
    "\n",
    "#create a dataframe with confusion matrix...\n",
    "#Plot a heatmap to visualize it..."
   ]
  },
  {
   "cell_type": "code",
   "execution_count": 19,
   "metadata": {},
   "outputs": [
    {
     "data": {
      "text/html": [
       "<div>\n",
       "<style scoped>\n",
       "    .dataframe tbody tr th:only-of-type {\n",
       "        vertical-align: middle;\n",
       "    }\n",
       "\n",
       "    .dataframe tbody tr th {\n",
       "        vertical-align: top;\n",
       "    }\n",
       "\n",
       "    .dataframe thead th {\n",
       "        text-align: right;\n",
       "    }\n",
       "</style>\n",
       "<table border=\"1\" class=\"dataframe\">\n",
       "  <thead>\n",
       "    <tr style=\"text-align: right;\">\n",
       "      <th>Predicted Class</th>\n",
       "      <th>0</th>\n",
       "      <th>1</th>\n",
       "      <th>2</th>\n",
       "      <th>3</th>\n",
       "    </tr>\n",
       "    <tr>\n",
       "      <th>Actual Class</th>\n",
       "      <th></th>\n",
       "      <th></th>\n",
       "      <th></th>\n",
       "      <th></th>\n",
       "    </tr>\n",
       "  </thead>\n",
       "  <tbody>\n",
       "    <tr>\n",
       "      <th>0</th>\n",
       "      <td>2036</td>\n",
       "      <td>25</td>\n",
       "      <td>1</td>\n",
       "      <td>0</td>\n",
       "    </tr>\n",
       "    <tr>\n",
       "      <th>1</th>\n",
       "      <td>1</td>\n",
       "      <td>4852</td>\n",
       "      <td>31</td>\n",
       "      <td>0</td>\n",
       "    </tr>\n",
       "    <tr>\n",
       "      <th>2</th>\n",
       "      <td>1</td>\n",
       "      <td>60</td>\n",
       "      <td>211</td>\n",
       "      <td>0</td>\n",
       "    </tr>\n",
       "    <tr>\n",
       "      <th>3</th>\n",
       "      <td>0</td>\n",
       "      <td>6</td>\n",
       "      <td>0</td>\n",
       "      <td>0</td>\n",
       "    </tr>\n",
       "  </tbody>\n",
       "</table>\n",
       "</div>"
      ],
      "text/plain": [
       "Predicted Class     0     1    2  3\n",
       "Actual Class                       \n",
       "0                2036    25    1  0\n",
       "1                   1  4852   31  0\n",
       "2                   1    60  211  0\n",
       "3                   0     6    0  0"
      ]
     },
     "execution_count": 19,
     "metadata": {},
     "output_type": "execute_result"
    }
   ],
   "source": [
    "confusion_matrix_df"
   ]
  },
  {
   "cell_type": "code",
   "execution_count": 20,
   "metadata": {},
   "outputs": [
    {
     "name": "stdout",
     "output_type": "stream",
     "text": [
      "              precision    recall  f1-score   support\n",
      "\n",
      "           0       1.00      0.99      0.99      2062\n",
      "           1       0.98      0.99      0.99      4884\n",
      "           2       0.87      0.78      0.82       272\n",
      "           3       0.00      0.00      0.00         6\n",
      "\n",
      "    accuracy                           0.98      7224\n",
      "   macro avg       0.71      0.69      0.70      7224\n",
      "weighted avg       0.98      0.98      0.98      7224\n",
      "\n"
     ]
    }
   ],
   "source": [
    "print(classification_report(y_test, y_pred, zero_division = 0))\n",
    "\n",
    "#classification report..."
   ]
  },
  {
   "cell_type": "code",
   "execution_count": null,
   "metadata": {},
   "outputs": [],
   "source": []
  }
 ],
 "metadata": {
  "kernelspec": {
   "display_name": "Python 3 (ipykernel)",
   "language": "python",
   "name": "python3"
  },
  "language_info": {
   "codemirror_mode": {
    "name": "ipython",
    "version": 3
   },
   "file_extension": ".py",
   "mimetype": "text/x-python",
   "name": "python",
   "nbconvert_exporter": "python",
   "pygments_lexer": "ipython3",
   "version": "3.11.4"
  }
 },
 "nbformat": 4,
 "nbformat_minor": 4
}
