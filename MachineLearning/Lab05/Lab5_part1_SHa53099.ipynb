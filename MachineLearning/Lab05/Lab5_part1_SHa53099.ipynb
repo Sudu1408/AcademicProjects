{
 "cells": [
  {
   "cell_type": "markdown",
   "metadata": {},
   "source": [
    "# Lab 05 - Part 1\n",
    "\n",
    "### Sudarsan Haridas\n",
    "\n",
    "### 300353099"
   ]
  },
  {
   "cell_type": "markdown",
   "metadata": {},
   "source": []
  },
  {
   "cell_type": "markdown",
   "metadata": {},
   "source": [
    "**LOAD THE PYTHON LIBRARIES**"
   ]
  },
  {
   "cell_type": "code",
   "execution_count": 1,
   "metadata": {},
   "outputs": [],
   "source": [
    "import numpy as np\n",
    "import pandas as pd\n",
    "import seaborn as sns\n",
    "import matplotlib.pyplot as plt\n",
    "\n",
    "from sklearn.preprocessing import StandardScaler\n",
    "\n",
    "from sklearn.pipeline import Pipeline\n",
    "\n",
    "from kneed import KneeLocator\n",
    "from sklearn.decomposition import PCA\n",
    "from sklearn.cluster import KMeans, AgglomerativeClustering, Birch, SpectralClustering, DBSCAN\n",
    "from sklearn.metrics import silhouette_score, calinski_harabasz_score, davies_bouldin_score\n",
    "\n",
    "#import and load the necessary libraries..."
   ]
  },
  {
   "cell_type": "code",
   "execution_count": null,
   "metadata": {},
   "outputs": [],
   "source": []
  },
  {
   "cell_type": "code",
   "execution_count": null,
   "metadata": {},
   "outputs": [],
   "source": []
  },
  {
   "cell_type": "markdown",
   "metadata": {},
   "source": [
    "**READ THE DATA**"
   ]
  },
  {
   "cell_type": "code",
   "execution_count": 2,
   "metadata": {},
   "outputs": [],
   "source": [
    "df = pd.read_csv('Lab5_wholesome_customer_data.csv')\n",
    "\n",
    "df_copy = df.copy()\n",
    "\n",
    "#reading the data and creating a copy of the original..."
   ]
  },
  {
   "cell_type": "code",
   "execution_count": 3,
   "metadata": {},
   "outputs": [
    {
     "data": {
      "text/html": [
       "<div>\n",
       "<style scoped>\n",
       "    .dataframe tbody tr th:only-of-type {\n",
       "        vertical-align: middle;\n",
       "    }\n",
       "\n",
       "    .dataframe tbody tr th {\n",
       "        vertical-align: top;\n",
       "    }\n",
       "\n",
       "    .dataframe thead th {\n",
       "        text-align: right;\n",
       "    }\n",
       "</style>\n",
       "<table border=\"1\" class=\"dataframe\">\n",
       "  <thead>\n",
       "    <tr style=\"text-align: right;\">\n",
       "      <th></th>\n",
       "      <th>Channel</th>\n",
       "      <th>Region</th>\n",
       "      <th>Fresh</th>\n",
       "      <th>Milk</th>\n",
       "      <th>Grocery</th>\n",
       "      <th>Frozen</th>\n",
       "      <th>Detergents_Paper</th>\n",
       "      <th>Delicassen</th>\n",
       "    </tr>\n",
       "  </thead>\n",
       "  <tbody>\n",
       "    <tr>\n",
       "      <th>0</th>\n",
       "      <td>2</td>\n",
       "      <td>3</td>\n",
       "      <td>12669</td>\n",
       "      <td>9656</td>\n",
       "      <td>7561</td>\n",
       "      <td>214</td>\n",
       "      <td>2674</td>\n",
       "      <td>1338</td>\n",
       "    </tr>\n",
       "    <tr>\n",
       "      <th>1</th>\n",
       "      <td>2</td>\n",
       "      <td>3</td>\n",
       "      <td>7057</td>\n",
       "      <td>9810</td>\n",
       "      <td>9568</td>\n",
       "      <td>1762</td>\n",
       "      <td>3293</td>\n",
       "      <td>1776</td>\n",
       "    </tr>\n",
       "    <tr>\n",
       "      <th>2</th>\n",
       "      <td>2</td>\n",
       "      <td>3</td>\n",
       "      <td>6353</td>\n",
       "      <td>8808</td>\n",
       "      <td>7684</td>\n",
       "      <td>2405</td>\n",
       "      <td>3516</td>\n",
       "      <td>7844</td>\n",
       "    </tr>\n",
       "    <tr>\n",
       "      <th>3</th>\n",
       "      <td>1</td>\n",
       "      <td>3</td>\n",
       "      <td>13265</td>\n",
       "      <td>1196</td>\n",
       "      <td>4221</td>\n",
       "      <td>6404</td>\n",
       "      <td>507</td>\n",
       "      <td>1788</td>\n",
       "    </tr>\n",
       "    <tr>\n",
       "      <th>4</th>\n",
       "      <td>2</td>\n",
       "      <td>3</td>\n",
       "      <td>22615</td>\n",
       "      <td>5410</td>\n",
       "      <td>7198</td>\n",
       "      <td>3915</td>\n",
       "      <td>1777</td>\n",
       "      <td>5185</td>\n",
       "    </tr>\n",
       "  </tbody>\n",
       "</table>\n",
       "</div>"
      ],
      "text/plain": [
       "   Channel  Region  Fresh  Milk  Grocery  Frozen  Detergents_Paper  Delicassen\n",
       "0        2       3  12669  9656     7561     214              2674        1338\n",
       "1        2       3   7057  9810     9568    1762              3293        1776\n",
       "2        2       3   6353  8808     7684    2405              3516        7844\n",
       "3        1       3  13265  1196     4221    6404               507        1788\n",
       "4        2       3  22615  5410     7198    3915              1777        5185"
      ]
     },
     "execution_count": 3,
     "metadata": {},
     "output_type": "execute_result"
    }
   ],
   "source": [
    "df.head()\n",
    "\n",
    "#peeking into the data..."
   ]
  },
  {
   "cell_type": "code",
   "execution_count": null,
   "metadata": {},
   "outputs": [],
   "source": []
  },
  {
   "cell_type": "code",
   "execution_count": null,
   "metadata": {},
   "outputs": [],
   "source": []
  },
  {
   "cell_type": "markdown",
   "metadata": {},
   "source": [
    "**DROP UNNEEDED DATA**"
   ]
  },
  {
   "cell_type": "code",
   "execution_count": 4,
   "metadata": {},
   "outputs": [
    {
     "name": "stdout",
     "output_type": "stream",
     "text": [
      "<class 'pandas.core.frame.DataFrame'>\n",
      "RangeIndex: 440 entries, 0 to 439\n",
      "Data columns (total 8 columns):\n",
      " #   Column            Non-Null Count  Dtype\n",
      "---  ------            --------------  -----\n",
      " 0   Channel           440 non-null    int64\n",
      " 1   Region            440 non-null    int64\n",
      " 2   Fresh             440 non-null    int64\n",
      " 3   Milk              440 non-null    int64\n",
      " 4   Grocery           440 non-null    int64\n",
      " 5   Frozen            440 non-null    int64\n",
      " 6   Detergents_Paper  440 non-null    int64\n",
      " 7   Delicassen        440 non-null    int64\n",
      "dtypes: int64(8)\n",
      "memory usage: 27.6 KB\n"
     ]
    }
   ],
   "source": [
    "df.info()\n",
    "\n",
    "#To check data type and number of null values in each column.."
   ]
  },
  {
   "cell_type": "markdown",
   "metadata": {},
   "source": [
    "There are **no null** values..."
   ]
  },
  {
   "cell_type": "code",
   "execution_count": null,
   "metadata": {},
   "outputs": [],
   "source": []
  },
  {
   "cell_type": "code",
   "execution_count": null,
   "metadata": {},
   "outputs": [],
   "source": []
  },
  {
   "cell_type": "markdown",
   "metadata": {},
   "source": [
    "**ELBOW METHOD**"
   ]
  },
  {
   "cell_type": "markdown",
   "metadata": {},
   "source": [
    "Elbow Method is used to determine the optimal number of clusters..."
   ]
  },
  {
   "cell_type": "code",
   "execution_count": 5,
   "metadata": {},
   "outputs": [],
   "source": [
    "scaler = StandardScaler()"
   ]
  },
  {
   "cell_type": "code",
   "execution_count": 6,
   "metadata": {},
   "outputs": [],
   "source": [
    "df_scaled = scaler.fit_transform(df)"
   ]
  },
  {
   "cell_type": "code",
   "execution_count": 7,
   "metadata": {},
   "outputs": [],
   "source": [
    "def SumOfSquares(df_scaled):\n",
    "    \n",
    "    error_scores = []\n",
    "    \n",
    "    for i in range(2,10):\n",
    "        km_model = KMeans(n_clusters = i, n_init = 'auto', random_state = 99)\n",
    "        \n",
    "        km_model.fit(df)\n",
    "        \n",
    "        error_scores.append(km_model.inertia_)\n",
    "        \n",
    "    return error_scores\n",
    "\n",
    "#Defining a function to run KMeans model for different cluster numbers\n",
    "#returning sum of squares error to choose optimal cluster number"
   ]
  },
  {
   "cell_type": "code",
   "execution_count": 8,
   "metadata": {},
   "outputs": [
    {
     "data": {
      "text/plain": [
       "Text(0.5, 1.0, 'Elbow Method')"
      ]
     },
     "execution_count": 8,
     "metadata": {},
     "output_type": "execute_result"
    },
    {
     "data": {
      "image/png": "[encoded data removed]",
      "text/plain": [
       "<Figure size 640x480 with 1 Axes>"
      ]
     },
     "metadata": {},
     "output_type": "display_data"
    }
   ],
   "source": [
    "plt.plot(range(2,10), SumOfSquares(df_scaled), '-b*')\n",
    "\n",
    "plt.xlabel('Number of Clusters')\n",
    "plt.ylabel('Error')\n",
    "plt.title('Elbow Method')\n",
    "\n",
    "#Plotting the results of the function \n",
    "#This helps to visually locate optimal cluster number..."
   ]
  },
  {
   "cell_type": "markdown",
   "metadata": {},
   "source": [
    "Looking at the plot, the optimal number of clusters seems to be **5**\n",
    "\n",
    "But, a KneeLocator function can be used for the same..."
   ]
  },
  {
   "cell_type": "code",
   "execution_count": 9,
   "metadata": {},
   "outputs": [
    {
     "data": {
      "text/plain": [
       "6"
      ]
     },
     "execution_count": 9,
     "metadata": {},
     "output_type": "execute_result"
    }
   ],
   "source": [
    "optimal_n = KneeLocator(range(2,10), SumOfSquares(df_scaled),\n",
    "            curve = 'convex', direction = 'decreasing').elbow\n",
    "\n",
    "\n",
    "\n",
    "optimal_n\n",
    "#returns the elbow of the plot ( optimal cluster number )\n",
    "#The point where reduction is error starts to even out..."
   ]
  },
  {
   "cell_type": "markdown",
   "metadata": {},
   "source": [
    "The function also returned the same..."
   ]
  },
  {
   "cell_type": "code",
   "execution_count": 10,
   "metadata": {},
   "outputs": [
    {
     "data": {
      "text/plain": [
       "<matplotlib.legend.Legend at 0x143ac5490>"
      ]
     },
     "execution_count": 10,
     "metadata": {},
     "output_type": "execute_result"
    },
    {
     "data": {
      "image/png": "[encoded data removed]",
      "text/plain": [
       "<Figure size 640x480 with 1 Axes>"
      ]
     },
     "metadata": {},
     "output_type": "display_data"
    }
   ],
   "source": [
    "plt.plot(range(2,10), SumOfSquares(df_scaled), '-b*')\n",
    "plt.plot(optimal_n,SumOfSquares(df_scaled)[optimal_n - 2], 'ro', label = 'Optimal Cluster Number')\n",
    "\n",
    "plt.xlabel('Number of Clusters')\n",
    "plt.ylabel('Error')\n",
    "plt.title('Elbow Method (Elbow Highlighted) ')\n",
    "plt.legend(loc = 'best')\n",
    "\n",
    "#highlighting the elbow..."
   ]
  },
  {
   "cell_type": "markdown",
   "metadata": {},
   "source": [
    "**Therefore, the optimal number of clusters (K) is determined to be 5**"
   ]
  },
  {
   "cell_type": "code",
   "execution_count": null,
   "metadata": {},
   "outputs": [],
   "source": []
  },
  {
   "cell_type": "code",
   "execution_count": null,
   "metadata": {},
   "outputs": [],
   "source": []
  },
  {
   "cell_type": "markdown",
   "metadata": {},
   "source": [
    "**PIPELINE**"
   ]
  },
  {
   "cell_type": "code",
   "execution_count": 11,
   "metadata": {},
   "outputs": [],
   "source": [
    "name_of_model = ['Agglomerative Clustering', 'K-Means Clustering',\n",
    "                'Birch', 'Spectral Clustering', 'DBScan']\n",
    "\n",
    "silh_scores = []\n",
    "carh_scores = []\n",
    "davb_scores = []\n",
    "\n",
    "\n",
    "list_of_models = [\n",
    "    AgglomerativeClustering( n_clusters = optimal_n),\n",
    "    KMeans(n_clusters = optimal_n, n_init = 'auto', random_state = 99),\n",
    "    Birch( n_clusters = optimal_n),\n",
    "    SpectralClustering( n_clusters = optimal_n),\n",
    "    DBSCAN(eps = 0.5)\n",
    "]\n",
    "\n",
    "\n",
    "#list of model names..\n",
    "#empty list to hold different error scores for each model...\n",
    "#List of models"
   ]
  },
  {
   "cell_type": "code",
   "execution_count": 12,
   "metadata": {},
   "outputs": [],
   "source": [
    "\n",
    "for i, clus in enumerate(list_of_models):\n",
    "    \n",
    "    pipe = Pipeline(\n",
    "    [\n",
    "        ('Scaler', StandardScaler()),\n",
    "        ('PCA', PCA(n_components = 2)),\n",
    "        (name_of_model[i], clus)\n",
    "    ]\n",
    "    )\n",
    "        \n",
    "    pipe.fit(df)    \n",
    "        \n",
    "    clusters = pipe.fit_predict(df)\n",
    "    \n",
    "    silh_scores.append(silhouette_score( df, clusters, metric = 'euclidean'))\n",
    "    \n",
    "    carh_scores.append(calinski_harabasz_score( df, clusters))\n",
    "    \n",
    "    davb_scores.append(davies_bouldin_score( df, clusters))\n",
    "    \n",
    "    \n",
    "    \n",
    "#Creates a pipeline and iterates through different clustering models..."
   ]
  },
  {
   "cell_type": "code",
   "execution_count": 13,
   "metadata": {},
   "outputs": [
    {
     "data": {
      "text/html": [
       "<div>\n",
       "<style scoped>\n",
       "    .dataframe tbody tr th:only-of-type {\n",
       "        vertical-align: middle;\n",
       "    }\n",
       "\n",
       "    .dataframe tbody tr th {\n",
       "        vertical-align: top;\n",
       "    }\n",
       "\n",
       "    .dataframe thead th {\n",
       "        text-align: right;\n",
       "    }\n",
       "</style>\n",
       "<table border=\"1\" class=\"dataframe\">\n",
       "  <thead>\n",
       "    <tr style=\"text-align: right;\">\n",
       "      <th></th>\n",
       "      <th>Cluster Method</th>\n",
       "      <th>Silhouette Score</th>\n",
       "      <th>Carlinski Harabasz Score</th>\n",
       "      <th>Davies Bouldin Score</th>\n",
       "    </tr>\n",
       "  </thead>\n",
       "  <tbody>\n",
       "    <tr>\n",
       "      <th>0</th>\n",
       "      <td>Agglomerative Clustering</td>\n",
       "      <td>0.196230</td>\n",
       "      <td>112.006377</td>\n",
       "      <td>1.535308</td>\n",
       "    </tr>\n",
       "    <tr>\n",
       "      <th>1</th>\n",
       "      <td>K-Means Clustering</td>\n",
       "      <td>0.214472</td>\n",
       "      <td>117.912262</td>\n",
       "      <td>1.267048</td>\n",
       "    </tr>\n",
       "    <tr>\n",
       "      <th>2</th>\n",
       "      <td>Birch</td>\n",
       "      <td>0.457617</td>\n",
       "      <td>69.267847</td>\n",
       "      <td>1.121937</td>\n",
       "    </tr>\n",
       "    <tr>\n",
       "      <th>3</th>\n",
       "      <td>Spectral Clustering</td>\n",
       "      <td>0.514338</td>\n",
       "      <td>53.012110</td>\n",
       "      <td>1.250249</td>\n",
       "    </tr>\n",
       "    <tr>\n",
       "      <th>4</th>\n",
       "      <td>DBScan</td>\n",
       "      <td>0.592779</td>\n",
       "      <td>108.438965</td>\n",
       "      <td>1.515376</td>\n",
       "    </tr>\n",
       "  </tbody>\n",
       "</table>\n",
       "</div>"
      ],
      "text/plain": [
       "             Cluster Method  Silhouette Score  Carlinski Harabasz Score  \\\n",
       "0  Agglomerative Clustering          0.196230                112.006377   \n",
       "1        K-Means Clustering          0.214472                117.912262   \n",
       "2                     Birch          0.457617                 69.267847   \n",
       "3       Spectral Clustering          0.514338                 53.012110   \n",
       "4                    DBScan          0.592779                108.438965   \n",
       "\n",
       "   Davies Bouldin Score  \n",
       "0              1.535308  \n",
       "1              1.267048  \n",
       "2              1.121937  \n",
       "3              1.250249  \n",
       "4              1.515376  "
      ]
     },
     "execution_count": 13,
     "metadata": {},
     "output_type": "execute_result"
    }
   ],
   "source": [
    "evaluation_df = pd.DataFrame(zip(name_of_model, silh_scores,\n",
    "                                carh_scores, davb_scores),\n",
    "                            columns = ['Cluster Method',\n",
    "                                      'Silhouette Score',\n",
    "                                      'Carlinski Harabasz Score',\n",
    "                                      'Davies Bouldin Score'])\n",
    "\n",
    "evaluation_df\n",
    "\n",
    "#create a dataframe of model names and error scores"
   ]
  },
  {
   "cell_type": "code",
   "execution_count": 14,
   "metadata": {
    "scrolled": true
   },
   "outputs": [
    {
     "data": {
      "text/html": [
       "<div>\n",
       "<style scoped>\n",
       "    .dataframe tbody tr th:only-of-type {\n",
       "        vertical-align: middle;\n",
       "    }\n",
       "\n",
       "    .dataframe tbody tr th {\n",
       "        vertical-align: top;\n",
       "    }\n",
       "\n",
       "    .dataframe thead th {\n",
       "        text-align: right;\n",
       "    }\n",
       "</style>\n",
       "<table border=\"1\" class=\"dataframe\">\n",
       "  <thead>\n",
       "    <tr style=\"text-align: right;\">\n",
       "      <th></th>\n",
       "      <th>Cluster Method</th>\n",
       "      <th>Silhouette Score</th>\n",
       "      <th>Carlinski Harabasz Score</th>\n",
       "      <th>Davies Bouldin Score</th>\n",
       "    </tr>\n",
       "  </thead>\n",
       "  <tbody>\n",
       "    <tr>\n",
       "      <th>4</th>\n",
       "      <td>DBScan</td>\n",
       "      <td>0.592779</td>\n",
       "      <td>108.438965</td>\n",
       "      <td>1.515376</td>\n",
       "    </tr>\n",
       "    <tr>\n",
       "      <th>3</th>\n",
       "      <td>Spectral Clustering</td>\n",
       "      <td>0.514338</td>\n",
       "      <td>53.012110</td>\n",
       "      <td>1.250249</td>\n",
       "    </tr>\n",
       "    <tr>\n",
       "      <th>2</th>\n",
       "      <td>Birch</td>\n",
       "      <td>0.457617</td>\n",
       "      <td>69.267847</td>\n",
       "      <td>1.121937</td>\n",
       "    </tr>\n",
       "    <tr>\n",
       "      <th>1</th>\n",
       "      <td>K-Means Clustering</td>\n",
       "      <td>0.214472</td>\n",
       "      <td>117.912262</td>\n",
       "      <td>1.267048</td>\n",
       "    </tr>\n",
       "    <tr>\n",
       "      <th>0</th>\n",
       "      <td>Agglomerative Clustering</td>\n",
       "      <td>0.196230</td>\n",
       "      <td>112.006377</td>\n",
       "      <td>1.535308</td>\n",
       "    </tr>\n",
       "  </tbody>\n",
       "</table>\n",
       "</div>"
      ],
      "text/plain": [
       "             Cluster Method  Silhouette Score  Carlinski Harabasz Score  \\\n",
       "4                    DBScan          0.592779                108.438965   \n",
       "3       Spectral Clustering          0.514338                 53.012110   \n",
       "2                     Birch          0.457617                 69.267847   \n",
       "1        K-Means Clustering          0.214472                117.912262   \n",
       "0  Agglomerative Clustering          0.196230                112.006377   \n",
       "\n",
       "   Davies Bouldin Score  \n",
       "4              1.515376  \n",
       "3              1.250249  \n",
       "2              1.121937  \n",
       "1              1.267048  \n",
       "0              1.535308  "
      ]
     },
     "execution_count": 14,
     "metadata": {},
     "output_type": "execute_result"
    }
   ],
   "source": [
    "evaluation_df.sort_values(by = ['Silhouette Score',\n",
    "                                'Carlinski Harabasz Score',\n",
    "                                'Davies Bouldin Score'],\n",
    "                         ascending = [False, False, True])\n",
    "\n",
    "\n",
    "#sorts the dataframe to find best model...\n",
    "#Silhouette Score - Higher is better\n",
    "#Carlinski Harabasz Score - Higher is better\n",
    "#Davies Bouldin Score - Lower is better"
   ]
  },
  {
   "cell_type": "markdown",
   "metadata": {},
   "source": [
    "The best model observed is **Spectral Clustering**"
   ]
  },
  {
   "cell_type": "code",
   "execution_count": null,
   "metadata": {},
   "outputs": [],
   "source": []
  },
  {
   "cell_type": "code",
   "execution_count": null,
   "metadata": {},
   "outputs": [],
   "source": []
  },
  {
   "cell_type": "markdown",
   "metadata": {},
   "source": [
    "**BEST CLUSTER MODEL FOR PLOTTING**"
   ]
  },
  {
   "cell_type": "code",
   "execution_count": 15,
   "metadata": {},
   "outputs": [],
   "source": [
    "pca_pipe = Pipeline(\n",
    "    [\n",
    "        ('Scaler', StandardScaler()),\n",
    "        ('PCA', PCA(n_components = 2))\n",
    "    ]\n",
    ")\n",
    "\n",
    "df_reduced = pca_pipe.fit_transform(df)\n",
    "\n",
    "#create a PCA instance and reduce the dataframe to specified 2 components..."
   ]
  },
  {
   "cell_type": "code",
   "execution_count": 16,
   "metadata": {},
   "outputs": [],
   "source": [
    "best_pipe = Pipeline(\n",
    "    [\n",
    "        ('Scaler', StandardScaler()),\n",
    "        ('PCA', PCA(n_components = 2)),\n",
    "        ('Spectral Clustering', SpectralClustering(n_clusters = optimal_n))\n",
    "    ]\n",
    "    )\n",
    "best_pipe.fit(df)    \n",
    "\n",
    "clusters_df = best_pipe.fit_predict(df)\n",
    "\n",
    "#create a pipeline with best model recreation to gather cluster labels..."
   ]
  },
  {
   "cell_type": "code",
   "execution_count": 17,
   "metadata": {},
   "outputs": [],
   "source": [
    "pca_df = pd.DataFrame(df_reduced, columns = ['Component_'+ str(i+1) for i in range(df_reduced.shape[1])])\n",
    "\n",
    "pca_df['Cluster'] = clusters_df\n",
    "\n",
    "#create a dataframe of components and add the obtained cluster labels to it.."
   ]
  },
  {
   "cell_type": "code",
   "execution_count": 18,
   "metadata": {},
   "outputs": [
    {
     "data": {
      "text/html": [
       "<div>\n",
       "<style scoped>\n",
       "    .dataframe tbody tr th:only-of-type {\n",
       "        vertical-align: middle;\n",
       "    }\n",
       "\n",
       "    .dataframe tbody tr th {\n",
       "        vertical-align: top;\n",
       "    }\n",
       "\n",
       "    .dataframe thead th {\n",
       "        text-align: right;\n",
       "    }\n",
       "</style>\n",
       "<table border=\"1\" class=\"dataframe\">\n",
       "  <thead>\n",
       "    <tr style=\"text-align: right;\">\n",
       "      <th></th>\n",
       "      <th>Component_1</th>\n",
       "      <th>Component_2</th>\n",
       "      <th>Cluster</th>\n",
       "    </tr>\n",
       "  </thead>\n",
       "  <tbody>\n",
       "    <tr>\n",
       "      <th>0</th>\n",
       "      <td>0.843939</td>\n",
       "      <td>-0.515351</td>\n",
       "      <td>0</td>\n",
       "    </tr>\n",
       "    <tr>\n",
       "      <th>1</th>\n",
       "      <td>1.062676</td>\n",
       "      <td>-0.484601</td>\n",
       "      <td>0</td>\n",
       "    </tr>\n",
       "    <tr>\n",
       "      <th>2</th>\n",
       "      <td>1.269141</td>\n",
       "      <td>0.682055</td>\n",
       "      <td>0</td>\n",
       "    </tr>\n",
       "    <tr>\n",
       "      <th>3</th>\n",
       "      <td>-1.056782</td>\n",
       "      <td>0.610821</td>\n",
       "      <td>0</td>\n",
       "    </tr>\n",
       "    <tr>\n",
       "      <th>4</th>\n",
       "      <td>0.634030</td>\n",
       "      <td>0.974199</td>\n",
       "      <td>0</td>\n",
       "    </tr>\n",
       "  </tbody>\n",
       "</table>\n",
       "</div>"
      ],
      "text/plain": [
       "   Component_1  Component_2  Cluster\n",
       "0     0.843939    -0.515351        0\n",
       "1     1.062676    -0.484601        0\n",
       "2     1.269141     0.682055        0\n",
       "3    -1.056782     0.610821        0\n",
       "4     0.634030     0.974199        0"
      ]
     },
     "execution_count": 18,
     "metadata": {},
     "output_type": "execute_result"
    }
   ],
   "source": [
    "pca_df.head()\n",
    "\n",
    "#view the df"
   ]
  },
  {
   "cell_type": "code",
   "execution_count": 19,
   "metadata": {},
   "outputs": [
    {
     "data": {
      "text/plain": [
       "Text(0.5, 1.0, \"Clusters obtained using 'PCA' \")"
      ]
     },
     "execution_count": 19,
     "metadata": {},
     "output_type": "execute_result"
    },
    {
     "data": {
      "image/png": "[encoded data removed]",
      "text/plain": [
       "<Figure size 1500x1200 with 1 Axes>"
      ]
     },
     "metadata": {},
     "output_type": "display_data"
    }
   ],
   "source": [
    "plt.figure(figsize = (15,12))\n",
    "sns.scatterplot(data = pca_df, x = pca_df.Component_1, \n",
    "                y = pca_df.Component_2, hue = pca_df.Cluster,\n",
    "               palette = 'Dark2', s = 100)\n",
    "plt.xlabel('Component 1')\n",
    "plt.ylabel('Component 1')\n",
    "plt.title('Clusters obtained using \\'PCA\\' ')\n",
    "\n",
    "#Plot the scatter of the 2 components with cluster label as hue..."
   ]
  },
  {
   "cell_type": "code",
   "execution_count": null,
   "metadata": {},
   "outputs": [],
   "source": []
  },
  {
   "cell_type": "code",
   "execution_count": null,
   "metadata": {},
   "outputs": [],
   "source": []
  },
  {
   "cell_type": "markdown",
   "metadata": {},
   "source": [
    "**OPTIONAL**"
   ]
  },
  {
   "cell_type": "code",
   "execution_count": 20,
   "metadata": {},
   "outputs": [],
   "source": [
    "df['cluster_label'] = clusters_df\n",
    "\n",
    "#appending cluster labels to original df"
   ]
  },
  {
   "cell_type": "code",
   "execution_count": 21,
   "metadata": {},
   "outputs": [
    {
     "data": {
      "text/html": [
       "<div>\n",
       "<style scoped>\n",
       "    .dataframe tbody tr th:only-of-type {\n",
       "        vertical-align: middle;\n",
       "    }\n",
       "\n",
       "    .dataframe tbody tr th {\n",
       "        vertical-align: top;\n",
       "    }\n",
       "\n",
       "    .dataframe thead th {\n",
       "        text-align: right;\n",
       "    }\n",
       "</style>\n",
       "<table border=\"1\" class=\"dataframe\">\n",
       "  <thead>\n",
       "    <tr style=\"text-align: right;\">\n",
       "      <th></th>\n",
       "      <th>Channel</th>\n",
       "      <th>Region</th>\n",
       "      <th>Fresh</th>\n",
       "      <th>Milk</th>\n",
       "      <th>Grocery</th>\n",
       "      <th>Frozen</th>\n",
       "      <th>Detergents_Paper</th>\n",
       "      <th>Delicassen</th>\n",
       "    </tr>\n",
       "    <tr>\n",
       "      <th>cluster_label</th>\n",
       "      <th></th>\n",
       "      <th></th>\n",
       "      <th></th>\n",
       "      <th></th>\n",
       "      <th></th>\n",
       "      <th></th>\n",
       "      <th></th>\n",
       "      <th></th>\n",
       "    </tr>\n",
       "  </thead>\n",
       "  <tbody>\n",
       "    <tr>\n",
       "      <th>0</th>\n",
       "      <td>1.311164</td>\n",
       "      <td>2.536817</td>\n",
       "      <td>11060.676960</td>\n",
       "      <td>4885.950119</td>\n",
       "      <td>6889.391924</td>\n",
       "      <td>2653.736342</td>\n",
       "      <td>2383.966746</td>\n",
       "      <td>1282.705463</td>\n",
       "    </tr>\n",
       "    <tr>\n",
       "      <th>1</th>\n",
       "      <td>1.000000</td>\n",
       "      <td>2.666667</td>\n",
       "      <td>60571.666667</td>\n",
       "      <td>30120.333333</td>\n",
       "      <td>17314.666667</td>\n",
       "      <td>38049.333333</td>\n",
       "      <td>2153.000000</td>\n",
       "      <td>20700.666667</td>\n",
       "    </tr>\n",
       "    <tr>\n",
       "      <th>2</th>\n",
       "      <td>2.000000</td>\n",
       "      <td>3.000000</td>\n",
       "      <td>29862.500000</td>\n",
       "      <td>53080.750000</td>\n",
       "      <td>60015.750000</td>\n",
       "      <td>3262.250000</td>\n",
       "      <td>27942.250000</td>\n",
       "      <td>3082.250000</td>\n",
       "    </tr>\n",
       "    <tr>\n",
       "      <th>3</th>\n",
       "      <td>2.000000</td>\n",
       "      <td>2.000000</td>\n",
       "      <td>7220.200000</td>\n",
       "      <td>20974.000000</td>\n",
       "      <td>43688.000000</td>\n",
       "      <td>2976.200000</td>\n",
       "      <td>23848.600000</td>\n",
       "      <td>3151.800000</td>\n",
       "    </tr>\n",
       "    <tr>\n",
       "      <th>4</th>\n",
       "      <td>1.000000</td>\n",
       "      <td>3.000000</td>\n",
       "      <td>51169.800000</td>\n",
       "      <td>3900.600000</td>\n",
       "      <td>7759.200000</td>\n",
       "      <td>16915.800000</td>\n",
       "      <td>931.800000</td>\n",
       "      <td>4574.200000</td>\n",
       "    </tr>\n",
       "    <tr>\n",
       "      <th>5</th>\n",
       "      <td>2.000000</td>\n",
       "      <td>3.000000</td>\n",
       "      <td>15235.500000</td>\n",
       "      <td>33157.500000</td>\n",
       "      <td>24442.500000</td>\n",
       "      <td>3885.000000</td>\n",
       "      <td>11038.500000</td>\n",
       "      <td>8931.500000</td>\n",
       "    </tr>\n",
       "  </tbody>\n",
       "</table>\n",
       "</div>"
      ],
      "text/plain": [
       "                Channel    Region         Fresh          Milk       Grocery  \\\n",
       "cluster_label                                                                 \n",
       "0              1.311164  2.536817  11060.676960   4885.950119   6889.391924   \n",
       "1              1.000000  2.666667  60571.666667  30120.333333  17314.666667   \n",
       "2              2.000000  3.000000  29862.500000  53080.750000  60015.750000   \n",
       "3              2.000000  2.000000   7220.200000  20974.000000  43688.000000   \n",
       "4              1.000000  3.000000  51169.800000   3900.600000   7759.200000   \n",
       "5              2.000000  3.000000  15235.500000  33157.500000  24442.500000   \n",
       "\n",
       "                     Frozen  Detergents_Paper    Delicassen  \n",
       "cluster_label                                                \n",
       "0               2653.736342       2383.966746   1282.705463  \n",
       "1              38049.333333       2153.000000  20700.666667  \n",
       "2               3262.250000      27942.250000   3082.250000  \n",
       "3               2976.200000      23848.600000   3151.800000  \n",
       "4              16915.800000        931.800000   4574.200000  \n",
       "5               3885.000000      11038.500000   8931.500000  "
      ]
     },
     "execution_count": 21,
     "metadata": {},
     "output_type": "execute_result"
    }
   ],
   "source": [
    "cm_df = pd.DataFrame(df.groupby(by = 'cluster_label').mean())\n",
    "\n",
    "cm_df"
   ]
  },
  {
   "cell_type": "code",
   "execution_count": 22,
   "metadata": {},
   "outputs": [],
   "source": [
    "cluster_means = []\n",
    "\n",
    "for i in range(optimal_n):\n",
    "    \n",
    "    \n",
    "       cluster_means.append(df[df.cluster_label == i].mean().values)\n",
    "    \n",
    "    \n",
    "#create an array of mean of each column for each cluster..."
   ]
  },
  {
   "cell_type": "code",
   "execution_count": 23,
   "metadata": {},
   "outputs": [],
   "source": [
    "cluster_means_df = pd.DataFrame(cluster_means, columns = df.columns)\n",
    "\n",
    "#create a dataframe of cluster means..."
   ]
  },
  {
   "cell_type": "code",
   "execution_count": 24,
   "metadata": {},
   "outputs": [
    {
     "data": {
      "text/html": [
       "<div>\n",
       "<style scoped>\n",
       "    .dataframe tbody tr th:only-of-type {\n",
       "        vertical-align: middle;\n",
       "    }\n",
       "\n",
       "    .dataframe tbody tr th {\n",
       "        vertical-align: top;\n",
       "    }\n",
       "\n",
       "    .dataframe thead th {\n",
       "        text-align: right;\n",
       "    }\n",
       "</style>\n",
       "<table border=\"1\" class=\"dataframe\">\n",
       "  <thead>\n",
       "    <tr style=\"text-align: right;\">\n",
       "      <th></th>\n",
       "      <th>Channel</th>\n",
       "      <th>Region</th>\n",
       "      <th>Fresh</th>\n",
       "      <th>Milk</th>\n",
       "      <th>Grocery</th>\n",
       "      <th>Frozen</th>\n",
       "      <th>Detergents_Paper</th>\n",
       "      <th>Delicassen</th>\n",
       "      <th>cluster_label</th>\n",
       "    </tr>\n",
       "  </thead>\n",
       "  <tbody>\n",
       "    <tr>\n",
       "      <th>0</th>\n",
       "      <td>1.311164</td>\n",
       "      <td>2.536817</td>\n",
       "      <td>11060.676960</td>\n",
       "      <td>4885.950119</td>\n",
       "      <td>6889.391924</td>\n",
       "      <td>2653.736342</td>\n",
       "      <td>2383.966746</td>\n",
       "      <td>1282.705463</td>\n",
       "      <td>0.0</td>\n",
       "    </tr>\n",
       "    <tr>\n",
       "      <th>1</th>\n",
       "      <td>1.000000</td>\n",
       "      <td>2.666667</td>\n",
       "      <td>60571.666667</td>\n",
       "      <td>30120.333333</td>\n",
       "      <td>17314.666667</td>\n",
       "      <td>38049.333333</td>\n",
       "      <td>2153.000000</td>\n",
       "      <td>20700.666667</td>\n",
       "      <td>1.0</td>\n",
       "    </tr>\n",
       "    <tr>\n",
       "      <th>2</th>\n",
       "      <td>2.000000</td>\n",
       "      <td>3.000000</td>\n",
       "      <td>29862.500000</td>\n",
       "      <td>53080.750000</td>\n",
       "      <td>60015.750000</td>\n",
       "      <td>3262.250000</td>\n",
       "      <td>27942.250000</td>\n",
       "      <td>3082.250000</td>\n",
       "      <td>2.0</td>\n",
       "    </tr>\n",
       "    <tr>\n",
       "      <th>3</th>\n",
       "      <td>2.000000</td>\n",
       "      <td>2.000000</td>\n",
       "      <td>7220.200000</td>\n",
       "      <td>20974.000000</td>\n",
       "      <td>43688.000000</td>\n",
       "      <td>2976.200000</td>\n",
       "      <td>23848.600000</td>\n",
       "      <td>3151.800000</td>\n",
       "      <td>3.0</td>\n",
       "    </tr>\n",
       "    <tr>\n",
       "      <th>4</th>\n",
       "      <td>1.000000</td>\n",
       "      <td>3.000000</td>\n",
       "      <td>51169.800000</td>\n",
       "      <td>3900.600000</td>\n",
       "      <td>7759.200000</td>\n",
       "      <td>16915.800000</td>\n",
       "      <td>931.800000</td>\n",
       "      <td>4574.200000</td>\n",
       "      <td>4.0</td>\n",
       "    </tr>\n",
       "    <tr>\n",
       "      <th>5</th>\n",
       "      <td>2.000000</td>\n",
       "      <td>3.000000</td>\n",
       "      <td>15235.500000</td>\n",
       "      <td>33157.500000</td>\n",
       "      <td>24442.500000</td>\n",
       "      <td>3885.000000</td>\n",
       "      <td>11038.500000</td>\n",
       "      <td>8931.500000</td>\n",
       "      <td>5.0</td>\n",
       "    </tr>\n",
       "  </tbody>\n",
       "</table>\n",
       "</div>"
      ],
      "text/plain": [
       "    Channel    Region         Fresh          Milk       Grocery        Frozen  \\\n",
       "0  1.311164  2.536817  11060.676960   4885.950119   6889.391924   2653.736342   \n",
       "1  1.000000  2.666667  60571.666667  30120.333333  17314.666667  38049.333333   \n",
       "2  2.000000  3.000000  29862.500000  53080.750000  60015.750000   3262.250000   \n",
       "3  2.000000  2.000000   7220.200000  20974.000000  43688.000000   2976.200000   \n",
       "4  1.000000  3.000000  51169.800000   3900.600000   7759.200000  16915.800000   \n",
       "5  2.000000  3.000000  15235.500000  33157.500000  24442.500000   3885.000000   \n",
       "\n",
       "   Detergents_Paper    Delicassen  cluster_label  \n",
       "0       2383.966746   1282.705463            0.0  \n",
       "1       2153.000000  20700.666667            1.0  \n",
       "2      27942.250000   3082.250000            2.0  \n",
       "3      23848.600000   3151.800000            3.0  \n",
       "4        931.800000   4574.200000            4.0  \n",
       "5      11038.500000   8931.500000            5.0  "
      ]
     },
     "execution_count": 24,
     "metadata": {},
     "output_type": "execute_result"
    }
   ],
   "source": [
    "cluster_means_df\n",
    "\n",
    "#view the mean values to assess how clusters were formed..."
   ]
  },
  {
   "cell_type": "markdown",
   "metadata": {},
   "source": []
  },
  {
   "cell_type": "markdown",
   "metadata": {},
   "source": [
    "CHANNEL \n",
    "\n",
    "    1 -> Horeca\n",
    "    2 -> Retail\n",
    "\n",
    "REGION\n",
    "\n",
    "    1 -> Lisbon\n",
    "    2 -> Oporto\n",
    "    3 -> Other Region"
   ]
  },
  {
   "cell_type": "markdown",
   "metadata": {},
   "source": [
    "**ASSUMPTIONS of HOW CLUSTERS ARE FORMED**"
   ]
  },
  {
   "cell_type": "markdown",
   "metadata": {},
   "source": [
    "**CLUSTER 0**\n",
    "\n",
    "    - This cluster consists of mostly Hotels/Restaurants and Cafes and some retail stores, outside the Lisbon \n",
    "    and Oporto region, that focuses more on fresh produce than other items...\n",
    "\n",
    "**CLUSTER 1**\n",
    "\n",
    "    - This cluster has Hotels/Restaurants and Cafes, mostly outside the Lisbon and Oporto region, which \n",
    "    translates to why every columns average annual spend is high except for detergents and paper....\n",
    "    \n",
    "**CLUSTER 2**\n",
    "\n",
    "    - This cluster has Retail stores, maybe retail super stores because of the high annual spend on all \n",
    "    categories, that doesn't sell many delicacies...\n",
    "    \n",
    "**CLUSTER 3**\n",
    "\n",
    "    - This cluster has Retail stores from the Oporto region, that do not purchase much fresh produce...\n",
    "    \n",
    "**CLUSTER 4**\n",
    "\n",
    "    - This cluster has retail stores, outside the Lisbon and Oporto region, maybe medium size stores that also \n",
    "    tend to sell more delicacies than other retail stores...\n",
    "    "
   ]
  },
  {
   "cell_type": "code",
   "execution_count": null,
   "metadata": {},
   "outputs": [],
   "source": []
  },
  {
   "cell_type": "code",
   "execution_count": null,
   "metadata": {},
   "outputs": [],
   "source": []
  }
 ],
 "metadata": {
  "kernelspec": {
   "display_name": "Python 3 (ipykernel)",
   "language": "python",
   "name": "python3"
  },
  "language_info": {
   "codemirror_mode": {
    "name": "ipython",
    "version": 3
   },
   "file_extension": ".py",
   "mimetype": "text/x-python",
   "name": "python",
   "nbconvert_exporter": "python",
   "pygments_lexer": "ipython3",
   "version": "3.11.4"
  }
 },
 "nbformat": 4,
 "nbformat_minor": 4
}
