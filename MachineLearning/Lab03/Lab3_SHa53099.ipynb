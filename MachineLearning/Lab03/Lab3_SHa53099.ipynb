{
 "cells": [
  {
   "cell_type": "markdown",
   "metadata": {},
   "source": [
    "# Lab 03\n",
    "\n",
    "### SUDARSAN HARIDAS\n",
    "### 300353099"
   ]
  },
  {
   "cell_type": "markdown",
   "metadata": {},
   "source": [
    "**LOAD THE PYTHON LIBRARIES**"
   ]
  },
  {
   "cell_type": "code",
   "execution_count": 1,
   "metadata": {},
   "outputs": [],
   "source": [
    "import pandas as pd\n",
    "import numpy as np\n",
    "import matplotlib.pyplot as plt\n",
    "import seaborn as sns\n",
    "\n",
    "from sklearn.svm import SVC\n",
    "from sklearn.preprocessing import RobustScaler\n",
    "from sklearn.linear_model import LogisticRegression\n",
    "from sklearn.feature_selection import SelectFromModel\n",
    "from sklearn.model_selection import train_test_split, GridSearchCV\n",
    "from sklearn.metrics import classification_report, confusion_matrix\n",
    "\n",
    "#Import all necessary libraries..."
   ]
  },
  {
   "cell_type": "code",
   "execution_count": null,
   "metadata": {},
   "outputs": [],
   "source": []
  },
  {
   "cell_type": "markdown",
   "metadata": {},
   "source": [
    "**READ THE DATA**"
   ]
  },
  {
   "cell_type": "code",
   "execution_count": 2,
   "metadata": {},
   "outputs": [],
   "source": [
    "df = pd.read_csv('salary.csv')\n",
    "\n",
    "df_copy = df.copy()\n",
    "\n",
    "#read the data and keep a copy..."
   ]
  },
  {
   "cell_type": "code",
   "execution_count": 3,
   "metadata": {},
   "outputs": [
    {
     "data": {
      "text/html": [
       "<div>\n",
       "<style scoped>\n",
       "    .dataframe tbody tr th:only-of-type {\n",
       "        vertical-align: middle;\n",
       "    }\n",
       "\n",
       "    .dataframe tbody tr th {\n",
       "        vertical-align: top;\n",
       "    }\n",
       "\n",
       "    .dataframe thead th {\n",
       "        text-align: right;\n",
       "    }\n",
       "</style>\n",
       "<table border=\"1\" class=\"dataframe\">\n",
       "  <thead>\n",
       "    <tr style=\"text-align: right;\">\n",
       "      <th></th>\n",
       "      <th>age</th>\n",
       "      <th>workclass</th>\n",
       "      <th>fnlwgt</th>\n",
       "      <th>education</th>\n",
       "      <th>education-num</th>\n",
       "      <th>marital-status</th>\n",
       "      <th>occupation</th>\n",
       "      <th>relationship</th>\n",
       "      <th>race</th>\n",
       "      <th>sex</th>\n",
       "      <th>capital-gain</th>\n",
       "      <th>capital-loss</th>\n",
       "      <th>hours-per-week</th>\n",
       "      <th>native-country</th>\n",
       "      <th>salary</th>\n",
       "    </tr>\n",
       "  </thead>\n",
       "  <tbody>\n",
       "    <tr>\n",
       "      <th>0</th>\n",
       "      <td>39.0</td>\n",
       "      <td>State-gov</td>\n",
       "      <td>77516.0</td>\n",
       "      <td>Bachelors</td>\n",
       "      <td>13.0</td>\n",
       "      <td>Never-married</td>\n",
       "      <td>Adm-clerical</td>\n",
       "      <td>Not-in-family</td>\n",
       "      <td>White</td>\n",
       "      <td>Male</td>\n",
       "      <td>2174.0</td>\n",
       "      <td>0.0</td>\n",
       "      <td>40.0</td>\n",
       "      <td>United-States</td>\n",
       "      <td>&lt;=50K</td>\n",
       "    </tr>\n",
       "    <tr>\n",
       "      <th>1</th>\n",
       "      <td>50.0</td>\n",
       "      <td>Self-emp-not-inc</td>\n",
       "      <td>83311.0</td>\n",
       "      <td>Bachelors</td>\n",
       "      <td>13.0</td>\n",
       "      <td>Married-civ-spouse</td>\n",
       "      <td>Exec-managerial</td>\n",
       "      <td>Husband</td>\n",
       "      <td>White</td>\n",
       "      <td>Male</td>\n",
       "      <td>0.0</td>\n",
       "      <td>0.0</td>\n",
       "      <td>13.0</td>\n",
       "      <td>United-States</td>\n",
       "      <td>&lt;=50K</td>\n",
       "    </tr>\n",
       "    <tr>\n",
       "      <th>2</th>\n",
       "      <td>38.0</td>\n",
       "      <td>Private</td>\n",
       "      <td>215646.0</td>\n",
       "      <td>HS-grad</td>\n",
       "      <td>9.0</td>\n",
       "      <td>Divorced</td>\n",
       "      <td>Handlers-cleaners</td>\n",
       "      <td>Not-in-family</td>\n",
       "      <td>White</td>\n",
       "      <td>Male</td>\n",
       "      <td>0.0</td>\n",
       "      <td>0.0</td>\n",
       "      <td>40.0</td>\n",
       "      <td>United-States</td>\n",
       "      <td>&lt;=50K</td>\n",
       "    </tr>\n",
       "    <tr>\n",
       "      <th>3</th>\n",
       "      <td>53.0</td>\n",
       "      <td>Private</td>\n",
       "      <td>234721.0</td>\n",
       "      <td>11th</td>\n",
       "      <td>7.0</td>\n",
       "      <td>Married-civ-spouse</td>\n",
       "      <td>Handlers-cleaners</td>\n",
       "      <td>Husband</td>\n",
       "      <td>Black</td>\n",
       "      <td>Male</td>\n",
       "      <td>0.0</td>\n",
       "      <td>0.0</td>\n",
       "      <td>40.0</td>\n",
       "      <td>United-States</td>\n",
       "      <td>&lt;=50K</td>\n",
       "    </tr>\n",
       "    <tr>\n",
       "      <th>4</th>\n",
       "      <td>28.0</td>\n",
       "      <td>Private</td>\n",
       "      <td>338409.0</td>\n",
       "      <td>Bachelors</td>\n",
       "      <td>13.0</td>\n",
       "      <td>Married-civ-spouse</td>\n",
       "      <td>Prof-specialty</td>\n",
       "      <td>Wife</td>\n",
       "      <td>Black</td>\n",
       "      <td>Female</td>\n",
       "      <td>0.0</td>\n",
       "      <td>0.0</td>\n",
       "      <td>40.0</td>\n",
       "      <td>Cuba</td>\n",
       "      <td>&lt;=50K</td>\n",
       "    </tr>\n",
       "  </tbody>\n",
       "</table>\n",
       "</div>"
      ],
      "text/plain": [
       "    age         workclass    fnlwgt  education  education-num  \\\n",
       "0  39.0         State-gov   77516.0  Bachelors           13.0   \n",
       "1  50.0  Self-emp-not-inc   83311.0  Bachelors           13.0   \n",
       "2  38.0           Private  215646.0    HS-grad            9.0   \n",
       "3  53.0           Private  234721.0       11th            7.0   \n",
       "4  28.0           Private  338409.0  Bachelors           13.0   \n",
       "\n",
       "       marital-status         occupation   relationship   race     sex  \\\n",
       "0       Never-married       Adm-clerical  Not-in-family  White    Male   \n",
       "1  Married-civ-spouse    Exec-managerial        Husband  White    Male   \n",
       "2            Divorced  Handlers-cleaners  Not-in-family  White    Male   \n",
       "3  Married-civ-spouse  Handlers-cleaners        Husband  Black    Male   \n",
       "4  Married-civ-spouse     Prof-specialty           Wife  Black  Female   \n",
       "\n",
       "   capital-gain  capital-loss  hours-per-week native-country salary  \n",
       "0        2174.0           0.0            40.0  United-States  <=50K  \n",
       "1           0.0           0.0            13.0  United-States  <=50K  \n",
       "2           0.0           0.0            40.0  United-States  <=50K  \n",
       "3           0.0           0.0            40.0  United-States  <=50K  \n",
       "4           0.0           0.0            40.0           Cuba  <=50K  "
      ]
     },
     "execution_count": 3,
     "metadata": {},
     "output_type": "execute_result"
    }
   ],
   "source": [
    "df.head()\n",
    "\n",
    "#view first 5 rows of data..."
   ]
  },
  {
   "cell_type": "code",
   "execution_count": 4,
   "metadata": {},
   "outputs": [
    {
     "name": "stdout",
     "output_type": "stream",
     "text": [
      "<class 'pandas.core.frame.DataFrame'>\n",
      "RangeIndex: 53726 entries, 0 to 53725\n",
      "Data columns (total 15 columns):\n",
      " #   Column          Non-Null Count  Dtype  \n",
      "---  ------          --------------  -----  \n",
      " 0   age             51108 non-null  float64\n",
      " 1   workclass       48200 non-null  object \n",
      " 2   fnlwgt          51082 non-null  float64\n",
      " 3   education       51126 non-null  object \n",
      " 4   education-num   51090 non-null  float64\n",
      " 5   marital-status  51116 non-null  object \n",
      " 6   occupation      48173 non-null  object \n",
      " 7   relationship    51102 non-null  object \n",
      " 8   race            51117 non-null  object \n",
      " 9   sex             51148 non-null  object \n",
      " 10  capital-gain    51083 non-null  float64\n",
      " 11  capital-loss    51095 non-null  float64\n",
      " 12  hours-per-week  51234 non-null  float64\n",
      " 13  native-country  50250 non-null  object \n",
      " 14  salary          51114 non-null  object \n",
      "dtypes: float64(6), object(9)\n",
      "memory usage: 6.1+ MB\n"
     ]
    }
   ],
   "source": [
    "df.info()\n",
    "\n",
    "#view data types and number of non null entries in each column..."
   ]
  },
  {
   "cell_type": "code",
   "execution_count": null,
   "metadata": {},
   "outputs": [],
   "source": []
  },
  {
   "cell_type": "markdown",
   "metadata": {},
   "source": [
    "**DROP UNNEEDED DATA**"
   ]
  },
  {
   "cell_type": "code",
   "execution_count": 5,
   "metadata": {},
   "outputs": [
    {
     "data": {
      "text/plain": [
       "age               2618\n",
       "workclass         5526\n",
       "fnlwgt            2644\n",
       "education         2600\n",
       "education-num     2636\n",
       "marital-status    2610\n",
       "occupation        5553\n",
       "relationship      2624\n",
       "race              2609\n",
       "sex               2578\n",
       "capital-gain      2643\n",
       "capital-loss      2631\n",
       "hours-per-week    2492\n",
       "native-country    3476\n",
       "salary            2612\n",
       "dtype: int64"
      ]
     },
     "execution_count": 5,
     "metadata": {},
     "output_type": "execute_result"
    }
   ],
   "source": [
    "df.isnull().sum()\n",
    "\n",
    "#Check for null values in each column"
   ]
  },
  {
   "cell_type": "code",
   "execution_count": 6,
   "metadata": {},
   "outputs": [],
   "source": [
    "df.dropna(inplace = True)\n",
    "\n",
    "#drop all null values"
   ]
  },
  {
   "cell_type": "code",
   "execution_count": 7,
   "metadata": {},
   "outputs": [
    {
     "name": "stdout",
     "output_type": "stream",
     "text": [
      "<class 'pandas.core.frame.DataFrame'>\n",
      "RangeIndex: 45222 entries, 0 to 45221\n",
      "Data columns (total 15 columns):\n",
      " #   Column          Non-Null Count  Dtype  \n",
      "---  ------          --------------  -----  \n",
      " 0   age             45222 non-null  float64\n",
      " 1   workclass       45222 non-null  object \n",
      " 2   fnlwgt          45222 non-null  float64\n",
      " 3   education       45222 non-null  object \n",
      " 4   education-num   45222 non-null  float64\n",
      " 5   marital-status  45222 non-null  object \n",
      " 6   occupation      45222 non-null  object \n",
      " 7   relationship    45222 non-null  object \n",
      " 8   race            45222 non-null  object \n",
      " 9   sex             45222 non-null  object \n",
      " 10  capital-gain    45222 non-null  float64\n",
      " 11  capital-loss    45222 non-null  float64\n",
      " 12  hours-per-week  45222 non-null  float64\n",
      " 13  native-country  45222 non-null  object \n",
      " 14  salary          45222 non-null  object \n",
      "dtypes: float64(6), object(9)\n",
      "memory usage: 5.2+ MB\n"
     ]
    }
   ],
   "source": [
    "df = df.reset_index()\n",
    "\n",
    "df.drop('index', axis = 1, inplace = True)\n",
    "\n",
    "df.info()\n",
    "\n",
    "#reset the index after dropping null values..."
   ]
  },
  {
   "cell_type": "code",
   "execution_count": null,
   "metadata": {},
   "outputs": [],
   "source": []
  },
  {
   "cell_type": "markdown",
   "metadata": {},
   "source": [
    "**CREATE NEW COLUMN**"
   ]
  },
  {
   "cell_type": "code",
   "execution_count": 8,
   "metadata": {},
   "outputs": [
    {
     "data": {
      "text/plain": [
       "<=50K     22654\n",
       "<=50K.    11360\n",
       ">50K       7508\n",
       ">50K.      3700\n",
       "Name: salary, dtype: int64"
      ]
     },
     "execution_count": 8,
     "metadata": {},
     "output_type": "execute_result"
    }
   ],
   "source": [
    "df.salary.value_counts()\n",
    "\n",
    "#check number of instances of each unique value in salary column..."
   ]
  },
  {
   "cell_type": "code",
   "execution_count": 9,
   "metadata": {},
   "outputs": [],
   "source": [
    "df.salary = df['salary'].apply(lambda x: x.replace(\".\",\"\"))\n",
    "\n",
    "#remove all '.' in salary column..."
   ]
  },
  {
   "cell_type": "code",
   "execution_count": 10,
   "metadata": {},
   "outputs": [
    {
     "data": {
      "text/plain": [
       "<=50K    34014\n",
       ">50K     11208\n",
       "Name: salary, dtype: int64"
      ]
     },
     "execution_count": 10,
     "metadata": {},
     "output_type": "execute_result"
    }
   ],
   "source": [
    "df.salary.value_counts()\n",
    "\n",
    "#re-check number of instances of each unique value in salary column..."
   ]
  },
  {
   "cell_type": "code",
   "execution_count": 11,
   "metadata": {},
   "outputs": [],
   "source": [
    "df['salary_less50k'] = df['salary'].apply(lambda x: \"yes\" if x == \"<=50K\" else \"no\")\n",
    "\n",
    "#apply the necessary modification to salary column..."
   ]
  },
  {
   "cell_type": "code",
   "execution_count": 12,
   "metadata": {},
   "outputs": [
    {
     "data": {
      "text/plain": [
       "yes    34014\n",
       "no     11208\n",
       "Name: salary_less50k, dtype: int64"
      ]
     },
     "execution_count": 12,
     "metadata": {},
     "output_type": "execute_result"
    }
   ],
   "source": [
    "df.salary_less50k.value_counts()\n",
    "\n",
    "#re-check number of instances of each unique value in salary column..."
   ]
  },
  {
   "cell_type": "code",
   "execution_count": 13,
   "metadata": {},
   "outputs": [],
   "source": [
    "df.drop('salary', axis = 1, inplace = True)\n",
    "\n",
    "#drop salary column as modified new column has been created..."
   ]
  },
  {
   "cell_type": "code",
   "execution_count": null,
   "metadata": {},
   "outputs": [],
   "source": []
  },
  {
   "cell_type": "markdown",
   "metadata": {},
   "source": [
    "**MODIFY COLUMN NAMES AND CATEGORICAL CONTENT**"
   ]
  },
  {
   "cell_type": "code",
   "execution_count": 14,
   "metadata": {},
   "outputs": [],
   "source": [
    "df.columns = df.columns.str.replace(\"-\",\"_\")\n",
    "\n",
    "#replace all hiphens with underscores in column names..."
   ]
  },
  {
   "cell_type": "code",
   "execution_count": 15,
   "metadata": {},
   "outputs": [],
   "source": [
    "df.workclass = df['workclass'].apply(lambda x: x.replace(\"-\",\"_\"))\n",
    "df.education = df['education'].apply(lambda x: x.replace(\"-\",\"_\"))\n",
    "df.marital_status = df['marital_status'].apply(lambda x: x.replace(\"-\",\"_\"))\n",
    "df.occupation = df['occupation'].apply(lambda x: x.replace(\"-\",\"_\"))\n",
    "df.relationship = df['relationship'].apply(lambda x: x.replace(\"-\",\"_\"))\n",
    "df.race = df['race'].apply(lambda x: x.replace(\"-\",\"_\"))\n",
    "df.sex = df['sex'].apply(lambda x: x.replace(\"-\",\"_\"))\n",
    "df.native_country = df['native_country'].apply(lambda x: x.replace(\"-\",\"_\"))\n",
    "\n",
    "#replace all categorical columns with underscores\n",
    "\n",
    "#df = df.apply(lambda x: x.replace(\" \",\"_\") if x.dtype == \"object\" else x) -- not working"
   ]
  },
  {
   "cell_type": "code",
   "execution_count": 16,
   "metadata": {},
   "outputs": [
    {
     "data": {
      "text/html": [
       "<div>\n",
       "<style scoped>\n",
       "    .dataframe tbody tr th:only-of-type {\n",
       "        vertical-align: middle;\n",
       "    }\n",
       "\n",
       "    .dataframe tbody tr th {\n",
       "        vertical-align: top;\n",
       "    }\n",
       "\n",
       "    .dataframe thead th {\n",
       "        text-align: right;\n",
       "    }\n",
       "</style>\n",
       "<table border=\"1\" class=\"dataframe\">\n",
       "  <thead>\n",
       "    <tr style=\"text-align: right;\">\n",
       "      <th></th>\n",
       "      <th>age</th>\n",
       "      <th>workclass</th>\n",
       "      <th>fnlwgt</th>\n",
       "      <th>education</th>\n",
       "      <th>education_num</th>\n",
       "      <th>marital_status</th>\n",
       "      <th>occupation</th>\n",
       "      <th>relationship</th>\n",
       "      <th>race</th>\n",
       "      <th>sex</th>\n",
       "      <th>capital_gain</th>\n",
       "      <th>capital_loss</th>\n",
       "      <th>hours_per_week</th>\n",
       "      <th>native_country</th>\n",
       "      <th>salary_less50k</th>\n",
       "    </tr>\n",
       "  </thead>\n",
       "  <tbody>\n",
       "    <tr>\n",
       "      <th>0</th>\n",
       "      <td>39.0</td>\n",
       "      <td>State_gov</td>\n",
       "      <td>77516.0</td>\n",
       "      <td>Bachelors</td>\n",
       "      <td>13.0</td>\n",
       "      <td>Never_married</td>\n",
       "      <td>Adm_clerical</td>\n",
       "      <td>Not_in_family</td>\n",
       "      <td>White</td>\n",
       "      <td>Male</td>\n",
       "      <td>2174.0</td>\n",
       "      <td>0.0</td>\n",
       "      <td>40.0</td>\n",
       "      <td>United_States</td>\n",
       "      <td>yes</td>\n",
       "    </tr>\n",
       "    <tr>\n",
       "      <th>1</th>\n",
       "      <td>50.0</td>\n",
       "      <td>Self_emp_not_inc</td>\n",
       "      <td>83311.0</td>\n",
       "      <td>Bachelors</td>\n",
       "      <td>13.0</td>\n",
       "      <td>Married_civ_spouse</td>\n",
       "      <td>Exec_managerial</td>\n",
       "      <td>Husband</td>\n",
       "      <td>White</td>\n",
       "      <td>Male</td>\n",
       "      <td>0.0</td>\n",
       "      <td>0.0</td>\n",
       "      <td>13.0</td>\n",
       "      <td>United_States</td>\n",
       "      <td>yes</td>\n",
       "    </tr>\n",
       "    <tr>\n",
       "      <th>2</th>\n",
       "      <td>38.0</td>\n",
       "      <td>Private</td>\n",
       "      <td>215646.0</td>\n",
       "      <td>HS_grad</td>\n",
       "      <td>9.0</td>\n",
       "      <td>Divorced</td>\n",
       "      <td>Handlers_cleaners</td>\n",
       "      <td>Not_in_family</td>\n",
       "      <td>White</td>\n",
       "      <td>Male</td>\n",
       "      <td>0.0</td>\n",
       "      <td>0.0</td>\n",
       "      <td>40.0</td>\n",
       "      <td>United_States</td>\n",
       "      <td>yes</td>\n",
       "    </tr>\n",
       "    <tr>\n",
       "      <th>3</th>\n",
       "      <td>53.0</td>\n",
       "      <td>Private</td>\n",
       "      <td>234721.0</td>\n",
       "      <td>11th</td>\n",
       "      <td>7.0</td>\n",
       "      <td>Married_civ_spouse</td>\n",
       "      <td>Handlers_cleaners</td>\n",
       "      <td>Husband</td>\n",
       "      <td>Black</td>\n",
       "      <td>Male</td>\n",
       "      <td>0.0</td>\n",
       "      <td>0.0</td>\n",
       "      <td>40.0</td>\n",
       "      <td>United_States</td>\n",
       "      <td>yes</td>\n",
       "    </tr>\n",
       "    <tr>\n",
       "      <th>4</th>\n",
       "      <td>28.0</td>\n",
       "      <td>Private</td>\n",
       "      <td>338409.0</td>\n",
       "      <td>Bachelors</td>\n",
       "      <td>13.0</td>\n",
       "      <td>Married_civ_spouse</td>\n",
       "      <td>Prof_specialty</td>\n",
       "      <td>Wife</td>\n",
       "      <td>Black</td>\n",
       "      <td>Female</td>\n",
       "      <td>0.0</td>\n",
       "      <td>0.0</td>\n",
       "      <td>40.0</td>\n",
       "      <td>Cuba</td>\n",
       "      <td>yes</td>\n",
       "    </tr>\n",
       "  </tbody>\n",
       "</table>\n",
       "</div>"
      ],
      "text/plain": [
       "    age         workclass    fnlwgt  education  education_num  \\\n",
       "0  39.0         State_gov   77516.0  Bachelors           13.0   \n",
       "1  50.0  Self_emp_not_inc   83311.0  Bachelors           13.0   \n",
       "2  38.0           Private  215646.0    HS_grad            9.0   \n",
       "3  53.0           Private  234721.0       11th            7.0   \n",
       "4  28.0           Private  338409.0  Bachelors           13.0   \n",
       "\n",
       "       marital_status         occupation   relationship   race     sex  \\\n",
       "0       Never_married       Adm_clerical  Not_in_family  White    Male   \n",
       "1  Married_civ_spouse    Exec_managerial        Husband  White    Male   \n",
       "2            Divorced  Handlers_cleaners  Not_in_family  White    Male   \n",
       "3  Married_civ_spouse  Handlers_cleaners        Husband  Black    Male   \n",
       "4  Married_civ_spouse     Prof_specialty           Wife  Black  Female   \n",
       "\n",
       "   capital_gain  capital_loss  hours_per_week native_country salary_less50k  \n",
       "0        2174.0           0.0            40.0  United_States            yes  \n",
       "1           0.0           0.0            13.0  United_States            yes  \n",
       "2           0.0           0.0            40.0  United_States            yes  \n",
       "3           0.0           0.0            40.0  United_States            yes  \n",
       "4           0.0           0.0            40.0           Cuba            yes  "
      ]
     },
     "execution_count": 16,
     "metadata": {},
     "output_type": "execute_result"
    }
   ],
   "source": [
    "df.head()"
   ]
  },
  {
   "cell_type": "code",
   "execution_count": null,
   "metadata": {},
   "outputs": [],
   "source": []
  },
  {
   "cell_type": "markdown",
   "metadata": {},
   "source": [
    "**REDUCE NUMBER OF UNIQUE VALUES**"
   ]
  },
  {
   "cell_type": "code",
   "execution_count": 17,
   "metadata": {},
   "outputs": [
    {
     "data": {
      "text/plain": [
       "United_States                 41292\n",
       "Mexico                          903\n",
       "Philippines                     283\n",
       "Germany                         193\n",
       "Puerto_Rico                     175\n",
       "Canada                          163\n",
       "India                           147\n",
       "El_Salvador                     147\n",
       "Cuba                            133\n",
       "England                         119\n",
       "China                           113\n",
       "Jamaica                         103\n",
       "South                           101\n",
       "Italy                           100\n",
       "Dominican_Republic               97\n",
       "Japan                            89\n",
       "Guatemala                        86\n",
       "Vietnam                          83\n",
       "Columbia                         82\n",
       "Poland                           81\n",
       "Haiti                            69\n",
       "Portugal                         62\n",
       "Iran                             56\n",
       "Taiwan                           55\n",
       "Greece                           49\n",
       "Nicaragua                        48\n",
       "Peru                             45\n",
       "Ecuador                          43\n",
       "Ireland                          36\n",
       "France                           36\n",
       "Thailand                         29\n",
       "Hong                             28\n",
       "Cambodia                         26\n",
       "Trinadad&Tobago                  26\n",
       "Yugoslavia                       23\n",
       "Outlying_US(Guam_USVI_etc)       22\n",
       "Laos                             21\n",
       "Scotland                         20\n",
       "Honduras                         19\n",
       "Hungary                          18\n",
       "Holand_Netherlands                1\n",
       "Name: native_country, dtype: int64"
      ]
     },
     "execution_count": 17,
     "metadata": {},
     "output_type": "execute_result"
    }
   ],
   "source": [
    "df.native_country.value_counts()\n",
    "\n",
    "#check unique values in native country column..."
   ]
  },
  {
   "cell_type": "code",
   "execution_count": 18,
   "metadata": {},
   "outputs": [],
   "source": [
    "df.native_country = df.native_country.apply(lambda x: x if x == \"United_States\" else \"Other_country\")\n",
    "\n",
    "#perform necessary modification in native country column..."
   ]
  },
  {
   "cell_type": "code",
   "execution_count": 19,
   "metadata": {},
   "outputs": [
    {
     "data": {
      "text/plain": [
       "United_States    41292\n",
       "Other_country     3930\n",
       "Name: native_country, dtype: int64"
      ]
     },
     "execution_count": 19,
     "metadata": {},
     "output_type": "execute_result"
    }
   ],
   "source": [
    "df.native_country.value_counts()\n",
    "\n",
    "#re-check unique values in native country column..."
   ]
  },
  {
   "cell_type": "code",
   "execution_count": null,
   "metadata": {},
   "outputs": [],
   "source": []
  },
  {
   "cell_type": "markdown",
   "metadata": {},
   "source": [
    "**DROP COLUMNS**"
   ]
  },
  {
   "cell_type": "code",
   "execution_count": 20,
   "metadata": {},
   "outputs": [],
   "source": [
    "df.drop(['capital_loss','capital_gain'], axis = 1, inplace = True)\n",
    "\n",
    "#drop the mentioned columns..."
   ]
  },
  {
   "cell_type": "code",
   "execution_count": null,
   "metadata": {},
   "outputs": [],
   "source": []
  },
  {
   "cell_type": "markdown",
   "metadata": {},
   "source": [
    "**CREATE DUMMY VALUES FOR DATAFRAME**"
   ]
  },
  {
   "cell_type": "code",
   "execution_count": 21,
   "metadata": {},
   "outputs": [],
   "source": [
    "df_dummies = pd.get_dummies(df, drop_first = True)\n",
    "\n",
    "#create dummy columns for all the categorical columns in the data frame...\n",
    "#drop the first columns to avoid overfitting..."
   ]
  },
  {
   "cell_type": "code",
   "execution_count": 22,
   "metadata": {},
   "outputs": [
    {
     "data": {
      "text/html": [
       "<div>\n",
       "<style scoped>\n",
       "    .dataframe tbody tr th:only-of-type {\n",
       "        vertical-align: middle;\n",
       "    }\n",
       "\n",
       "    .dataframe tbody tr th {\n",
       "        vertical-align: top;\n",
       "    }\n",
       "\n",
       "    .dataframe thead th {\n",
       "        text-align: right;\n",
       "    }\n",
       "</style>\n",
       "<table border=\"1\" class=\"dataframe\">\n",
       "  <thead>\n",
       "    <tr style=\"text-align: right;\">\n",
       "      <th></th>\n",
       "      <th>age</th>\n",
       "      <th>workclass</th>\n",
       "      <th>fnlwgt</th>\n",
       "      <th>education</th>\n",
       "      <th>education_num</th>\n",
       "      <th>marital_status</th>\n",
       "      <th>occupation</th>\n",
       "      <th>relationship</th>\n",
       "      <th>race</th>\n",
       "      <th>sex</th>\n",
       "      <th>hours_per_week</th>\n",
       "      <th>native_country</th>\n",
       "      <th>salary_less50k</th>\n",
       "    </tr>\n",
       "  </thead>\n",
       "  <tbody>\n",
       "    <tr>\n",
       "      <th>0</th>\n",
       "      <td>39.0</td>\n",
       "      <td>State_gov</td>\n",
       "      <td>77516.0</td>\n",
       "      <td>Bachelors</td>\n",
       "      <td>13.0</td>\n",
       "      <td>Never_married</td>\n",
       "      <td>Adm_clerical</td>\n",
       "      <td>Not_in_family</td>\n",
       "      <td>White</td>\n",
       "      <td>Male</td>\n",
       "      <td>40.0</td>\n",
       "      <td>United_States</td>\n",
       "      <td>yes</td>\n",
       "    </tr>\n",
       "    <tr>\n",
       "      <th>1</th>\n",
       "      <td>50.0</td>\n",
       "      <td>Self_emp_not_inc</td>\n",
       "      <td>83311.0</td>\n",
       "      <td>Bachelors</td>\n",
       "      <td>13.0</td>\n",
       "      <td>Married_civ_spouse</td>\n",
       "      <td>Exec_managerial</td>\n",
       "      <td>Husband</td>\n",
       "      <td>White</td>\n",
       "      <td>Male</td>\n",
       "      <td>13.0</td>\n",
       "      <td>United_States</td>\n",
       "      <td>yes</td>\n",
       "    </tr>\n",
       "    <tr>\n",
       "      <th>2</th>\n",
       "      <td>38.0</td>\n",
       "      <td>Private</td>\n",
       "      <td>215646.0</td>\n",
       "      <td>HS_grad</td>\n",
       "      <td>9.0</td>\n",
       "      <td>Divorced</td>\n",
       "      <td>Handlers_cleaners</td>\n",
       "      <td>Not_in_family</td>\n",
       "      <td>White</td>\n",
       "      <td>Male</td>\n",
       "      <td>40.0</td>\n",
       "      <td>United_States</td>\n",
       "      <td>yes</td>\n",
       "    </tr>\n",
       "    <tr>\n",
       "      <th>3</th>\n",
       "      <td>53.0</td>\n",
       "      <td>Private</td>\n",
       "      <td>234721.0</td>\n",
       "      <td>11th</td>\n",
       "      <td>7.0</td>\n",
       "      <td>Married_civ_spouse</td>\n",
       "      <td>Handlers_cleaners</td>\n",
       "      <td>Husband</td>\n",
       "      <td>Black</td>\n",
       "      <td>Male</td>\n",
       "      <td>40.0</td>\n",
       "      <td>United_States</td>\n",
       "      <td>yes</td>\n",
       "    </tr>\n",
       "    <tr>\n",
       "      <th>4</th>\n",
       "      <td>28.0</td>\n",
       "      <td>Private</td>\n",
       "      <td>338409.0</td>\n",
       "      <td>Bachelors</td>\n",
       "      <td>13.0</td>\n",
       "      <td>Married_civ_spouse</td>\n",
       "      <td>Prof_specialty</td>\n",
       "      <td>Wife</td>\n",
       "      <td>Black</td>\n",
       "      <td>Female</td>\n",
       "      <td>40.0</td>\n",
       "      <td>Other_country</td>\n",
       "      <td>yes</td>\n",
       "    </tr>\n",
       "  </tbody>\n",
       "</table>\n",
       "</div>"
      ],
      "text/plain": [
       "    age         workclass    fnlwgt  education  education_num  \\\n",
       "0  39.0         State_gov   77516.0  Bachelors           13.0   \n",
       "1  50.0  Self_emp_not_inc   83311.0  Bachelors           13.0   \n",
       "2  38.0           Private  215646.0    HS_grad            9.0   \n",
       "3  53.0           Private  234721.0       11th            7.0   \n",
       "4  28.0           Private  338409.0  Bachelors           13.0   \n",
       "\n",
       "       marital_status         occupation   relationship   race     sex  \\\n",
       "0       Never_married       Adm_clerical  Not_in_family  White    Male   \n",
       "1  Married_civ_spouse    Exec_managerial        Husband  White    Male   \n",
       "2            Divorced  Handlers_cleaners  Not_in_family  White    Male   \n",
       "3  Married_civ_spouse  Handlers_cleaners        Husband  Black    Male   \n",
       "4  Married_civ_spouse     Prof_specialty           Wife  Black  Female   \n",
       "\n",
       "   hours_per_week native_country salary_less50k  \n",
       "0            40.0  United_States            yes  \n",
       "1            13.0  United_States            yes  \n",
       "2            40.0  United_States            yes  \n",
       "3            40.0  United_States            yes  \n",
       "4            40.0  Other_country            yes  "
      ]
     },
     "execution_count": 22,
     "metadata": {},
     "output_type": "execute_result"
    }
   ],
   "source": [
    "df.head()"
   ]
  },
  {
   "cell_type": "code",
   "execution_count": 23,
   "metadata": {},
   "outputs": [
    {
     "name": "stdout",
     "output_type": "stream",
     "text": [
      "<class 'pandas.core.frame.DataFrame'>\n",
      "RangeIndex: 45222 entries, 0 to 45221\n",
      "Data columns (total 56 columns):\n",
      " #   Column                                Non-Null Count  Dtype  \n",
      "---  ------                                --------------  -----  \n",
      " 0   age                                   45222 non-null  float64\n",
      " 1   fnlwgt                                45222 non-null  float64\n",
      " 2   education_num                         45222 non-null  float64\n",
      " 3   hours_per_week                        45222 non-null  float64\n",
      " 4   workclass_Local_gov                   45222 non-null  uint8  \n",
      " 5   workclass_Private                     45222 non-null  uint8  \n",
      " 6   workclass_Self_emp_inc                45222 non-null  uint8  \n",
      " 7   workclass_Self_emp_not_inc            45222 non-null  uint8  \n",
      " 8   workclass_State_gov                   45222 non-null  uint8  \n",
      " 9   workclass_Without_pay                 45222 non-null  uint8  \n",
      " 10  education_11th                        45222 non-null  uint8  \n",
      " 11  education_12th                        45222 non-null  uint8  \n",
      " 12  education_1st_4th                     45222 non-null  uint8  \n",
      " 13  education_5th_6th                     45222 non-null  uint8  \n",
      " 14  education_7th_8th                     45222 non-null  uint8  \n",
      " 15  education_9th                         45222 non-null  uint8  \n",
      " 16  education_Assoc_acdm                  45222 non-null  uint8  \n",
      " 17  education_Assoc_voc                   45222 non-null  uint8  \n",
      " 18  education_Bachelors                   45222 non-null  uint8  \n",
      " 19  education_Doctorate                   45222 non-null  uint8  \n",
      " 20  education_HS_grad                     45222 non-null  uint8  \n",
      " 21  education_Masters                     45222 non-null  uint8  \n",
      " 22  education_Preschool                   45222 non-null  uint8  \n",
      " 23  education_Prof_school                 45222 non-null  uint8  \n",
      " 24  education_Some_college                45222 non-null  uint8  \n",
      " 25  marital_status_Married_AF_spouse      45222 non-null  uint8  \n",
      " 26  marital_status_Married_civ_spouse     45222 non-null  uint8  \n",
      " 27  marital_status_Married_spouse_absent  45222 non-null  uint8  \n",
      " 28  marital_status_Never_married          45222 non-null  uint8  \n",
      " 29  marital_status_Separated              45222 non-null  uint8  \n",
      " 30  marital_status_Widowed                45222 non-null  uint8  \n",
      " 31  occupation_Armed_Forces               45222 non-null  uint8  \n",
      " 32  occupation_Craft_repair               45222 non-null  uint8  \n",
      " 33  occupation_Exec_managerial            45222 non-null  uint8  \n",
      " 34  occupation_Farming_fishing            45222 non-null  uint8  \n",
      " 35  occupation_Handlers_cleaners          45222 non-null  uint8  \n",
      " 36  occupation_Machine_op_inspct          45222 non-null  uint8  \n",
      " 37  occupation_Other_service              45222 non-null  uint8  \n",
      " 38  occupation_Priv_house_serv            45222 non-null  uint8  \n",
      " 39  occupation_Prof_specialty             45222 non-null  uint8  \n",
      " 40  occupation_Protective_serv            45222 non-null  uint8  \n",
      " 41  occupation_Sales                      45222 non-null  uint8  \n",
      " 42  occupation_Tech_support               45222 non-null  uint8  \n",
      " 43  occupation_Transport_moving           45222 non-null  uint8  \n",
      " 44  relationship_Not_in_family            45222 non-null  uint8  \n",
      " 45  relationship_Other_relative           45222 non-null  uint8  \n",
      " 46  relationship_Own_child                45222 non-null  uint8  \n",
      " 47  relationship_Unmarried                45222 non-null  uint8  \n",
      " 48  relationship_Wife                     45222 non-null  uint8  \n",
      " 49  race_Asian_Pac_Islander               45222 non-null  uint8  \n",
      " 50  race_Black                            45222 non-null  uint8  \n",
      " 51  race_Other                            45222 non-null  uint8  \n",
      " 52  race_White                            45222 non-null  uint8  \n",
      " 53  sex_Male                              45222 non-null  uint8  \n",
      " 54  native_country_United_States          45222 non-null  uint8  \n",
      " 55  salary_less50k_yes                    45222 non-null  uint8  \n",
      "dtypes: float64(4), uint8(52)\n",
      "memory usage: 3.6 MB\n"
     ]
    }
   ],
   "source": [
    "df_dummies.info()"
   ]
  },
  {
   "cell_type": "code",
   "execution_count": 24,
   "metadata": {},
   "outputs": [
    {
     "data": {
      "text/html": [
       "<div>\n",
       "<style scoped>\n",
       "    .dataframe tbody tr th:only-of-type {\n",
       "        vertical-align: middle;\n",
       "    }\n",
       "\n",
       "    .dataframe tbody tr th {\n",
       "        vertical-align: top;\n",
       "    }\n",
       "\n",
       "    .dataframe thead th {\n",
       "        text-align: right;\n",
       "    }\n",
       "</style>\n",
       "<table border=\"1\" class=\"dataframe\">\n",
       "  <thead>\n",
       "    <tr style=\"text-align: right;\">\n",
       "      <th></th>\n",
       "      <th>age</th>\n",
       "      <th>fnlwgt</th>\n",
       "      <th>education_num</th>\n",
       "      <th>hours_per_week</th>\n",
       "      <th>workclass_Local_gov</th>\n",
       "      <th>workclass_Private</th>\n",
       "      <th>workclass_Self_emp_inc</th>\n",
       "      <th>workclass_Self_emp_not_inc</th>\n",
       "      <th>workclass_State_gov</th>\n",
       "      <th>workclass_Without_pay</th>\n",
       "      <th>...</th>\n",
       "      <th>relationship_Own_child</th>\n",
       "      <th>relationship_Unmarried</th>\n",
       "      <th>relationship_Wife</th>\n",
       "      <th>race_Asian_Pac_Islander</th>\n",
       "      <th>race_Black</th>\n",
       "      <th>race_Other</th>\n",
       "      <th>race_White</th>\n",
       "      <th>sex_Male</th>\n",
       "      <th>native_country_United_States</th>\n",
       "      <th>salary_less50k_yes</th>\n",
       "    </tr>\n",
       "  </thead>\n",
       "  <tbody>\n",
       "    <tr>\n",
       "      <th>0</th>\n",
       "      <td>39.0</td>\n",
       "      <td>77516.0</td>\n",
       "      <td>13.0</td>\n",
       "      <td>40.0</td>\n",
       "      <td>0</td>\n",
       "      <td>0</td>\n",
       "      <td>0</td>\n",
       "      <td>0</td>\n",
       "      <td>1</td>\n",
       "      <td>0</td>\n",
       "      <td>...</td>\n",
       "      <td>0</td>\n",
       "      <td>0</td>\n",
       "      <td>0</td>\n",
       "      <td>0</td>\n",
       "      <td>0</td>\n",
       "      <td>0</td>\n",
       "      <td>1</td>\n",
       "      <td>1</td>\n",
       "      <td>1</td>\n",
       "      <td>1</td>\n",
       "    </tr>\n",
       "    <tr>\n",
       "      <th>1</th>\n",
       "      <td>50.0</td>\n",
       "      <td>83311.0</td>\n",
       "      <td>13.0</td>\n",
       "      <td>13.0</td>\n",
       "      <td>0</td>\n",
       "      <td>0</td>\n",
       "      <td>0</td>\n",
       "      <td>1</td>\n",
       "      <td>0</td>\n",
       "      <td>0</td>\n",
       "      <td>...</td>\n",
       "      <td>0</td>\n",
       "      <td>0</td>\n",
       "      <td>0</td>\n",
       "      <td>0</td>\n",
       "      <td>0</td>\n",
       "      <td>0</td>\n",
       "      <td>1</td>\n",
       "      <td>1</td>\n",
       "      <td>1</td>\n",
       "      <td>1</td>\n",
       "    </tr>\n",
       "    <tr>\n",
       "      <th>2</th>\n",
       "      <td>38.0</td>\n",
       "      <td>215646.0</td>\n",
       "      <td>9.0</td>\n",
       "      <td>40.0</td>\n",
       "      <td>0</td>\n",
       "      <td>1</td>\n",
       "      <td>0</td>\n",
       "      <td>0</td>\n",
       "      <td>0</td>\n",
       "      <td>0</td>\n",
       "      <td>...</td>\n",
       "      <td>0</td>\n",
       "      <td>0</td>\n",
       "      <td>0</td>\n",
       "      <td>0</td>\n",
       "      <td>0</td>\n",
       "      <td>0</td>\n",
       "      <td>1</td>\n",
       "      <td>1</td>\n",
       "      <td>1</td>\n",
       "      <td>1</td>\n",
       "    </tr>\n",
       "    <tr>\n",
       "      <th>3</th>\n",
       "      <td>53.0</td>\n",
       "      <td>234721.0</td>\n",
       "      <td>7.0</td>\n",
       "      <td>40.0</td>\n",
       "      <td>0</td>\n",
       "      <td>1</td>\n",
       "      <td>0</td>\n",
       "      <td>0</td>\n",
       "      <td>0</td>\n",
       "      <td>0</td>\n",
       "      <td>...</td>\n",
       "      <td>0</td>\n",
       "      <td>0</td>\n",
       "      <td>0</td>\n",
       "      <td>0</td>\n",
       "      <td>1</td>\n",
       "      <td>0</td>\n",
       "      <td>0</td>\n",
       "      <td>1</td>\n",
       "      <td>1</td>\n",
       "      <td>1</td>\n",
       "    </tr>\n",
       "    <tr>\n",
       "      <th>4</th>\n",
       "      <td>28.0</td>\n",
       "      <td>338409.0</td>\n",
       "      <td>13.0</td>\n",
       "      <td>40.0</td>\n",
       "      <td>0</td>\n",
       "      <td>1</td>\n",
       "      <td>0</td>\n",
       "      <td>0</td>\n",
       "      <td>0</td>\n",
       "      <td>0</td>\n",
       "      <td>...</td>\n",
       "      <td>0</td>\n",
       "      <td>0</td>\n",
       "      <td>1</td>\n",
       "      <td>0</td>\n",
       "      <td>1</td>\n",
       "      <td>0</td>\n",
       "      <td>0</td>\n",
       "      <td>0</td>\n",
       "      <td>0</td>\n",
       "      <td>1</td>\n",
       "    </tr>\n",
       "  </tbody>\n",
       "</table>\n",
       "<p>5 rows × 56 columns</p>\n",
       "</div>"
      ],
      "text/plain": [
       "    age    fnlwgt  education_num  hours_per_week  workclass_Local_gov  \\\n",
       "0  39.0   77516.0           13.0            40.0                    0   \n",
       "1  50.0   83311.0           13.0            13.0                    0   \n",
       "2  38.0  215646.0            9.0            40.0                    0   \n",
       "3  53.0  234721.0            7.0            40.0                    0   \n",
       "4  28.0  338409.0           13.0            40.0                    0   \n",
       "\n",
       "   workclass_Private  workclass_Self_emp_inc  workclass_Self_emp_not_inc  \\\n",
       "0                  0                       0                           0   \n",
       "1                  0                       0                           1   \n",
       "2                  1                       0                           0   \n",
       "3                  1                       0                           0   \n",
       "4                  1                       0                           0   \n",
       "\n",
       "   workclass_State_gov  workclass_Without_pay  ...  relationship_Own_child  \\\n",
       "0                    1                      0  ...                       0   \n",
       "1                    0                      0  ...                       0   \n",
       "2                    0                      0  ...                       0   \n",
       "3                    0                      0  ...                       0   \n",
       "4                    0                      0  ...                       0   \n",
       "\n",
       "   relationship_Unmarried  relationship_Wife  race_Asian_Pac_Islander  \\\n",
       "0                       0                  0                        0   \n",
       "1                       0                  0                        0   \n",
       "2                       0                  0                        0   \n",
       "3                       0                  0                        0   \n",
       "4                       0                  1                        0   \n",
       "\n",
       "   race_Black  race_Other  race_White  sex_Male  native_country_United_States  \\\n",
       "0           0           0           1         1                             1   \n",
       "1           0           0           1         1                             1   \n",
       "2           0           0           1         1                             1   \n",
       "3           1           0           0         1                             1   \n",
       "4           1           0           0         0                             0   \n",
       "\n",
       "   salary_less50k_yes  \n",
       "0                   1  \n",
       "1                   1  \n",
       "2                   1  \n",
       "3                   1  \n",
       "4                   1  \n",
       "\n",
       "[5 rows x 56 columns]"
      ]
     },
     "execution_count": 24,
     "metadata": {},
     "output_type": "execute_result"
    }
   ],
   "source": [
    "df_dummies.head()"
   ]
  },
  {
   "cell_type": "code",
   "execution_count": null,
   "metadata": {},
   "outputs": [],
   "source": []
  },
  {
   "cell_type": "markdown",
   "metadata": {},
   "source": [
    "**GRID SEARCH WITH CROSS VALIDATION**"
   ]
  },
  {
   "cell_type": "code",
   "execution_count": 25,
   "metadata": {},
   "outputs": [],
   "source": [
    "target = df_dummies.salary_less50k_yes\n",
    "\n",
    "features = df_dummies.drop('salary_less50k_yes', axis = 1)\n",
    "\n",
    "#separate the features and target variable..."
   ]
  },
  {
   "cell_type": "code",
   "execution_count": 26,
   "metadata": {},
   "outputs": [
    {
     "data": {
      "text/plain": [
       "SelectFromModel(estimator=LogisticRegression(max_iter=1000))"
      ]
     },
     "execution_count": 26,
     "metadata": {},
     "output_type": "execute_result"
    }
   ],
   "source": [
    "selection_method = SelectFromModel( estimator = LogisticRegression( max_iter = 1000))\n",
    "\n",
    "selection_method.fit(features, target)\n",
    "\n",
    "#model to selects features based on significance towards target variable..."
   ]
  },
  {
   "cell_type": "code",
   "execution_count": 27,
   "metadata": {},
   "outputs": [
    {
     "data": {
      "text/plain": [
       "(45222, 1)"
      ]
     },
     "execution_count": 27,
     "metadata": {},
     "output_type": "execute_result"
    }
   ],
   "source": [
    "selected_features = selection_method.transform(features)\n",
    "\n",
    "selected_features.shape\n",
    "\n",
    "#the selection method has selected  features..."
   ]
  },
  {
   "cell_type": "code",
   "execution_count": 28,
   "metadata": {},
   "outputs": [],
   "source": [
    "std_scaler = RobustScaler()\n",
    "\n",
    "#scaling function to scale the data..."
   ]
  },
  {
   "cell_type": "code",
   "execution_count": 29,
   "metadata": {},
   "outputs": [],
   "source": [
    "classifier_options = {'kernel': ['linear', 'rbf'], 'gamma': [1, 0.1, 0.01], 'C': [1,10,50]}\n",
    "\n",
    "x_train, x_test, y_train, y_test = train_test_split(selected_features, target, test_size = 0.50, \n",
    "                                                    stratify = target, random_state = 42)\n",
    "\n",
    "x_train = std_scaler.fit_transform(x_train)\n",
    "x_test = std_scaler.fit_transform(x_test)\n",
    "\n",
    "#list the necessary hyperparameters as a dictionary to feed to the gridsearch model...\n",
    "#split the training and test data (half size training data to reduce compute time)...\n",
    "#scale the features..."
   ]
  },
  {
   "cell_type": "code",
   "execution_count": null,
   "metadata": {},
   "outputs": [],
   "source": [
    "grid_cv_model = GridSearchCV( SVC(random_state = 42), classifier_options,\n",
    "                             scoring = 'accuracy', n_jobs = -1, cv = 3)\n",
    "\n",
    "grid_cv_model.fit(x_train, y_train)\n",
    "\n",
    "\n",
    "#create the SVC model and fit it..."
   ]
  },
  {
   "cell_type": "code",
   "execution_count": null,
   "metadata": {},
   "outputs": [],
   "source": [
    "print('Hyperparameters of best model:', grid_cv_model.best_params_)\n",
    "\n",
    "#printing hyperparameters used in the best performing model"
   ]
  },
  {
   "cell_type": "code",
   "execution_count": null,
   "metadata": {},
   "outputs": [],
   "source": [
    "best_svc_model = grid_cv_model.best_estimator_\n",
    "\n",
    "y_pred = best_svc_model.predict(x_test)\n",
    "\n",
    "#predicting class using the best model..."
   ]
  },
  {
   "cell_type": "code",
   "execution_count": null,
   "metadata": {},
   "outputs": [],
   "source": [
    "print(confusion_matrix(y_test, y_pred))\n",
    "\n",
    "#prints the confusion matrix\n",
    "##TruePositive   FalsePositive\n",
    "##FalseNegative  TrueNegative"
   ]
  },
  {
   "cell_type": "code",
   "execution_count": null,
   "metadata": {},
   "outputs": [],
   "source": [
    "conf_mat = pd.DataFrame(confusion_matrix(y_test, y_pred), columns=np.unique(y_test), index = np.unique(y_test))\n",
    "\n",
    "conf_mat.index.name = 'Actual'\n",
    "conf_mat.columns.name = 'Predicted'\n",
    "plt.figure(figsize = (4,4))\n",
    "sns.set(font_scale = 1.2)\n",
    "sns.heatmap(conf_mat, annot = True,annot_kws = {\"size\": 12}, cbar = False,\n",
    "          vmax = 500, square = True, fmt = \"d\", cmap = \"Blues\")\n",
    "\n",
    "#TP FP\n",
    "#FN TN"
   ]
  },
  {
   "cell_type": "code",
   "execution_count": null,
   "metadata": {},
   "outputs": [],
   "source": [
    "print(classification_report(y_test, y_pred, target_names = ['Salary more than 50k', 'Salary less than 50k'], \n",
    "                            zero_division = 0.0))\n",
    "\n",
    "#prints the classification report\n",
    "#0 --> salary more than 50k \n",
    "#1 --> salary less than 50k"
   ]
  },
  {
   "cell_type": "markdown",
   "metadata": {},
   "source": [
    "- Precision --> TP/(TP + FP) --> how many positives predicted that were actually positive...\n",
    "\n",
    "(i.e) how many out of the people predicted to have a salary less than 50k \n",
    "actually have a salary less than 50k\n",
    "\n",
    "\n",
    "\n",
    "- Recall --> TP/(TP + FN) --> how many positive values were actually predicted to be positive...\n",
    "\n",
    "(i.e) how many people who actually have salary less than 50k were predicted \n",
    "to have salary less than 50k"
   ]
  },
  {
   "cell_type": "code",
   "execution_count": null,
   "metadata": {
    "scrolled": true
   },
   "outputs": [],
   "source": [
    "df_dummies.salary_less50k_yes.value_counts()"
   ]
  },
  {
   "cell_type": "markdown",
   "metadata": {},
   "source": [
    "**Interpretation**\n",
    "\n",
    "Because of compute power restrictions, we train the model with only **50% of the data**. The model predicts everybody to have a salary less than 50k. This causes the recall of salary less than 50k to be 1.\n",
    "The data also has majority people having salary less than 50k, this might be why the model tends to predict salary less than 50k only..."
   ]
  },
  {
   "cell_type": "code",
   "execution_count": null,
   "metadata": {},
   "outputs": [],
   "source": []
  }
 ],
 "metadata": {
  "kernelspec": {
   "display_name": "Python 3",
   "language": "python",
   "name": "python3"
  },
  "language_info": {
   "codemirror_mode": {
    "name": "ipython",
    "version": 3
   },
   "file_extension": ".py",
   "mimetype": "text/x-python",
   "name": "python",
   "nbconvert_exporter": "python",
   "pygments_lexer": "ipython3",
   "version": "3.7.6"
  }
 },
 "nbformat": 4,
 "nbformat_minor": 4
}
