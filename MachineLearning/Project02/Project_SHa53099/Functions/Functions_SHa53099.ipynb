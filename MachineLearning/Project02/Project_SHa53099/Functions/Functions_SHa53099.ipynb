{
 "cells": [
  {
   "cell_type": "code",
   "execution_count": 1,
   "metadata": {},
   "outputs": [],
   "source": [
    "import numpy as np\n",
    "import pandas as pd\n",
    "import seaborn as sns\n",
    "import matplotlib.pyplot as plt\n",
    "\n",
    "from sklearn.model_selection import train_test_split\n",
    "\n",
    "from sklearn.preprocessing import RobustScaler\n",
    "\n",
    "from sklearn.feature_selection import SelectFromModel, VarianceThreshold, SelectKBest, f_classif, RFE, f_regression\n",
    "\n",
    "from sklearn.linear_model import LogisticRegression, LinearRegression"
   ]
  },
  {
   "cell_type": "code",
   "execution_count": null,
   "metadata": {},
   "outputs": [],
   "source": []
  },
  {
   "cell_type": "markdown",
   "metadata": {},
   "source": [
    "**DISPLAYS BAR PLOT OF VALUE COUNTS**"
   ]
  },
  {
   "cell_type": "code",
   "execution_count": 2,
   "metadata": {},
   "outputs": [],
   "source": [
    "def counts_plot(x, y):\n",
    "    \n",
    "    value_counts = df[x].value_counts()\n",
    "    values = df[x].value_counts().index\n",
    "    plt.figure(figsize = (12,9))\n",
    "    sns.barplot(x = values, y = value_counts.values, palette = y)\n",
    "    plt.xlabel('Values')\n",
    "    plt.ylabel('Count')\n",
    "    plt.title('Value Counts of column : ' + x)\n",
    "    plt.xticks(rotation = 90)  \n",
    "    #rotates the xticks by 90degrees for better readability\n",
    "    \n",
    "    for i, count in enumerate(value_counts.values):\n",
    "        plt.text(i, count, str(count), ha = 'center', va = 'bottom',style = 'italic', fontsize = 10)\n",
    "\n",
    "    plt.tight_layout() \n",
    "    plt.show()\n",
    "    \n",
    "   \n",
    "    \n",
    "    #plots a bar plot for value counts of values in a column and also displays the value on top of the bar plot..."
   ]
  },
  {
   "cell_type": "code",
   "execution_count": null,
   "metadata": {},
   "outputs": [],
   "source": []
  },
  {
   "cell_type": "markdown",
   "metadata": {},
   "source": [
    "**REMOVE THE DOLLAR SIGN IN CURRENCY COLUMNS**"
   ]
  },
  {
   "cell_type": "code",
   "execution_count": 3,
   "metadata": {},
   "outputs": [],
   "source": [
    "def dollar_remover(x):\n",
    "    \n",
    "    x = x.split(\"$\")[-1]\n",
    "    \n",
    "    return float(x)"
   ]
  },
  {
   "cell_type": "code",
   "execution_count": null,
   "metadata": {},
   "outputs": [],
   "source": []
  },
  {
   "cell_type": "markdown",
   "metadata": {},
   "source": [
    "**REMOVES THE 'Hr' TEXT FROM TIME COLUMNS**"
   ]
  },
  {
   "cell_type": "code",
   "execution_count": 4,
   "metadata": {},
   "outputs": [],
   "source": [
    "def hour_remover(x):\n",
    "    \n",
    "    if x in [\"No Time Limit\",\"other\", \"26 Hrs\", \"10 Hrs\"]:\n",
    "        return float(9)\n",
    "    \n",
    "    elif x == \"30 min\":\n",
    "        return float(0.5)\n",
    "    \n",
    "    x = x.split(\"Hr\")[0]\n",
    "    \n",
    "    return float(x)"
   ]
  },
  {
   "cell_type": "code",
   "execution_count": 5,
   "metadata": {},
   "outputs": [],
   "source": [
    "def hour_remover2(x):\n",
    "    \n",
    "    if x in [\"No Time Limit\",\"other\", \"26 Hrs\", \"10 Hrs\"]:\n",
    "        return float(4)\n",
    "    \n",
    "    elif x == \"30 min\":\n",
    "        return float(0.5)\n",
    "    \n",
    "    x = x.split(\"Hr\")[0]\n",
    "    \n",
    "    return float(x)"
   ]
  },
  {
   "cell_type": "code",
   "execution_count": null,
   "metadata": {},
   "outputs": [],
   "source": []
  },
  {
   "cell_type": "markdown",
   "metadata": {},
   "source": [
    "**METERHEAD GROUPER**"
   ]
  },
  {
   "cell_type": "code",
   "execution_count": 6,
   "metadata": {},
   "outputs": [],
   "source": [
    "def meterhead_group(x):\n",
    "    \n",
    "    if x == \"Twin\":\n",
    "        \n",
    "        return x\n",
    "    \n",
    "    return \"Not_Twin\""
   ]
  },
  {
   "cell_type": "code",
   "execution_count": null,
   "metadata": {},
   "outputs": [],
   "source": []
  },
  {
   "cell_type": "markdown",
   "metadata": {},
   "source": [
    "**CITY GROUPER**"
   ]
  },
  {
   "cell_type": "code",
   "execution_count": 7,
   "metadata": {},
   "outputs": [],
   "source": [
    "def city_group(x):\n",
    "    \n",
    "    if x in [\"Fairview\", \"Kitsilano\", \"West Point Grey\", \"Arbutus Ridge\", \"Kerrisdale\", \n",
    "             \"South Cambie\", \"Shaughnessy\"]:\n",
    "        \n",
    "        return \"Lower_mainland\"\n",
    "    \n",
    "   \n",
    "    elif x in [\"Downtown\", \"West End\"]:\n",
    "        \n",
    "        return \"Downtown\"\n",
    "    \n",
    "    \n",
    "    return \"East_Vancouver\"\n",
    "\n",
    "\n",
    "#groups the cities according to specified area..."
   ]
  },
  {
   "cell_type": "code",
   "execution_count": null,
   "metadata": {},
   "outputs": [],
   "source": []
  },
  {
   "cell_type": "markdown",
   "metadata": {},
   "source": [
    "**DATA SPLITTER**"
   ]
  },
  {
   "cell_type": "code",
   "execution_count": 8,
   "metadata": {},
   "outputs": [],
   "source": [
    "def data_split(df, x):\n",
    "    \n",
    "    features = df.drop(x, axis = 1)\n",
    "    \n",
    "    target = df[x]\n",
    "    \n",
    "    return features"
   ]
  },
  {
   "cell_type": "code",
   "execution_count": 9,
   "metadata": {},
   "outputs": [],
   "source": [
    "def data_split2(df, x):\n",
    "    \n",
    "    features = df.drop(x, axis = 1)\n",
    "    \n",
    "    target = df[x]\n",
    "    \n",
    "    return target"
   ]
  },
  {
   "cell_type": "markdown",
   "metadata": {},
   "source": [
    "## FEATURE SELECTIONS"
   ]
  },
  {
   "cell_type": "markdown",
   "metadata": {},
   "source": [
    "**VARIANCE THRESHOLD**"
   ]
  },
  {
   "cell_type": "code",
   "execution_count": 10,
   "metadata": {},
   "outputs": [],
   "source": [
    "def select_variance(features, threshold_value):\n",
    "    df = features\n",
    "    \n",
    "    selectVarianceThreshold = VarianceThreshold(threshold = threshold_value)\n",
    "    \n",
    "    selectVarianceThreshold.fit(df)\n",
    "    \n",
    "    df = df.iloc[:,selectVarianceThreshold.get_support()] \n",
    "    \n",
    "    return df"
   ]
  },
  {
   "cell_type": "code",
   "execution_count": null,
   "metadata": {},
   "outputs": [],
   "source": []
  },
  {
   "cell_type": "markdown",
   "metadata": {},
   "source": [
    "**SELECT FROM MODEL**"
   ]
  },
  {
   "cell_type": "code",
   "execution_count": 11,
   "metadata": {},
   "outputs": [],
   "source": [
    "def select_from_model(features, target):\n",
    "    \n",
    "    select_from_model = SelectFromModel(estimator = LogisticRegression(max_iter = 5000)).fit(features, target)\n",
    "    \n",
    "    features = select_from_model.transform(features)\n",
    "    \n",
    "    return features"
   ]
  },
  {
   "cell_type": "code",
   "execution_count": 12,
   "metadata": {},
   "outputs": [],
   "source": [
    "def select_from_model2(features, target):\n",
    "    \n",
    "    select_from_model = SelectFromModel(estimator = LinearRegression()).fit(features, target)\n",
    "    \n",
    "    features = select_from_model.transform(features)\n",
    "    \n",
    "    return features"
   ]
  },
  {
   "cell_type": "code",
   "execution_count": null,
   "metadata": {},
   "outputs": [],
   "source": []
  },
  {
   "cell_type": "markdown",
   "metadata": {},
   "source": [
    "**RECURSIVE FEATURE ELIMINATION**"
   ]
  },
  {
   "cell_type": "code",
   "execution_count": 13,
   "metadata": {},
   "outputs": [],
   "source": [
    "def recursive_fe(features, target, n):\n",
    "    rfe = RFE(estimator = LogisticRegression(max_iter=5000), n_features_to_select = n, step = 1)\n",
    "    rfe_result = rfe.fit(features, target)\n",
    "\n",
    "\n",
    "    features = features.loc[:, rfe_result.support_]\n",
    "    \n",
    "    return features"
   ]
  },
  {
   "cell_type": "code",
   "execution_count": 14,
   "metadata": {},
   "outputs": [],
   "source": [
    "def recursive_fe2(features, target, n):\n",
    "    rfe = RFE(estimator = LinearRegression(), n_features_to_select = n, step = 1)\n",
    "    rfe_result = rfe.fit(features, target)\n",
    "\n",
    "\n",
    "    features = features.loc[:, rfe_result.support_]\n",
    "    \n",
    "    return features"
   ]
  },
  {
   "cell_type": "code",
   "execution_count": null,
   "metadata": {},
   "outputs": [],
   "source": []
  },
  {
   "cell_type": "markdown",
   "metadata": {},
   "source": [
    "**SELECT K BEST WITH f_classif**"
   ]
  },
  {
   "cell_type": "code",
   "execution_count": 15,
   "metadata": {},
   "outputs": [],
   "source": [
    "def select_best(features, target, n):\n",
    "\n",
    "    selectKBest = SelectKBest(score_func = f_classif, k = n)\n",
    "    \n",
    "    x_train, x_test, y_train, y_test = train_test_split(features, target, test_size = 0.25, random_state = 42)\n",
    "    \n",
    "    selectKBest.fit_transform(x_train, y_train)\n",
    "    \n",
    "    features = features.iloc[:,selectKBest.get_support()]\n",
    "    \n",
    "    return features"
   ]
  },
  {
   "cell_type": "code",
   "execution_count": 16,
   "metadata": {},
   "outputs": [],
   "source": [
    "def select_best2(features, target, n):\n",
    "\n",
    "    selectKBest = SelectKBest(score_func = f_regression, k = n)\n",
    "    \n",
    "    x_train, x_test, y_train, y_test = train_test_split(features, target, test_size = 0.25, random_state = 42)\n",
    "    \n",
    "    selectKBest.fit_transform(x_train, y_train)\n",
    "    \n",
    "    features = features.iloc[:,selectKBest.get_support()]\n",
    "    \n",
    "    return features"
   ]
  },
  {
   "cell_type": "code",
   "execution_count": null,
   "metadata": {},
   "outputs": [],
   "source": []
  }
 ],
 "metadata": {
  "kernelspec": {
   "display_name": "Python 3",
   "language": "python",
   "name": "python3"
  },
  "language_info": {
   "codemirror_mode": {
    "name": "ipython",
    "version": 3
   },
   "file_extension": ".py",
   "mimetype": "text/x-python",
   "name": "python",
   "nbconvert_exporter": "python",
   "pygments_lexer": "ipython3",
   "version": "3.7.6"
  }
 },
 "nbformat": 4,
 "nbformat_minor": 4
}
