{
 "cells": [
  {
   "cell_type": "markdown",
   "metadata": {},
   "source": [
    "# Lab 02\n",
    "\n",
    "### SUDARSAN HARIDAS\n",
    "### 300353099"
   ]
  },
  {
   "cell_type": "markdown",
   "metadata": {},
   "source": [
    "**LOAD THE PYTHON LIBRARY**"
   ]
  },
  {
   "cell_type": "code",
   "execution_count": 1,
   "metadata": {
    "scrolled": false
   },
   "outputs": [],
   "source": [
    "import pandas as pd\n",
    "import numpy as np\n",
    "import matplotlib.pyplot as plt\n",
    "import seaborn as sns\n",
    "\n",
    "#imports all the necessary libraries..."
   ]
  },
  {
   "cell_type": "code",
   "execution_count": null,
   "metadata": {
    "scrolled": false
   },
   "outputs": [],
   "source": []
  },
  {
   "cell_type": "markdown",
   "metadata": {},
   "source": [
    "**READ THE DATA**"
   ]
  },
  {
   "cell_type": "code",
   "execution_count": 2,
   "metadata": {
    "scrolled": false
   },
   "outputs": [
    {
     "data": {
      "text/html": [
       "<div>\n",
       "<style scoped>\n",
       "    .dataframe tbody tr th:only-of-type {\n",
       "        vertical-align: middle;\n",
       "    }\n",
       "\n",
       "    .dataframe tbody tr th {\n",
       "        vertical-align: top;\n",
       "    }\n",
       "\n",
       "    .dataframe thead th {\n",
       "        text-align: right;\n",
       "    }\n",
       "</style>\n",
       "<table border=\"1\" class=\"dataframe\">\n",
       "  <thead>\n",
       "    <tr style=\"text-align: right;\">\n",
       "      <th></th>\n",
       "      <th>category</th>\n",
       "      <th>avg_rating</th>\n",
       "      <th>number_ratings</th>\n",
       "      <th>enrollment</th>\n",
       "      <th>last_updated</th>\n",
       "      <th>lectures</th>\n",
       "      <th>duration</th>\n",
       "      <th>cost</th>\n",
       "      <th>discount</th>\n",
       "      <th>inst_rating</th>\n",
       "      <th>inst_review</th>\n",
       "      <th>inst_student</th>\n",
       "    </tr>\n",
       "  </thead>\n",
       "  <tbody>\n",
       "    <tr>\n",
       "      <th>0</th>\n",
       "      <td>design</td>\n",
       "      <td>4.2</td>\n",
       "      <td>6340.0</td>\n",
       "      <td>54930.0</td>\n",
       "      <td>20.0</td>\n",
       "      <td>162.0</td>\n",
       "      <td>1163.0</td>\n",
       "      <td>23.99</td>\n",
       "      <td>90.0</td>\n",
       "      <td>4.2</td>\n",
       "      <td>13453.0</td>\n",
       "      <td>179306.0</td>\n",
       "    </tr>\n",
       "    <tr>\n",
       "      <th>1</th>\n",
       "      <td>business</td>\n",
       "      <td>4.6</td>\n",
       "      <td>9281.0</td>\n",
       "      <td>48338.0</td>\n",
       "      <td>18.0</td>\n",
       "      <td>37.0</td>\n",
       "      <td>234.0</td>\n",
       "      <td>16.99</td>\n",
       "      <td>56.0</td>\n",
       "      <td>4.5</td>\n",
       "      <td>246008.0</td>\n",
       "      <td>1145810.0</td>\n",
       "    </tr>\n",
       "    <tr>\n",
       "      <th>2</th>\n",
       "      <td>development</td>\n",
       "      <td>4.6</td>\n",
       "      <td>6833.0</td>\n",
       "      <td>21218.0</td>\n",
       "      <td>20.0</td>\n",
       "      <td>53.0</td>\n",
       "      <td>314.0</td>\n",
       "      <td>23.99</td>\n",
       "      <td>91.0</td>\n",
       "      <td>4.6</td>\n",
       "      <td>19993.0</td>\n",
       "      <td>55621.0</td>\n",
       "    </tr>\n",
       "    <tr>\n",
       "      <th>3</th>\n",
       "      <td>development</td>\n",
       "      <td>4.6</td>\n",
       "      <td>72122.0</td>\n",
       "      <td>717921.0</td>\n",
       "      <td>20.0</td>\n",
       "      <td>51.0</td>\n",
       "      <td>570.0</td>\n",
       "      <td>21.99</td>\n",
       "      <td>88.0</td>\n",
       "      <td>4.6</td>\n",
       "      <td>75247.0</td>\n",
       "      <td>751881.0</td>\n",
       "    </tr>\n",
       "    <tr>\n",
       "      <th>4</th>\n",
       "      <td>office_productivity</td>\n",
       "      <td>4.5</td>\n",
       "      <td>2826.0</td>\n",
       "      <td>14269.0</td>\n",
       "      <td>20.0</td>\n",
       "      <td>41.0</td>\n",
       "      <td>428.0</td>\n",
       "      <td>19.99</td>\n",
       "      <td>88.0</td>\n",
       "      <td>4.5</td>\n",
       "      <td>11922.0</td>\n",
       "      <td>53659.0</td>\n",
       "    </tr>\n",
       "  </tbody>\n",
       "</table>\n",
       "</div>"
      ],
      "text/plain": [
       "              category  avg_rating  number_ratings  enrollment  last_updated  \\\n",
       "0               design         4.2          6340.0     54930.0          20.0   \n",
       "1             business         4.6          9281.0     48338.0          18.0   \n",
       "2          development         4.6          6833.0     21218.0          20.0   \n",
       "3          development         4.6         72122.0    717921.0          20.0   \n",
       "4  office_productivity         4.5          2826.0     14269.0          20.0   \n",
       "\n",
       "   lectures  duration   cost  discount  inst_rating  inst_review  inst_student  \n",
       "0     162.0    1163.0  23.99      90.0          4.2      13453.0      179306.0  \n",
       "1      37.0     234.0  16.99      56.0          4.5     246008.0     1145810.0  \n",
       "2      53.0     314.0  23.99      91.0          4.6      19993.0       55621.0  \n",
       "3      51.0     570.0  21.99      88.0          4.6      75247.0      751881.0  \n",
       "4      41.0     428.0  19.99      88.0          4.5      11922.0       53659.0  "
      ]
     },
     "execution_count": 2,
     "metadata": {},
     "output_type": "execute_result"
    }
   ],
   "source": [
    "df = pd.read_csv('Lab1_SHa53099_cleaned.csv')\n",
    "\n",
    "df_copy = df.copy()\n",
    "#copy of dataset for safety...\n",
    "\n",
    "df.head()\n",
    "\n",
    "#loads the csv created at end of lab1 and head gives first 5 columns to look at the data..."
   ]
  },
  {
   "cell_type": "code",
   "execution_count": 3,
   "metadata": {
    "scrolled": false
   },
   "outputs": [
    {
     "name": "stdout",
     "output_type": "stream",
     "text": [
      "<class 'pandas.core.frame.DataFrame'>\n",
      "RangeIndex: 1950 entries, 0 to 1949\n",
      "Data columns (total 12 columns):\n",
      " #   Column          Non-Null Count  Dtype  \n",
      "---  ------          --------------  -----  \n",
      " 0   category        1950 non-null   object \n",
      " 1   avg_rating      1950 non-null   float64\n",
      " 2   number_ratings  1950 non-null   float64\n",
      " 3   enrollment      1950 non-null   float64\n",
      " 4   last_updated    1950 non-null   float64\n",
      " 5   lectures        1950 non-null   float64\n",
      " 6   duration        1950 non-null   float64\n",
      " 7   cost            1950 non-null   float64\n",
      " 8   discount        1950 non-null   float64\n",
      " 9   inst_rating     1950 non-null   float64\n",
      " 10  inst_review     1950 non-null   float64\n",
      " 11  inst_student    1950 non-null   float64\n",
      "dtypes: float64(11), object(1)\n",
      "memory usage: 182.9+ KB\n"
     ]
    }
   ],
   "source": [
    "df.info()\n",
    "\n",
    "#displays the column information..."
   ]
  },
  {
   "cell_type": "code",
   "execution_count": null,
   "metadata": {
    "scrolled": false
   },
   "outputs": [],
   "source": []
  },
  {
   "cell_type": "markdown",
   "metadata": {},
   "source": [
    "**SUMMARY STATISTICS**"
   ]
  },
  {
   "cell_type": "code",
   "execution_count": 4,
   "metadata": {
    "scrolled": false
   },
   "outputs": [
    {
     "data": {
      "text/html": [
       "<div>\n",
       "<style scoped>\n",
       "    .dataframe tbody tr th:only-of-type {\n",
       "        vertical-align: middle;\n",
       "    }\n",
       "\n",
       "    .dataframe tbody tr th {\n",
       "        vertical-align: top;\n",
       "    }\n",
       "\n",
       "    .dataframe thead th {\n",
       "        text-align: right;\n",
       "    }\n",
       "</style>\n",
       "<table border=\"1\" class=\"dataframe\">\n",
       "  <thead>\n",
       "    <tr style=\"text-align: right;\">\n",
       "      <th></th>\n",
       "      <th>avg_rating</th>\n",
       "      <th>number_ratings</th>\n",
       "      <th>enrollment</th>\n",
       "      <th>last_updated</th>\n",
       "      <th>lectures</th>\n",
       "      <th>duration</th>\n",
       "      <th>cost</th>\n",
       "      <th>discount</th>\n",
       "      <th>inst_rating</th>\n",
       "      <th>inst_review</th>\n",
       "      <th>inst_student</th>\n",
       "    </tr>\n",
       "  </thead>\n",
       "  <tbody>\n",
       "    <tr>\n",
       "      <th>count</th>\n",
       "      <td>1950.000000</td>\n",
       "      <td>1950.000000</td>\n",
       "      <td>1.950000e+03</td>\n",
       "      <td>1950.000000</td>\n",
       "      <td>1950.000000</td>\n",
       "      <td>1950.000000</td>\n",
       "      <td>1950.000000</td>\n",
       "      <td>1950.000000</td>\n",
       "      <td>1950.000000</td>\n",
       "      <td>1950.000000</td>\n",
       "      <td>1.950000e+03</td>\n",
       "    </tr>\n",
       "    <tr>\n",
       "      <th>mean</th>\n",
       "      <td>4.407692</td>\n",
       "      <td>4729.004103</td>\n",
       "      <td>2.549581e+04</td>\n",
       "      <td>19.245128</td>\n",
       "      <td>105.699487</td>\n",
       "      <td>711.047692</td>\n",
       "      <td>23.529925</td>\n",
       "      <td>78.607179</td>\n",
       "      <td>4.412718</td>\n",
       "      <td>49238.505641</td>\n",
       "      <td>2.221735e+05</td>\n",
       "    </tr>\n",
       "    <tr>\n",
       "      <th>std</th>\n",
       "      <td>0.271121</td>\n",
       "      <td>14363.444820</td>\n",
       "      <td>6.128947e+04</td>\n",
       "      <td>1.290695</td>\n",
       "      <td>100.301280</td>\n",
       "      <td>788.165675</td>\n",
       "      <td>20.607348</td>\n",
       "      <td>16.425042</td>\n",
       "      <td>0.229914</td>\n",
       "      <td>98638.121579</td>\n",
       "      <td>3.776918e+05</td>\n",
       "    </tr>\n",
       "    <tr>\n",
       "      <th>min</th>\n",
       "      <td>2.100000</td>\n",
       "      <td>17.000000</td>\n",
       "      <td>3.600000e+01</td>\n",
       "      <td>11.000000</td>\n",
       "      <td>5.000000</td>\n",
       "      <td>30.000000</td>\n",
       "      <td>16.990000</td>\n",
       "      <td>30.000000</td>\n",
       "      <td>2.600000</td>\n",
       "      <td>31.000000</td>\n",
       "      <td>5.500000e+01</td>\n",
       "    </tr>\n",
       "    <tr>\n",
       "      <th>1%</th>\n",
       "      <td>3.400000</td>\n",
       "      <td>70.000000</td>\n",
       "      <td>3.438800e+02</td>\n",
       "      <td>14.000000</td>\n",
       "      <td>10.000000</td>\n",
       "      <td>64.000000</td>\n",
       "      <td>16.990000</td>\n",
       "      <td>32.000000</td>\n",
       "      <td>3.600000</td>\n",
       "      <td>142.490000</td>\n",
       "      <td>6.469600e+02</td>\n",
       "    </tr>\n",
       "    <tr>\n",
       "      <th>25%</th>\n",
       "      <td>4.300000</td>\n",
       "      <td>600.250000</td>\n",
       "      <td>3.708250e+03</td>\n",
       "      <td>19.000000</td>\n",
       "      <td>44.000000</td>\n",
       "      <td>261.000000</td>\n",
       "      <td>16.990000</td>\n",
       "      <td>74.000000</td>\n",
       "      <td>4.300000</td>\n",
       "      <td>2537.750000</td>\n",
       "      <td>1.599500e+04</td>\n",
       "    </tr>\n",
       "    <tr>\n",
       "      <th>50%</th>\n",
       "      <td>4.500000</td>\n",
       "      <td>1423.500000</td>\n",
       "      <td>9.330000e+03</td>\n",
       "      <td>20.000000</td>\n",
       "      <td>74.000000</td>\n",
       "      <td>470.000000</td>\n",
       "      <td>19.990000</td>\n",
       "      <td>86.000000</td>\n",
       "      <td>4.500000</td>\n",
       "      <td>11423.000000</td>\n",
       "      <td>6.337000e+04</td>\n",
       "    </tr>\n",
       "    <tr>\n",
       "      <th>75%</th>\n",
       "      <td>4.600000</td>\n",
       "      <td>3505.000000</td>\n",
       "      <td>2.139750e+04</td>\n",
       "      <td>20.000000</td>\n",
       "      <td>125.000000</td>\n",
       "      <td>854.000000</td>\n",
       "      <td>21.990000</td>\n",
       "      <td>89.000000</td>\n",
       "      <td>4.600000</td>\n",
       "      <td>43931.000000</td>\n",
       "      <td>2.426830e+05</td>\n",
       "    </tr>\n",
       "    <tr>\n",
       "      <th>99%</th>\n",
       "      <td>4.800000</td>\n",
       "      <td>53341.810000</td>\n",
       "      <td>3.081981e+05</td>\n",
       "      <td>20.000000</td>\n",
       "      <td>519.590000</td>\n",
       "      <td>3885.950000</td>\n",
       "      <td>149.990000</td>\n",
       "      <td>92.000000</td>\n",
       "      <td>4.700000</td>\n",
       "      <td>509993.000000</td>\n",
       "      <td>1.979353e+06</td>\n",
       "    </tr>\n",
       "    <tr>\n",
       "      <th>max</th>\n",
       "      <td>4.900000</td>\n",
       "      <td>321904.000000</td>\n",
       "      <td>1.112443e+06</td>\n",
       "      <td>20.000000</td>\n",
       "      <td>699.000000</td>\n",
       "      <td>9840.000000</td>\n",
       "      <td>200.047070</td>\n",
       "      <td>92.000000</td>\n",
       "      <td>4.800000</td>\n",
       "      <td>652986.000000</td>\n",
       "      <td>2.168985e+06</td>\n",
       "    </tr>\n",
       "  </tbody>\n",
       "</table>\n",
       "</div>"
      ],
      "text/plain": [
       "        avg_rating  number_ratings    enrollment  last_updated     lectures  \\\n",
       "count  1950.000000     1950.000000  1.950000e+03   1950.000000  1950.000000   \n",
       "mean      4.407692     4729.004103  2.549581e+04     19.245128   105.699487   \n",
       "std       0.271121    14363.444820  6.128947e+04      1.290695   100.301280   \n",
       "min       2.100000       17.000000  3.600000e+01     11.000000     5.000000   \n",
       "1%        3.400000       70.000000  3.438800e+02     14.000000    10.000000   \n",
       "25%       4.300000      600.250000  3.708250e+03     19.000000    44.000000   \n",
       "50%       4.500000     1423.500000  9.330000e+03     20.000000    74.000000   \n",
       "75%       4.600000     3505.000000  2.139750e+04     20.000000   125.000000   \n",
       "99%       4.800000    53341.810000  3.081981e+05     20.000000   519.590000   \n",
       "max       4.900000   321904.000000  1.112443e+06     20.000000   699.000000   \n",
       "\n",
       "          duration         cost     discount  inst_rating    inst_review  \\\n",
       "count  1950.000000  1950.000000  1950.000000  1950.000000    1950.000000   \n",
       "mean    711.047692    23.529925    78.607179     4.412718   49238.505641   \n",
       "std     788.165675    20.607348    16.425042     0.229914   98638.121579   \n",
       "min      30.000000    16.990000    30.000000     2.600000      31.000000   \n",
       "1%       64.000000    16.990000    32.000000     3.600000     142.490000   \n",
       "25%     261.000000    16.990000    74.000000     4.300000    2537.750000   \n",
       "50%     470.000000    19.990000    86.000000     4.500000   11423.000000   \n",
       "75%     854.000000    21.990000    89.000000     4.600000   43931.000000   \n",
       "99%    3885.950000   149.990000    92.000000     4.700000  509993.000000   \n",
       "max    9840.000000   200.047070    92.000000     4.800000  652986.000000   \n",
       "\n",
       "       inst_student  \n",
       "count  1.950000e+03  \n",
       "mean   2.221735e+05  \n",
       "std    3.776918e+05  \n",
       "min    5.500000e+01  \n",
       "1%     6.469600e+02  \n",
       "25%    1.599500e+04  \n",
       "50%    6.337000e+04  \n",
       "75%    2.426830e+05  \n",
       "99%    1.979353e+06  \n",
       "max    2.168985e+06  "
      ]
     },
     "execution_count": 4,
     "metadata": {},
     "output_type": "execute_result"
    }
   ],
   "source": [
    "df.describe(percentiles = [0.01,0.25,0.50,0.75,0.99])\n",
    "\n",
    "#gives summary statistics about the data...\n",
    "#gives percentile statistic of data..."
   ]
  },
  {
   "cell_type": "code",
   "execution_count": null,
   "metadata": {
    "scrolled": false
   },
   "outputs": [],
   "source": []
  },
  {
   "cell_type": "markdown",
   "metadata": {},
   "source": [
    "**ANALYZE AND DISPLAY SOME INTERESTING DATA**"
   ]
  },
  {
   "cell_type": "code",
   "execution_count": 5,
   "metadata": {
    "scrolled": false
   },
   "outputs": [
    {
     "data": {
      "text/html": [
       "<div>\n",
       "<style scoped>\n",
       "    .dataframe tbody tr th:only-of-type {\n",
       "        vertical-align: middle;\n",
       "    }\n",
       "\n",
       "    .dataframe tbody tr th {\n",
       "        vertical-align: top;\n",
       "    }\n",
       "\n",
       "    .dataframe thead th {\n",
       "        text-align: right;\n",
       "    }\n",
       "</style>\n",
       "<table border=\"1\" class=\"dataframe\">\n",
       "  <thead>\n",
       "    <tr style=\"text-align: right;\">\n",
       "      <th></th>\n",
       "      <th>category</th>\n",
       "      <th>avg_rating</th>\n",
       "      <th>number_ratings</th>\n",
       "      <th>enrollment</th>\n",
       "      <th>last_updated</th>\n",
       "      <th>lectures</th>\n",
       "      <th>duration</th>\n",
       "      <th>cost</th>\n",
       "      <th>discount</th>\n",
       "      <th>inst_rating</th>\n",
       "      <th>inst_review</th>\n",
       "      <th>inst_student</th>\n",
       "    </tr>\n",
       "  </thead>\n",
       "  <tbody>\n",
       "    <tr>\n",
       "      <th>160</th>\n",
       "      <td>design</td>\n",
       "      <td>4.7</td>\n",
       "      <td>17.0</td>\n",
       "      <td>162.0</td>\n",
       "      <td>20.0</td>\n",
       "      <td>50.0</td>\n",
       "      <td>608.0</td>\n",
       "      <td>17.99</td>\n",
       "      <td>91.0</td>\n",
       "      <td>4.4</td>\n",
       "      <td>209.0</td>\n",
       "      <td>730.0</td>\n",
       "    </tr>\n",
       "  </tbody>\n",
       "</table>\n",
       "</div>"
      ],
      "text/plain": [
       "    category  avg_rating  number_ratings  enrollment  last_updated  lectures  \\\n",
       "160   design         4.7            17.0       162.0          20.0      50.0   \n",
       "\n",
       "     duration   cost  discount  inst_rating  inst_review  inst_student  \n",
       "160     608.0  17.99      91.0          4.4        209.0         730.0  "
      ]
     },
     "execution_count": 5,
     "metadata": {},
     "output_type": "execute_result"
    }
   ],
   "source": [
    "df[df['number_ratings'] == (df['number_ratings'].describe()[3])]\n",
    "\n",
    "#displays record(s) where 'number_ratings' is minimum..."
   ]
  },
  {
   "cell_type": "code",
   "execution_count": 6,
   "metadata": {
    "scrolled": false
   },
   "outputs": [
    {
     "data": {
      "text/html": [
       "<div>\n",
       "<style scoped>\n",
       "    .dataframe tbody tr th:only-of-type {\n",
       "        vertical-align: middle;\n",
       "    }\n",
       "\n",
       "    .dataframe tbody tr th {\n",
       "        vertical-align: top;\n",
       "    }\n",
       "\n",
       "    .dataframe thead th {\n",
       "        text-align: right;\n",
       "    }\n",
       "</style>\n",
       "<table border=\"1\" class=\"dataframe\">\n",
       "  <thead>\n",
       "    <tr style=\"text-align: right;\">\n",
       "      <th></th>\n",
       "      <th>category</th>\n",
       "      <th>avg_rating</th>\n",
       "      <th>number_ratings</th>\n",
       "      <th>enrollment</th>\n",
       "      <th>last_updated</th>\n",
       "      <th>lectures</th>\n",
       "      <th>duration</th>\n",
       "      <th>cost</th>\n",
       "      <th>discount</th>\n",
       "      <th>inst_rating</th>\n",
       "      <th>inst_review</th>\n",
       "      <th>inst_student</th>\n",
       "    </tr>\n",
       "  </thead>\n",
       "  <tbody>\n",
       "    <tr>\n",
       "      <th>286</th>\n",
       "      <td>it_software</td>\n",
       "      <td>2.1</td>\n",
       "      <td>69.0</td>\n",
       "      <td>350.0</td>\n",
       "      <td>20.0</td>\n",
       "      <td>124.0</td>\n",
       "      <td>1624.0</td>\n",
       "      <td>21.99189</td>\n",
       "      <td>89.0</td>\n",
       "      <td>3.4</td>\n",
       "      <td>672.0</td>\n",
       "      <td>11641.0</td>\n",
       "    </tr>\n",
       "  </tbody>\n",
       "</table>\n",
       "</div>"
      ],
      "text/plain": [
       "        category  avg_rating  number_ratings  enrollment  last_updated  \\\n",
       "286  it_software         2.1            69.0       350.0          20.0   \n",
       "\n",
       "     lectures  duration      cost  discount  inst_rating  inst_review  \\\n",
       "286     124.0    1624.0  21.99189      89.0          3.4        672.0   \n",
       "\n",
       "     inst_student  \n",
       "286       11641.0  "
      ]
     },
     "execution_count": 6,
     "metadata": {},
     "output_type": "execute_result"
    }
   ],
   "source": [
    "df[df['avg_rating'] == (df['avg_rating'].describe()[3])]\n",
    "\n",
    "#displays record(s) where 'avg_rating' is minimum..."
   ]
  },
  {
   "cell_type": "code",
   "execution_count": 7,
   "metadata": {
    "scrolled": false
   },
   "outputs": [
    {
     "data": {
      "text/html": [
       "<div>\n",
       "<style scoped>\n",
       "    .dataframe tbody tr th:only-of-type {\n",
       "        vertical-align: middle;\n",
       "    }\n",
       "\n",
       "    .dataframe tbody tr th {\n",
       "        vertical-align: top;\n",
       "    }\n",
       "\n",
       "    .dataframe thead th {\n",
       "        text-align: right;\n",
       "    }\n",
       "</style>\n",
       "<table border=\"1\" class=\"dataframe\">\n",
       "  <thead>\n",
       "    <tr style=\"text-align: right;\">\n",
       "      <th></th>\n",
       "      <th>category</th>\n",
       "      <th>avg_rating</th>\n",
       "      <th>number_ratings</th>\n",
       "      <th>enrollment</th>\n",
       "      <th>last_updated</th>\n",
       "      <th>lectures</th>\n",
       "      <th>duration</th>\n",
       "      <th>cost</th>\n",
       "      <th>discount</th>\n",
       "      <th>inst_rating</th>\n",
       "      <th>inst_review</th>\n",
       "      <th>inst_student</th>\n",
       "    </tr>\n",
       "  </thead>\n",
       "  <tbody>\n",
       "    <tr>\n",
       "      <th>160</th>\n",
       "      <td>design</td>\n",
       "      <td>4.7</td>\n",
       "      <td>17.0</td>\n",
       "      <td>162.0</td>\n",
       "      <td>20.0</td>\n",
       "      <td>50.0</td>\n",
       "      <td>608.0</td>\n",
       "      <td>17.99000</td>\n",
       "      <td>91.0</td>\n",
       "      <td>4.4</td>\n",
       "      <td>209.0</td>\n",
       "      <td>730.0</td>\n",
       "    </tr>\n",
       "    <tr>\n",
       "      <th>255</th>\n",
       "      <td>it_software</td>\n",
       "      <td>3.3</td>\n",
       "      <td>103.0</td>\n",
       "      <td>243.0</td>\n",
       "      <td>19.0</td>\n",
       "      <td>18.0</td>\n",
       "      <td>186.0</td>\n",
       "      <td>17.99065</td>\n",
       "      <td>88.0</td>\n",
       "      <td>3.3</td>\n",
       "      <td>103.0</td>\n",
       "      <td>243.0</td>\n",
       "    </tr>\n",
       "    <tr>\n",
       "      <th>358</th>\n",
       "      <td>business</td>\n",
       "      <td>4.0</td>\n",
       "      <td>51.0</td>\n",
       "      <td>84.0</td>\n",
       "      <td>20.0</td>\n",
       "      <td>22.0</td>\n",
       "      <td>137.0</td>\n",
       "      <td>21.99000</td>\n",
       "      <td>87.0</td>\n",
       "      <td>4.0</td>\n",
       "      <td>51.0</td>\n",
       "      <td>84.0</td>\n",
       "    </tr>\n",
       "    <tr>\n",
       "      <th>477</th>\n",
       "      <td>business</td>\n",
       "      <td>3.7</td>\n",
       "      <td>25.0</td>\n",
       "      <td>225.0</td>\n",
       "      <td>20.0</td>\n",
       "      <td>75.0</td>\n",
       "      <td>565.0</td>\n",
       "      <td>16.99000</td>\n",
       "      <td>86.0</td>\n",
       "      <td>4.0</td>\n",
       "      <td>143.0</td>\n",
       "      <td>1182.0</td>\n",
       "    </tr>\n",
       "    <tr>\n",
       "      <th>585</th>\n",
       "      <td>design</td>\n",
       "      <td>3.9</td>\n",
       "      <td>35.0</td>\n",
       "      <td>196.0</td>\n",
       "      <td>20.0</td>\n",
       "      <td>97.0</td>\n",
       "      <td>525.0</td>\n",
       "      <td>19.99000</td>\n",
       "      <td>69.0</td>\n",
       "      <td>4.3</td>\n",
       "      <td>481.0</td>\n",
       "      <td>3242.0</td>\n",
       "    </tr>\n",
       "    <tr>\n",
       "      <th>604</th>\n",
       "      <td>it_software</td>\n",
       "      <td>4.5</td>\n",
       "      <td>66.0</td>\n",
       "      <td>137.0</td>\n",
       "      <td>20.0</td>\n",
       "      <td>114.0</td>\n",
       "      <td>2867.0</td>\n",
       "      <td>16.99034</td>\n",
       "      <td>76.0</td>\n",
       "      <td>4.5</td>\n",
       "      <td>218.0</td>\n",
       "      <td>151.0</td>\n",
       "    </tr>\n",
       "    <tr>\n",
       "      <th>662</th>\n",
       "      <td>development</td>\n",
       "      <td>3.8</td>\n",
       "      <td>46.0</td>\n",
       "      <td>258.0</td>\n",
       "      <td>20.0</td>\n",
       "      <td>71.0</td>\n",
       "      <td>850.0</td>\n",
       "      <td>84.99000</td>\n",
       "      <td>88.0</td>\n",
       "      <td>3.8</td>\n",
       "      <td>46.0</td>\n",
       "      <td>258.0</td>\n",
       "    </tr>\n",
       "    <tr>\n",
       "      <th>700</th>\n",
       "      <td>business</td>\n",
       "      <td>4.2</td>\n",
       "      <td>41.0</td>\n",
       "      <td>144.0</td>\n",
       "      <td>20.0</td>\n",
       "      <td>139.0</td>\n",
       "      <td>767.0</td>\n",
       "      <td>19.99000</td>\n",
       "      <td>89.0</td>\n",
       "      <td>4.1</td>\n",
       "      <td>66.0</td>\n",
       "      <td>321.0</td>\n",
       "    </tr>\n",
       "    <tr>\n",
       "      <th>840</th>\n",
       "      <td>marketing</td>\n",
       "      <td>4.5</td>\n",
       "      <td>54.0</td>\n",
       "      <td>196.0</td>\n",
       "      <td>20.0</td>\n",
       "      <td>75.0</td>\n",
       "      <td>348.0</td>\n",
       "      <td>21.99000</td>\n",
       "      <td>81.0</td>\n",
       "      <td>4.6</td>\n",
       "      <td>77.0</td>\n",
       "      <td>269.0</td>\n",
       "    </tr>\n",
       "    <tr>\n",
       "      <th>931</th>\n",
       "      <td>it_software</td>\n",
       "      <td>2.6</td>\n",
       "      <td>47.0</td>\n",
       "      <td>338.0</td>\n",
       "      <td>20.0</td>\n",
       "      <td>48.0</td>\n",
       "      <td>221.0</td>\n",
       "      <td>16.99000</td>\n",
       "      <td>89.0</td>\n",
       "      <td>2.6</td>\n",
       "      <td>47.0</td>\n",
       "      <td>353.0</td>\n",
       "    </tr>\n",
       "    <tr>\n",
       "      <th>1014</th>\n",
       "      <td>business</td>\n",
       "      <td>4.6</td>\n",
       "      <td>70.0</td>\n",
       "      <td>241.0</td>\n",
       "      <td>20.0</td>\n",
       "      <td>165.0</td>\n",
       "      <td>1218.0</td>\n",
       "      <td>16.99000</td>\n",
       "      <td>87.0</td>\n",
       "      <td>4.5</td>\n",
       "      <td>73.0</td>\n",
       "      <td>249.0</td>\n",
       "    </tr>\n",
       "    <tr>\n",
       "      <th>1465</th>\n",
       "      <td>personal_development</td>\n",
       "      <td>4.4</td>\n",
       "      <td>73.0</td>\n",
       "      <td>254.0</td>\n",
       "      <td>20.0</td>\n",
       "      <td>122.0</td>\n",
       "      <td>363.0</td>\n",
       "      <td>23.99000</td>\n",
       "      <td>88.0</td>\n",
       "      <td>4.4</td>\n",
       "      <td>73.0</td>\n",
       "      <td>255.0</td>\n",
       "    </tr>\n",
       "    <tr>\n",
       "      <th>1475</th>\n",
       "      <td>it_software</td>\n",
       "      <td>2.9</td>\n",
       "      <td>44.0</td>\n",
       "      <td>136.0</td>\n",
       "      <td>20.0</td>\n",
       "      <td>79.0</td>\n",
       "      <td>551.0</td>\n",
       "      <td>21.99000</td>\n",
       "      <td>33.0</td>\n",
       "      <td>2.9</td>\n",
       "      <td>44.0</td>\n",
       "      <td>136.0</td>\n",
       "    </tr>\n",
       "    <tr>\n",
       "      <th>1494</th>\n",
       "      <td>it_software</td>\n",
       "      <td>4.0</td>\n",
       "      <td>79.0</td>\n",
       "      <td>301.0</td>\n",
       "      <td>19.0</td>\n",
       "      <td>113.0</td>\n",
       "      <td>1442.0</td>\n",
       "      <td>55.00212</td>\n",
       "      <td>91.0</td>\n",
       "      <td>4.0</td>\n",
       "      <td>110.0</td>\n",
       "      <td>437.0</td>\n",
       "    </tr>\n",
       "    <tr>\n",
       "      <th>1506</th>\n",
       "      <td>development</td>\n",
       "      <td>3.4</td>\n",
       "      <td>111.0</td>\n",
       "      <td>310.0</td>\n",
       "      <td>20.0</td>\n",
       "      <td>32.0</td>\n",
       "      <td>281.0</td>\n",
       "      <td>19.99127</td>\n",
       "      <td>72.0</td>\n",
       "      <td>3.8</td>\n",
       "      <td>127.0</td>\n",
       "      <td>2305.0</td>\n",
       "    </tr>\n",
       "    <tr>\n",
       "      <th>1510</th>\n",
       "      <td>teaching_academics</td>\n",
       "      <td>4.8</td>\n",
       "      <td>133.0</td>\n",
       "      <td>279.0</td>\n",
       "      <td>18.0</td>\n",
       "      <td>109.0</td>\n",
       "      <td>733.0</td>\n",
       "      <td>16.99000</td>\n",
       "      <td>40.0</td>\n",
       "      <td>4.7</td>\n",
       "      <td>198.0</td>\n",
       "      <td>2301.0</td>\n",
       "    </tr>\n",
       "    <tr>\n",
       "      <th>1570</th>\n",
       "      <td>business</td>\n",
       "      <td>3.7</td>\n",
       "      <td>21.0</td>\n",
       "      <td>157.0</td>\n",
       "      <td>18.0</td>\n",
       "      <td>47.0</td>\n",
       "      <td>354.0</td>\n",
       "      <td>16.99000</td>\n",
       "      <td>32.0</td>\n",
       "      <td>4.3</td>\n",
       "      <td>7727.0</td>\n",
       "      <td>118508.0</td>\n",
       "    </tr>\n",
       "    <tr>\n",
       "      <th>1649</th>\n",
       "      <td>it_software</td>\n",
       "      <td>3.3</td>\n",
       "      <td>98.0</td>\n",
       "      <td>278.0</td>\n",
       "      <td>20.0</td>\n",
       "      <td>74.0</td>\n",
       "      <td>280.0</td>\n",
       "      <td>23.99251</td>\n",
       "      <td>84.0</td>\n",
       "      <td>3.8</td>\n",
       "      <td>170.0</td>\n",
       "      <td>2410.0</td>\n",
       "    </tr>\n",
       "    <tr>\n",
       "      <th>1780</th>\n",
       "      <td>business</td>\n",
       "      <td>3.8</td>\n",
       "      <td>18.0</td>\n",
       "      <td>36.0</td>\n",
       "      <td>20.0</td>\n",
       "      <td>117.0</td>\n",
       "      <td>378.0</td>\n",
       "      <td>19.99000</td>\n",
       "      <td>85.0</td>\n",
       "      <td>4.1</td>\n",
       "      <td>31.0</td>\n",
       "      <td>55.0</td>\n",
       "    </tr>\n",
       "    <tr>\n",
       "      <th>1889</th>\n",
       "      <td>teaching_academics</td>\n",
       "      <td>4.0</td>\n",
       "      <td>86.0</td>\n",
       "      <td>187.0</td>\n",
       "      <td>19.0</td>\n",
       "      <td>125.0</td>\n",
       "      <td>581.0</td>\n",
       "      <td>17.99000</td>\n",
       "      <td>53.0</td>\n",
       "      <td>4.0</td>\n",
       "      <td>226.0</td>\n",
       "      <td>511.0</td>\n",
       "    </tr>\n",
       "  </tbody>\n",
       "</table>\n",
       "</div>"
      ],
      "text/plain": [
       "                  category  avg_rating  number_ratings  enrollment  \\\n",
       "160                 design         4.7            17.0       162.0   \n",
       "255            it_software         3.3           103.0       243.0   \n",
       "358               business         4.0            51.0        84.0   \n",
       "477               business         3.7            25.0       225.0   \n",
       "585                 design         3.9            35.0       196.0   \n",
       "604            it_software         4.5            66.0       137.0   \n",
       "662            development         3.8            46.0       258.0   \n",
       "700               business         4.2            41.0       144.0   \n",
       "840              marketing         4.5            54.0       196.0   \n",
       "931            it_software         2.6            47.0       338.0   \n",
       "1014              business         4.6            70.0       241.0   \n",
       "1465  personal_development         4.4            73.0       254.0   \n",
       "1475           it_software         2.9            44.0       136.0   \n",
       "1494           it_software         4.0            79.0       301.0   \n",
       "1506           development         3.4           111.0       310.0   \n",
       "1510    teaching_academics         4.8           133.0       279.0   \n",
       "1570              business         3.7            21.0       157.0   \n",
       "1649           it_software         3.3            98.0       278.0   \n",
       "1780              business         3.8            18.0        36.0   \n",
       "1889    teaching_academics         4.0            86.0       187.0   \n",
       "\n",
       "      last_updated  lectures  duration      cost  discount  inst_rating  \\\n",
       "160           20.0      50.0     608.0  17.99000      91.0          4.4   \n",
       "255           19.0      18.0     186.0  17.99065      88.0          3.3   \n",
       "358           20.0      22.0     137.0  21.99000      87.0          4.0   \n",
       "477           20.0      75.0     565.0  16.99000      86.0          4.0   \n",
       "585           20.0      97.0     525.0  19.99000      69.0          4.3   \n",
       "604           20.0     114.0    2867.0  16.99034      76.0          4.5   \n",
       "662           20.0      71.0     850.0  84.99000      88.0          3.8   \n",
       "700           20.0     139.0     767.0  19.99000      89.0          4.1   \n",
       "840           20.0      75.0     348.0  21.99000      81.0          4.6   \n",
       "931           20.0      48.0     221.0  16.99000      89.0          2.6   \n",
       "1014          20.0     165.0    1218.0  16.99000      87.0          4.5   \n",
       "1465          20.0     122.0     363.0  23.99000      88.0          4.4   \n",
       "1475          20.0      79.0     551.0  21.99000      33.0          2.9   \n",
       "1494          19.0     113.0    1442.0  55.00212      91.0          4.0   \n",
       "1506          20.0      32.0     281.0  19.99127      72.0          3.8   \n",
       "1510          18.0     109.0     733.0  16.99000      40.0          4.7   \n",
       "1570          18.0      47.0     354.0  16.99000      32.0          4.3   \n",
       "1649          20.0      74.0     280.0  23.99251      84.0          3.8   \n",
       "1780          20.0     117.0     378.0  19.99000      85.0          4.1   \n",
       "1889          19.0     125.0     581.0  17.99000      53.0          4.0   \n",
       "\n",
       "      inst_review  inst_student  \n",
       "160         209.0         730.0  \n",
       "255         103.0         243.0  \n",
       "358          51.0          84.0  \n",
       "477         143.0        1182.0  \n",
       "585         481.0        3242.0  \n",
       "604         218.0         151.0  \n",
       "662          46.0         258.0  \n",
       "700          66.0         321.0  \n",
       "840          77.0         269.0  \n",
       "931          47.0         353.0  \n",
       "1014         73.0         249.0  \n",
       "1465         73.0         255.0  \n",
       "1475         44.0         136.0  \n",
       "1494        110.0         437.0  \n",
       "1506        127.0        2305.0  \n",
       "1510        198.0        2301.0  \n",
       "1570       7727.0      118508.0  \n",
       "1649        170.0        2410.0  \n",
       "1780         31.0          55.0  \n",
       "1889        226.0         511.0  "
      ]
     },
     "execution_count": 7,
     "metadata": {},
     "output_type": "execute_result"
    }
   ],
   "source": [
    "df[df['enrollment'] <= (df['enrollment'].describe(percentiles = [0.01,0.25,0.50,0.75,0.99])[4])]\n",
    "\n",
    "#displays records where 'enrollment' is less than or equal to its 1 percentile..."
   ]
  },
  {
   "cell_type": "code",
   "execution_count": 8,
   "metadata": {
    "scrolled": false
   },
   "outputs": [
    {
     "data": {
      "text/plain": [
       "3.905"
      ]
     },
     "execution_count": 8,
     "metadata": {},
     "output_type": "execute_result"
    }
   ],
   "source": [
    "df[df['enrollment'] <= (df['enrollment'].describe(percentiles = [0.01,0.25,0.50,0.75,0.99])[4])]['avg_rating'].mean()\n",
    "\n",
    "#displays mean of 'avg_rating' where 'enrollment' is less than or equal to its 1 percentile..."
   ]
  },
  {
   "cell_type": "code",
   "execution_count": null,
   "metadata": {},
   "outputs": [],
   "source": []
  },
  {
   "cell_type": "markdown",
   "metadata": {},
   "source": [
    "**DISPLAYING THE CORRELATION BETWWEN FEATURES**"
   ]
  },
  {
   "cell_type": "code",
   "execution_count": 9,
   "metadata": {},
   "outputs": [
    {
     "data": {
      "text/plain": [
       "avg_rating        1.000000\n",
       "inst_rating       0.796768\n",
       "inst_review       0.182625\n",
       "enrollment        0.155060\n",
       "number_ratings    0.149543\n",
       "inst_student      0.134940\n",
       "cost              0.060391\n",
       "duration          0.023843\n",
       "lectures          0.019277\n",
       "last_updated      0.007658\n",
       "discount          0.000506\n",
       "Name: avg_rating, dtype: float64"
      ]
     },
     "execution_count": 9,
     "metadata": {},
     "output_type": "execute_result"
    }
   ],
   "source": [
    "df.corr()['avg_rating'].abs().sort_values(ascending = False)\n",
    "\n",
    "\n",
    "#since we have a category column, we set the numeric_only parameter to True...\n",
    "#comparing the correlations of other columns with avg_rating column..."
   ]
  },
  {
   "cell_type": "code",
   "execution_count": null,
   "metadata": {},
   "outputs": [],
   "source": []
  },
  {
   "cell_type": "markdown",
   "metadata": {},
   "source": [
    "**UNIVARIATE ANALYSIS**"
   ]
  },
  {
   "cell_type": "code",
   "execution_count": 10,
   "metadata": {},
   "outputs": [
    {
     "data": {
      "image/png": "[encoded data removed]",
      "text/plain": [
       "<Figure size 432x288 with 1 Axes>"
      ]
     },
     "metadata": {
      "needs_background": "light"
     },
     "output_type": "display_data"
    }
   ],
   "source": [
    "from scipy.stats import norm\n",
    "\n",
    "sns.distplot(df.avg_rating, fit = norm)\n",
    "plt.show()\n",
    "\n",
    "#sns.histplot(df.avg_rating, kde = True)\n",
    "plt.show()\n",
    "\n",
    "#The distplot function is deprecated and therefore I use histplot to recreate a similar plot...\n",
    "\n",
    "#The distribution below 3.5 avg_rating is minimal and hence we drop it... "
   ]
  },
  {
   "cell_type": "code",
   "execution_count": 11,
   "metadata": {},
   "outputs": [
    {
     "data": {
      "image/png": "[encoded data removed]",
      "text/plain": [
       "<Figure size 432x288 with 1 Axes>"
      ]
     },
     "metadata": {
      "needs_background": "light"
     },
     "output_type": "display_data"
    },
    {
     "ename": "AttributeError",
     "evalue": "module 'seaborn' has no attribute 'histplot'",
     "output_type": "error",
     "traceback": [
      "\u001b[0;31m---------------------------------------------------------------------------\u001b[0m",
      "\u001b[0;31mAttributeError\u001b[0m                            Traceback (most recent call last)",
      "\u001b[0;32m<ipython-input-11-c2b5bf3cf69a>\u001b[0m in \u001b[0;36m<module>\u001b[0;34m\u001b[0m\n\u001b[1;32m      6\u001b[0m \u001b[0mplt\u001b[0m\u001b[0;34m.\u001b[0m\u001b[0mshow\u001b[0m\u001b[0;34m(\u001b[0m\u001b[0;34m)\u001b[0m\u001b[0;34m\u001b[0m\u001b[0;34m\u001b[0m\u001b[0m\n\u001b[1;32m      7\u001b[0m \u001b[0;34m\u001b[0m\u001b[0m\n\u001b[0;32m----> 8\u001b[0;31m \u001b[0msns\u001b[0m\u001b[0;34m.\u001b[0m\u001b[0mhistplot\u001b[0m\u001b[0;34m(\u001b[0m\u001b[0mdf\u001b[0m\u001b[0;34m.\u001b[0m\u001b[0mavg_rating\u001b[0m\u001b[0;34m,\u001b[0m \u001b[0mkde\u001b[0m \u001b[0;34m=\u001b[0m \u001b[0;32mTrue\u001b[0m\u001b[0;34m)\u001b[0m\u001b[0;34m\u001b[0m\u001b[0;34m\u001b[0m\u001b[0m\n\u001b[0m\u001b[1;32m      9\u001b[0m \u001b[0mplt\u001b[0m\u001b[0;34m.\u001b[0m\u001b[0mshow\u001b[0m\u001b[0;34m(\u001b[0m\u001b[0;34m)\u001b[0m\u001b[0;34m\u001b[0m\u001b[0;34m\u001b[0m\u001b[0m\n\u001b[1;32m     10\u001b[0m \u001b[0;34m\u001b[0m\u001b[0m\n",
      "\u001b[0;31mAttributeError\u001b[0m: module 'seaborn' has no attribute 'histplot'"
     ]
    }
   ],
   "source": [
    "df.drop(df[df.avg_rating < 3.5].index, inplace = True)\n",
    "\n",
    "#Dropping records where avg_rating is below 3.5...\n",
    "\n",
    "sns.distplot(df.avg_rating, fit = norm)\n",
    "plt.show()\n",
    "\n",
    "sns.histplot(df.avg_rating, kde = True)\n",
    "plt.show()\n",
    "\n",
    "#The distribution is now much closer to a normal distribution..."
   ]
  },
  {
   "cell_type": "code",
   "execution_count": null,
   "metadata": {},
   "outputs": [],
   "source": [
    "sns.distplot(df.inst_rating, fit = norm)\n",
    "plt.show()\n",
    "\n",
    "sns.histplot(df.inst_rating, kde = True)\n",
    "plt.show()\n",
    "\n",
    "#As expected there a long left-tail"
   ]
  },
  {
   "cell_type": "code",
   "execution_count": null,
   "metadata": {},
   "outputs": [],
   "source": [
    "df.drop(df[df.inst_rating < 3.75].index, inplace = True)\n",
    "\n",
    "#Dropping records where inst_rating is below 3.5...\n",
    "\n",
    "\n",
    "sns.distplot(df.inst_rating, fit = norm)\n",
    "plt.show()\n",
    "\n",
    "sns.histplot(df.inst_rating, kde = True)\n",
    "plt.show()\n",
    "\n",
    "#The distribution is now much closer to a normal distribution..."
   ]
  },
  {
   "cell_type": "code",
   "execution_count": null,
   "metadata": {},
   "outputs": [],
   "source": [
    "sns.distplot(df.enrollment, fit = norm)\n",
    "plt.show()\n",
    "\n",
    "sns.histplot(df.enrollment, kde = True)\n",
    "plt.show()\n",
    "\n",
    "#The distribution has a very long right-tail...\n",
    "#We try log-transformation to modify the data..."
   ]
  },
  {
   "cell_type": "code",
   "execution_count": null,
   "metadata": {},
   "outputs": [],
   "source": [
    "df['log_enrollment'] = np.log1p(df.enrollment)\n",
    "\n",
    "#Creating a new column for modified data...\n",
    "\n",
    "sns.distplot(df.log_enrollment, fit = norm)\n",
    "plt.show()\n",
    "\n",
    "sns.histplot(df.log_enrollment, kde = True)\n",
    "plt.show()\n",
    "\n",
    "\n",
    "#The distribution is now very close to a normal distribution...."
   ]
  },
  {
   "cell_type": "code",
   "execution_count": null,
   "metadata": {
    "scrolled": false
   },
   "outputs": [],
   "source": [
    "print('number_ratings :\\n')\n",
    "\n",
    "sns.distplot(df.number_ratings, fit = norm)\n",
    "plt.show()\n",
    "\n",
    "sns.histplot(df.number_ratings, kde = True)\n",
    "plt.show()\n",
    "\n",
    "#The distribution has a very long right-tail...\n",
    "#We try log-transformation to modify the data...\n",
    "\n",
    "print('\\nAfter log-trasnformation...\\n')\n",
    "\n",
    "df['log_number_ratings'] = np.log1p(df.number_ratings)\n",
    "\n",
    "#Creating a new column for modified data...\n",
    "\n",
    "sns.distplot(df.log_number_ratings, fit = norm)\n",
    "plt.show()\n",
    "\n",
    "sns.histplot(df.log_number_ratings, kde = True)\n",
    "plt.show()\n",
    "\n",
    "\n",
    "#The distribution is now very close to a normal distribution...."
   ]
  },
  {
   "cell_type": "code",
   "execution_count": null,
   "metadata": {
    "scrolled": false
   },
   "outputs": [],
   "source": [
    "print('inst_review :\\n')\n",
    "\n",
    "sns.distplot(df.inst_review, fit = norm)\n",
    "plt.show()\n",
    "\n",
    "sns.histplot(df.inst_review, kde = True)\n",
    "plt.show()\n",
    "\n",
    "#The distribution has a very long right-tail...\n",
    "#We try log-transformation to modify the data...\n",
    "\n",
    "print('\\nAfter log-trasnformation...\\n')\n",
    "\n",
    "df['log_inst_review'] = np.log1p(df.inst_review)\n",
    "\n",
    "#Creating a new column for modified data...\n",
    "\n",
    "sns.distplot(df.log_inst_review, fit = norm)\n",
    "plt.show()\n",
    "\n",
    "sns.histplot(df.log_inst_review, kde = True)\n",
    "plt.show()\n",
    "\n",
    "\n",
    "#The distribution is now very close to a normal distribution...."
   ]
  },
  {
   "cell_type": "code",
   "execution_count": null,
   "metadata": {
    "scrolled": false
   },
   "outputs": [],
   "source": [
    "print('inst_student :\\n')\n",
    "\n",
    "sns.distplot(df.inst_student, fit = norm)\n",
    "plt.show()\n",
    "\n",
    "sns.histplot(df.inst_student, kde = True)\n",
    "plt.show()\n",
    "\n",
    "#The distribution has a very long right-tail...\n",
    "#We try log-transformation to modify the data...\n",
    "\n",
    "print('\\nAfter log-trasnformation...\\n')\n",
    "\n",
    "df['log_inst_student'] = np.log1p(df.inst_student)\n",
    "\n",
    "#Creating a new column for modified data...\n",
    "\n",
    "sns.distplot(df.log_inst_student, fit = norm)\n",
    "plt.show()\n",
    "\n",
    "sns.histplot(df.log_inst_student, kde = True)\n",
    "plt.show()\n",
    "\n",
    "\n",
    "#The distribution is now very close to a normal distribution...."
   ]
  },
  {
   "cell_type": "code",
   "execution_count": null,
   "metadata": {},
   "outputs": [],
   "source": [
    "df.corr(numeric_only = True)['avg_rating'].abs().sort_values(ascending = False)\n",
    "\n",
    "#The newly created log-transformed columns have better correlation with avg_rating..."
   ]
  },
  {
   "cell_type": "code",
   "execution_count": null,
   "metadata": {},
   "outputs": [],
   "source": [
    "df.drop(['enrollment','number_ratings','inst_review','inst_student'],axis = 1,inplace = True)\n",
    "\n",
    "#Drops all columns that have been transformed using log-transformation..."
   ]
  },
  {
   "cell_type": "code",
   "execution_count": null,
   "metadata": {},
   "outputs": [],
   "source": [
    "plt.figure(figsize = (14,7))\n",
    "sns.countplot(data = df, x = 'category').set_title('VALUE COUNTS OF CATEGORIES',fontsize = 20)\n",
    "\n",
    "plt.tick_params(labelsize = 10)\n",
    "plt.xlabel('Category', fontsize = 15)\n",
    "plt.ylabel('Count', fontsize = 15)\n",
    "\n",
    "#setting figure size to enrlarge the plot...\n",
    "#count plot plots the value_count of all categories in category column...\n",
    "#tick_params allows us to manuplate size of text in the axes...\n",
    "#setting size of x and y labels.."
   ]
  },
  {
   "cell_type": "code",
   "execution_count": null,
   "metadata": {},
   "outputs": [],
   "source": []
  },
  {
   "cell_type": "markdown",
   "metadata": {},
   "source": [
    "**MULTIVARIATE ANALYSIS**"
   ]
  },
  {
   "cell_type": "code",
   "execution_count": null,
   "metadata": {},
   "outputs": [],
   "source": [
    "sns.scatterplot(data = df, x = 'avg_rating', y = 'inst_rating')\n",
    "plt.show()\n",
    "\n",
    "#provides a scatter plot...."
   ]
  },
  {
   "cell_type": "code",
   "execution_count": null,
   "metadata": {},
   "outputs": [],
   "source": [
    "sns.regplot(data = df, x = 'avg_rating', y = 'inst_rating')\n",
    "plt.show()\n",
    "\n",
    "#displays scatter plot with regression line..."
   ]
  },
  {
   "cell_type": "markdown",
   "metadata": {},
   "source": [
    "OBSERVATIONS\n",
    "\n",
    "Eventhough there is a strong correaltion and a very linear regression line, looking at the plots there seems to be no similarity between the columns **'avg_rating'** and **'inst_rating'**."
   ]
  },
  {
   "cell_type": "code",
   "execution_count": null,
   "metadata": {},
   "outputs": [],
   "source": [
    "sns.scatterplot(data = df, x = 'avg_rating', y = 'log_enrollment')\n",
    "plt.show()"
   ]
  },
  {
   "cell_type": "code",
   "execution_count": null,
   "metadata": {},
   "outputs": [],
   "source": [
    "sns.scatterplot(data = df, x = 'avg_rating', y = 'log_number_ratings')\n",
    "plt.show()"
   ]
  },
  {
   "cell_type": "code",
   "execution_count": null,
   "metadata": {},
   "outputs": [],
   "source": [
    "sns.scatterplot(data = df, x = 'avg_rating', y = 'log_inst_review')\n",
    "plt.show()"
   ]
  },
  {
   "cell_type": "code",
   "execution_count": null,
   "metadata": {},
   "outputs": [],
   "source": [
    "sns.scatterplot(data = df, x = 'avg_rating', y = 'log_inst_student')\n",
    "plt.show()"
   ]
  },
  {
   "cell_type": "markdown",
   "metadata": {},
   "source": [
    "OBSERVATIONS\n",
    "\n",
    "- **'avg_rating'** vs **'inst_rating'** had better linear relation compared to other columns when looking at the plots.\n",
    "\n",
    "- The other four plots with the log-transformed columns had many discrete values for each value in 'avg_rating' but showed no linear relationship as such.\n",
    "\n",
    "- The data might show strong correlation values but when plotted do not show much linear relationship."
   ]
  },
  {
   "cell_type": "code",
   "execution_count": null,
   "metadata": {},
   "outputs": [],
   "source": []
  },
  {
   "cell_type": "markdown",
   "metadata": {},
   "source": [
    "**CREATE DUMMY FEATURES**"
   ]
  },
  {
   "cell_type": "code",
   "execution_count": null,
   "metadata": {},
   "outputs": [],
   "source": [
    "df_dummy = pd.get_dummies(df.category)\n",
    "\n",
    "#we do not drop the 1st column as we will delete 'category' column in the next cells...\n",
    "#In a real working environment, we will drop first column in dummies and also the categorical column\n",
    "#as we will know the data as to reduce redundancy\n",
    "\n",
    "#Here, we assume we do not understand the data and hence do not drop the first dummy column...."
   ]
  },
  {
   "cell_type": "code",
   "execution_count": null,
   "metadata": {},
   "outputs": [],
   "source": [
    "categories_list = list(df.category.unique())\n",
    "\n",
    "#holding a list of categories that were initially present..\n",
    "#Can be filled back as text if needed...\n",
    "\n",
    "categories_list"
   ]
  },
  {
   "cell_type": "code",
   "execution_count": null,
   "metadata": {},
   "outputs": [],
   "source": [
    "df = df.join(df_dummy)\n",
    "\n",
    "df.drop('category', axis = 1, inplace = True)\n",
    "\n",
    "#Join the dummies with the df and then drop the 'category' column..."
   ]
  },
  {
   "cell_type": "code",
   "execution_count": null,
   "metadata": {
    "scrolled": true
   },
   "outputs": [],
   "source": [
    "df.head()\n",
    "\n",
    "#Dummy variables have been created for the category column and category column has been dropped...\n",
    "#The dataframe only consists of numeric values, that can be used for regression models..."
   ]
  },
  {
   "cell_type": "code",
   "execution_count": null,
   "metadata": {},
   "outputs": [],
   "source": []
  },
  {
   "cell_type": "markdown",
   "metadata": {},
   "source": [
    "**RESET THE INDEX AND SAVE THE CSV FILE**"
   ]
  },
  {
   "cell_type": "code",
   "execution_count": null,
   "metadata": {},
   "outputs": [],
   "source": [
    "df = df.reset_index()\n",
    "\n",
    "df.drop('index',axis = 1, inplace = True)\n",
    "\n",
    "#Reset index creates a new column 'index' and needs to be removed..."
   ]
  },
  {
   "cell_type": "code",
   "execution_count": null,
   "metadata": {},
   "outputs": [],
   "source": [
    "df.to_csv('Lab02_prepared.csv', index = False)\n",
    "\n",
    "#cleaned Data saved as csv..."
   ]
  },
  {
   "cell_type": "code",
   "execution_count": null,
   "metadata": {},
   "outputs": [],
   "source": []
  },
  {
   "cell_type": "markdown",
   "metadata": {},
   "source": [
    "**CREATE DATAFRAME FOR DIFFERENT FEATURE SELECTION METHODS**"
   ]
  },
  {
   "cell_type": "markdown",
   "metadata": {},
   "source": [
    "- MANUAL SELECTION"
   ]
  },
  {
   "cell_type": "code",
   "execution_count": null,
   "metadata": {},
   "outputs": [],
   "source": [
    "df.corr()['avg_rating'].abs().sort_values(ascending = False)"
   ]
  },
  {
   "cell_type": "code",
   "execution_count": null,
   "metadata": {},
   "outputs": [],
   "source": [
    "df_correlation = df[['inst_rating','log_enrollment','log_number_ratings','log_inst_review',\n",
    "                     'log_inst_student','it_software','personal_development','cost']]\n",
    "\n",
    "#by manually selecting top 8 based on correlation values, the above 8 features are best suited..."
   ]
  },
  {
   "cell_type": "code",
   "execution_count": null,
   "metadata": {},
   "outputs": [],
   "source": [
    "df_correlation.head()\n",
    "\n",
    "#vieiwing the dataframe..."
   ]
  },
  {
   "cell_type": "code",
   "execution_count": null,
   "metadata": {},
   "outputs": [],
   "source": []
  },
  {
   "cell_type": "markdown",
   "metadata": {},
   "source": [
    "- VARIANCE THRESHOLD"
   ]
  },
  {
   "cell_type": "code",
   "execution_count": null,
   "metadata": {},
   "outputs": [],
   "source": [
    "from sklearn.feature_selection import VarianceThreshold\n",
    "#importing the necessary model...\n",
    "\n",
    "target = df.avg_rating\n",
    "#The target column...\n",
    "\n",
    "features = df.drop('avg_rating', axis = 1)\n",
    "#All columns except the target column are features...\n",
    "\n",
    "selVT = VarianceThreshold(threshold = 0.1)\n",
    "#we set a minimum variance threshold below which the feature will not be selected...\n",
    "\n",
    "selVT.fit(features)\n",
    "#we use fit() to train the model with the data...\n",
    "\n",
    "pd.DataFrame({'Variance': selVT.variances_, 'Selection_status': selVT.get_support()}, index = features.columns)\n",
    "#displays the variance value of each column and the selection status based on the set threshold..."
   ]
  },
  {
   "cell_type": "code",
   "execution_count": null,
   "metadata": {},
   "outputs": [],
   "source": [
    "df_variance = features.iloc[:,selVT.get_support()] \n",
    "\n",
    "#creates a new dataframe for features selected using variance threshold method..."
   ]
  },
  {
   "cell_type": "code",
   "execution_count": null,
   "metadata": {},
   "outputs": [],
   "source": [
    "df_variance.head()\n",
    "\n",
    "#vieiwing the dataframe...\n",
    "#12 out of 18 features are selected..."
   ]
  },
  {
   "cell_type": "code",
   "execution_count": null,
   "metadata": {},
   "outputs": [],
   "source": []
  },
  {
   "cell_type": "markdown",
   "metadata": {},
   "source": [
    "- K BEST METHOD"
   ]
  },
  {
   "cell_type": "code",
   "execution_count": null,
   "metadata": {},
   "outputs": [],
   "source": [
    "from sklearn.feature_selection import SelectKBest\n",
    "from sklearn.feature_selection import f_regression \n",
    "from sklearn.model_selection import train_test_split\n",
    "\n",
    "#import necessary models...\n",
    "#'f_regression' method is used as score function when conducting regression analysis...\n",
    "#'chi2' method is used as score function when conducting classification..."
   ]
  },
  {
   "cell_type": "code",
   "execution_count": null,
   "metadata": {},
   "outputs": [],
   "source": [
    "selKBest = SelectKBest(score_func = f_regression, k = 8) \n",
    "#model is asked to select 8 features with 'f_regression' score function..."
   ]
  },
  {
   "cell_type": "code",
   "execution_count": null,
   "metadata": {},
   "outputs": [],
   "source": [
    "x_train, x_test, y_train, y_test = train_test_split(features, target, test_size = 0.2, random_state = 329)\n",
    "\n",
    "#'train_test_split' splits data into training and testing data...\n",
    "#recommended target size (0.2 - 0.3) (i.e[80 - 20] split or [70 - 30] split)...\n",
    "#random_state default is none but when provided with an integer, produces reproducible results..."
   ]
  },
  {
   "cell_type": "code",
   "execution_count": null,
   "metadata": {},
   "outputs": [],
   "source": [
    "selKBest.fit_transform(x_train, y_train)\n",
    "\n",
    "#trains the model with the training data\n",
    "\n",
    "pd.DataFrame({'selection_status': selKBest.get_support()}, index = features.columns)\n",
    "#displays the variance value of each column and the selection status based on K-Best method..."
   ]
  },
  {
   "cell_type": "code",
   "execution_count": null,
   "metadata": {},
   "outputs": [],
   "source": [
    "df_selKBest = features.iloc[:,selKBest.get_support()]\n",
    "\n",
    "#create a new dataframe for features selected using K-Best method..."
   ]
  },
  {
   "cell_type": "code",
   "execution_count": null,
   "metadata": {},
   "outputs": [],
   "source": [
    "df_selKBest.head()\n",
    "\n",
    "#viewing the dataframe..."
   ]
  },
  {
   "cell_type": "code",
   "execution_count": null,
   "metadata": {},
   "outputs": [],
   "source": []
  },
  {
   "cell_type": "markdown",
   "metadata": {},
   "source": [
    "Looking at the features selected by K-Best method, it is an exact match with the features selected manually..."
   ]
  }
 ],
 "metadata": {
  "kernelspec": {
   "display_name": "Python 3",
   "language": "python",
   "name": "python3"
  },
  "language_info": {
   "codemirror_mode": {
    "name": "ipython",
    "version": 3
   },
   "file_extension": ".py",
   "mimetype": "text/x-python",
   "name": "python",
   "nbconvert_exporter": "python",
   "pygments_lexer": "ipython3",
   "version": "3.7.6"
  }
 },
 "nbformat": 4,
 "nbformat_minor": 5
}
