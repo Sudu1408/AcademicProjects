{
 "cells": [
  {
   "cell_type": "markdown",
   "metadata": {},
   "source": [
    "# Lab 04\n",
    "\n",
    "### Sudarsan Haridas\n",
    "\n",
    "### 300353099"
   ]
  },
  {
   "cell_type": "markdown",
   "metadata": {},
   "source": []
  },
  {
   "cell_type": "markdown",
   "metadata": {},
   "source": [
    "**LOAD THE PYTHON LIBRARY**"
   ]
  },
  {
   "cell_type": "code",
   "execution_count": 1,
   "metadata": {},
   "outputs": [],
   "source": [
    "import pandas as pd\n",
    "import numpy as np\n",
    "\n",
    "from sklearn.model_selection import train_test_split\n",
    "\n",
    "from sklearn.preprocessing import RobustScaler\n",
    "\n",
    "from sklearn.feature_selection import SelectFromModel\n",
    "\n",
    "from sklearn.pipeline import Pipeline\n",
    "\n",
    "from sklearn.linear_model import LogisticRegression\n",
    "from sklearn.neighbors import KNeighborsClassifier\n",
    "from sklearn.svm import SVC\n",
    "from sklearn.tree import DecisionTreeClassifier\n",
    "from sklearn.naive_bayes import GaussianNB\n",
    "from sklearn.ensemble import RandomForestClassifier, AdaBoostClassifier\n",
    "from xgboost import XGBClassifier\n",
    "from catboost import CatBoostClassifier\n",
    "\n",
    "from sklearn.metrics import confusion_matrix, classification_report\n",
    "\n",
    "#importing necessary python libraries..."
   ]
  },
  {
   "cell_type": "code",
   "execution_count": null,
   "metadata": {},
   "outputs": [],
   "source": []
  },
  {
   "cell_type": "markdown",
   "metadata": {},
   "source": [
    "**READ THE DATA**"
   ]
  },
  {
   "cell_type": "code",
   "execution_count": 2,
   "metadata": {},
   "outputs": [],
   "source": [
    "df = pd.read_csv('Lab4_user_behaviour.csv')\n",
    "\n",
    "df_copy = df.copy()\n",
    "\n",
    "#reading the data and creating a copy of the original..."
   ]
  },
  {
   "cell_type": "code",
   "execution_count": 3,
   "metadata": {},
   "outputs": [
    {
     "data": {
      "text/html": [
       "<div>\n",
       "<style scoped>\n",
       "    .dataframe tbody tr th:only-of-type {\n",
       "        vertical-align: middle;\n",
       "    }\n",
       "\n",
       "    .dataframe tbody tr th {\n",
       "        vertical-align: top;\n",
       "    }\n",
       "\n",
       "    .dataframe thead th {\n",
       "        text-align: right;\n",
       "    }\n",
       "</style>\n",
       "<table border=\"1\" class=\"dataframe\">\n",
       "  <thead>\n",
       "    <tr style=\"text-align: right;\">\n",
       "      <th></th>\n",
       "      <th>inter_api_access_duration(sec)</th>\n",
       "      <th>api_access_uniqueness</th>\n",
       "      <th>sequence_length(count)</th>\n",
       "      <th>vsession_duration(min)</th>\n",
       "      <th>ip_type</th>\n",
       "      <th>num_sessions</th>\n",
       "      <th>num_users</th>\n",
       "      <th>num_unique_apis</th>\n",
       "      <th>source</th>\n",
       "      <th>classification</th>\n",
       "    </tr>\n",
       "  </thead>\n",
       "  <tbody>\n",
       "    <tr>\n",
       "      <th>0</th>\n",
       "      <td>7.010387</td>\n",
       "      <td>0.419355</td>\n",
       "      <td>31.0</td>\n",
       "      <td>13040</td>\n",
       "      <td>default</td>\n",
       "      <td>1</td>\n",
       "      <td>1</td>\n",
       "      <td>13</td>\n",
       "      <td>E</td>\n",
       "      <td>1</td>\n",
       "    </tr>\n",
       "    <tr>\n",
       "      <th>1</th>\n",
       "      <td>51.419393</td>\n",
       "      <td>0.252336</td>\n",
       "      <td>107.0</td>\n",
       "      <td>330113</td>\n",
       "      <td>default</td>\n",
       "      <td>1</td>\n",
       "      <td>1</td>\n",
       "      <td>27</td>\n",
       "      <td>E</td>\n",
       "      <td>1</td>\n",
       "    </tr>\n",
       "    <tr>\n",
       "      <th>2</th>\n",
       "      <td>25.860775</td>\n",
       "      <td>0.275000</td>\n",
       "      <td>40.0</td>\n",
       "      <td>62066</td>\n",
       "      <td>default</td>\n",
       "      <td>1</td>\n",
       "      <td>1</td>\n",
       "      <td>11</td>\n",
       "      <td>E</td>\n",
       "      <td>1</td>\n",
       "    </tr>\n",
       "    <tr>\n",
       "      <th>3</th>\n",
       "      <td>0.205909</td>\n",
       "      <td>0.818182</td>\n",
       "      <td>11.0</td>\n",
       "      <td>136</td>\n",
       "      <td>default</td>\n",
       "      <td>1</td>\n",
       "      <td>1</td>\n",
       "      <td>9</td>\n",
       "      <td>E</td>\n",
       "      <td>1</td>\n",
       "    </tr>\n",
       "    <tr>\n",
       "      <th>4</th>\n",
       "      <td>0.122125</td>\n",
       "      <td>0.812500</td>\n",
       "      <td>16.0</td>\n",
       "      <td>118</td>\n",
       "      <td>default</td>\n",
       "      <td>1</td>\n",
       "      <td>1</td>\n",
       "      <td>13</td>\n",
       "      <td>E</td>\n",
       "      <td>1</td>\n",
       "    </tr>\n",
       "  </tbody>\n",
       "</table>\n",
       "</div>"
      ],
      "text/plain": [
       "   inter_api_access_duration(sec)  api_access_uniqueness  \\\n",
       "0                        7.010387               0.419355   \n",
       "1                       51.419393               0.252336   \n",
       "2                       25.860775               0.275000   \n",
       "3                        0.205909               0.818182   \n",
       "4                        0.122125               0.812500   \n",
       "\n",
       "   sequence_length(count)  vsession_duration(min)  ip_type  num_sessions  \\\n",
       "0                    31.0                   13040  default             1   \n",
       "1                   107.0                  330113  default             1   \n",
       "2                    40.0                   62066  default             1   \n",
       "3                    11.0                     136  default             1   \n",
       "4                    16.0                     118  default             1   \n",
       "\n",
       "   num_users  num_unique_apis source  classification  \n",
       "0          1               13      E               1  \n",
       "1          1               27      E               1  \n",
       "2          1               11      E               1  \n",
       "3          1                9      E               1  \n",
       "4          1               13      E               1  "
      ]
     },
     "execution_count": 3,
     "metadata": {},
     "output_type": "execute_result"
    }
   ],
   "source": [
    "df.head()\n",
    "\n",
    "#peeking into the data...\n",
    "\n",
    "#TARGET : classification"
   ]
  },
  {
   "cell_type": "code",
   "execution_count": 4,
   "metadata": {},
   "outputs": [
    {
     "data": {
      "text/plain": [
       "1    24734\n",
       "0    10052\n",
       "2     1309\n",
       "3       22\n",
       "Name: classification, dtype: int64"
      ]
     },
     "execution_count": 4,
     "metadata": {},
     "output_type": "execute_result"
    }
   ],
   "source": [
    "df.classification.value_counts()\n",
    "\n",
    "#Number of entries in each Class"
   ]
  },
  {
   "cell_type": "code",
   "execution_count": null,
   "metadata": {},
   "outputs": [],
   "source": []
  },
  {
   "cell_type": "markdown",
   "metadata": {},
   "source": [
    "**DROP UNNEEDED DATA**"
   ]
  },
  {
   "cell_type": "code",
   "execution_count": 5,
   "metadata": {},
   "outputs": [
    {
     "name": "stdout",
     "output_type": "stream",
     "text": [
      "<class 'pandas.core.frame.DataFrame'>\n",
      "RangeIndex: 36117 entries, 0 to 36116\n",
      "Data columns (total 10 columns):\n",
      " #   Column                          Non-Null Count  Dtype  \n",
      "---  ------                          --------------  -----  \n",
      " 0   inter_api_access_duration(sec)  36117 non-null  float64\n",
      " 1   api_access_uniqueness           36117 non-null  float64\n",
      " 2   sequence_length(count)          36117 non-null  float64\n",
      " 3   vsession_duration(min)          36117 non-null  int64  \n",
      " 4   ip_type                         36117 non-null  object \n",
      " 5   num_sessions                    36117 non-null  int64  \n",
      " 6   num_users                       36117 non-null  int64  \n",
      " 7   num_unique_apis                 36117 non-null  int64  \n",
      " 8   source                          36117 non-null  object \n",
      " 9   classification                  36117 non-null  int64  \n",
      "dtypes: float64(3), int64(5), object(2)\n",
      "memory usage: 2.8+ MB\n"
     ]
    }
   ],
   "source": [
    "df.info()\n",
    "\n",
    "#There are no null values..."
   ]
  },
  {
   "cell_type": "code",
   "execution_count": 6,
   "metadata": {},
   "outputs": [],
   "source": [
    "target = df.classification\n",
    "\n",
    "features = df.drop('classification', axis = 1)\n",
    "\n",
    "#splitting features and target variable.."
   ]
  },
  {
   "cell_type": "code",
   "execution_count": null,
   "metadata": {},
   "outputs": [],
   "source": []
  },
  {
   "cell_type": "markdown",
   "metadata": {},
   "source": [
    "**CREATE DUMMY VALUES FOR DATAFRAME**"
   ]
  },
  {
   "cell_type": "code",
   "execution_count": 7,
   "metadata": {},
   "outputs": [],
   "source": [
    "features = pd.get_dummies(features, drop_first = True)\n",
    "\n",
    "#get dummy columns for categorical columns in features..."
   ]
  },
  {
   "cell_type": "code",
   "execution_count": null,
   "metadata": {},
   "outputs": [],
   "source": []
  },
  {
   "cell_type": "markdown",
   "metadata": {},
   "source": [
    "**PREPARE FEATURES AND TARGET VARIABLE**"
   ]
  },
  {
   "cell_type": "code",
   "execution_count": 8,
   "metadata": {},
   "outputs": [],
   "source": [
    "x_train, x_test, y_train, y_test = train_test_split(features, target, test_size = 0.25, random_state = 99)\n",
    "\n",
    "#splitting train and test data.."
   ]
  },
  {
   "cell_type": "code",
   "execution_count": null,
   "metadata": {},
   "outputs": [],
   "source": []
  },
  {
   "cell_type": "markdown",
   "metadata": {},
   "source": [
    "**CREATING PIPELINE**"
   ]
  },
  {
   "cell_type": "code",
   "execution_count": 9,
   "metadata": {},
   "outputs": [],
   "source": [
    "name_of_model = ['Logistic Regression', 'KNN', 'Linear SVC', 'SVM RBF', 'Decision Tree', \n",
    "                'Naive Bayes', 'Random Forest Classifier', 'AdaBoost Classifier', \n",
    "                'XGBoost Classifier', 'CatBoost Classifier']\n",
    "\n",
    "score_of_model = []\n",
    "\n",
    "\n",
    "list_of_models = [\n",
    "    LogisticRegression(max_iter = 10000),\n",
    "    KNeighborsClassifier(),\n",
    "    SVC(kernel = \"linear\", C = 1),\n",
    "    SVC(kernel = \"rbf\", C = 1, gamma = \"auto\"),\n",
    "    DecisionTreeClassifier(max_depth = 5),\n",
    "    GaussianNB(),\n",
    "    RandomForestClassifier(max_depth = 5, n_estimators = 100),\n",
    "    AdaBoostClassifier(),\n",
    "    XGBClassifier(),\n",
    "    CatBoostClassifier(learning_rate = 0.1,verbose = False)\n",
    "]\n",
    "\n",
    "\n",
    "#list of model names..\n",
    "#empty list to hold score of each model...\n",
    "#List of models"
   ]
  },
  {
   "cell_type": "code",
   "execution_count": 10,
   "metadata": {
    "scrolled": true
   },
   "outputs": [],
   "source": [
    "for i, clf in enumerate(list_of_models):\n",
    "    \n",
    "    pipe = Pipeline(\n",
    "    [\n",
    "        ('Scaler', RobustScaler()),\n",
    "        ('Feature Selection', SelectFromModel(estimator = RandomForestClassifier( n_estimators = 100))),\n",
    "        (name_of_model[i], clf)\n",
    "    ]\n",
    "    )\n",
    "    \n",
    "    pipe.fit(x_train, y_train)\n",
    "    \n",
    "    score_of_model.append(pipe.score(x_test, y_test))\n",
    "    \n",
    "    \n",
    "    \n",
    "#creating a pipeline of feature scaling, selection and classifier models..."
   ]
  },
  {
   "cell_type": "code",
   "execution_count": 11,
   "metadata": {},
   "outputs": [],
   "source": [
    "scores = pd.DataFrame(zip(name_of_model, score_of_model), columns = ['Classifier', 'Accuracy Score'])\n",
    "\n",
    "#creating a dataframe of model scores..."
   ]
  },
  {
   "cell_type": "code",
   "execution_count": null,
   "metadata": {},
   "outputs": [],
   "source": []
  },
  {
   "cell_type": "markdown",
   "metadata": {},
   "source": [
    "**SELECT BEST PIPE**"
   ]
  },
  {
   "cell_type": "code",
   "execution_count": 12,
   "metadata": {},
   "outputs": [
    {
     "data": {
      "text/html": [
       "<div>\n",
       "<style scoped>\n",
       "    .dataframe tbody tr th:only-of-type {\n",
       "        vertical-align: middle;\n",
       "    }\n",
       "\n",
       "    .dataframe tbody tr th {\n",
       "        vertical-align: top;\n",
       "    }\n",
       "\n",
       "    .dataframe thead th {\n",
       "        text-align: right;\n",
       "    }\n",
       "</style>\n",
       "<table border=\"1\" class=\"dataframe\">\n",
       "  <thead>\n",
       "    <tr style=\"text-align: right;\">\n",
       "      <th></th>\n",
       "      <th>Classifier</th>\n",
       "      <th>Accuracy Score</th>\n",
       "    </tr>\n",
       "  </thead>\n",
       "  <tbody>\n",
       "    <tr>\n",
       "      <th>9</th>\n",
       "      <td>CatBoost Classifier</td>\n",
       "      <td>0.987154</td>\n",
       "    </tr>\n",
       "    <tr>\n",
       "      <th>8</th>\n",
       "      <td>XGBoost Classifier</td>\n",
       "      <td>0.987043</td>\n",
       "    </tr>\n",
       "    <tr>\n",
       "      <th>6</th>\n",
       "      <td>Random Forest Classifier</td>\n",
       "      <td>0.985714</td>\n",
       "    </tr>\n",
       "    <tr>\n",
       "      <th>2</th>\n",
       "      <td>Linear SVC</td>\n",
       "      <td>0.984607</td>\n",
       "    </tr>\n",
       "    <tr>\n",
       "      <th>1</th>\n",
       "      <td>KNN</td>\n",
       "      <td>0.982614</td>\n",
       "    </tr>\n",
       "    <tr>\n",
       "      <th>3</th>\n",
       "      <td>SVM RBF</td>\n",
       "      <td>0.981063</td>\n",
       "    </tr>\n",
       "    <tr>\n",
       "      <th>4</th>\n",
       "      <td>Decision Tree</td>\n",
       "      <td>0.966999</td>\n",
       "    </tr>\n",
       "    <tr>\n",
       "      <th>0</th>\n",
       "      <td>Logistic Regression</td>\n",
       "      <td>0.964341</td>\n",
       "    </tr>\n",
       "    <tr>\n",
       "      <th>7</th>\n",
       "      <td>AdaBoost Classifier</td>\n",
       "      <td>0.962569</td>\n",
       "    </tr>\n",
       "    <tr>\n",
       "      <th>5</th>\n",
       "      <td>Naive Bayes</td>\n",
       "      <td>0.728571</td>\n",
       "    </tr>\n",
       "  </tbody>\n",
       "</table>\n",
       "</div>"
      ],
      "text/plain": [
       "                 Classifier  Accuracy Score\n",
       "9       CatBoost Classifier        0.987154\n",
       "8        XGBoost Classifier        0.987043\n",
       "6  Random Forest Classifier        0.985714\n",
       "2                Linear SVC        0.984607\n",
       "1                       KNN        0.982614\n",
       "3                   SVM RBF        0.981063\n",
       "4             Decision Tree        0.966999\n",
       "0       Logistic Regression        0.964341\n",
       "7       AdaBoost Classifier        0.962569\n",
       "5               Naive Bayes        0.728571"
      ]
     },
     "execution_count": 12,
     "metadata": {},
     "output_type": "execute_result"
    }
   ],
   "source": [
    "scores.sort_values( by = ['Accuracy Score'], ascending = False)\n",
    "\n",
    "#sorting models by accuracy score.."
   ]
  },
  {
   "cell_type": "markdown",
   "metadata": {},
   "source": [
    "XGBoost Classifier is the best model..."
   ]
  },
  {
   "cell_type": "code",
   "execution_count": 13,
   "metadata": {},
   "outputs": [],
   "source": [
    "best_clf_pipe = Pipeline(\n",
    "    [\n",
    "        ('Scaler', RobustScaler()),\n",
    "        ('Feature Selection', SelectFromModel(estimator = RandomForestClassifier( n_estimators = 100))),\n",
    "        ('XGB Classifier', XGBClassifier())\n",
    "    ]\n",
    "    )\n",
    "\n",
    "best_clf_pipe.fit(x_train, y_train)\n",
    "\n",
    "y_pred = best_clf_pipe.predict(x_test)\n",
    "\n",
    "#predicting using best classifier model.."
   ]
  },
  {
   "cell_type": "code",
   "execution_count": 14,
   "metadata": {},
   "outputs": [
    {
     "data": {
      "text/plain": [
       "array([0, 1, 2])"
      ]
     },
     "execution_count": 14,
     "metadata": {},
     "output_type": "execute_result"
    }
   ],
   "source": [
    "np.unique(y_pred)"
   ]
  },
  {
   "cell_type": "code",
   "execution_count": 15,
   "metadata": {
    "scrolled": true
   },
   "outputs": [
    {
     "name": "stdout",
     "output_type": "stream",
     "text": [
      "[[2544    0    1    0]\n",
      " [   0 6147    0    0]\n",
      " [   2  106  222    0]\n",
      " [   0    8    0    0]]\n"
     ]
    }
   ],
   "source": [
    "print(confusion_matrix(y_test, y_pred))\n",
    "\n",
    "#printing confusion matrix.."
   ]
  },
  {
   "cell_type": "markdown",
   "metadata": {},
   "source": []
  },
  {
   "cell_type": "markdown",
   "metadata": {},
   "source": [
    "    - 2 'Class 2' values were predicted to be 'Class 0'\n",
    "    - 106 'Class 2' values were predicted to be 'Class 1'\n",
    "    - 8 'Class 3' values were predicted to be 'Class 1'\n",
    "    - 1 'Class 0' values were predicted to be 'Class 2'\n",
    "\n",
    "These were all the false predictions... \n",
    "\n",
    "117 false predictions\n",
    "\n",
    "8913 accurate predictions"
   ]
  },
  {
   "cell_type": "code",
   "execution_count": 16,
   "metadata": {},
   "outputs": [
    {
     "name": "stdout",
     "output_type": "stream",
     "text": [
      "              precision    recall  f1-score   support\n",
      "\n",
      "           0       1.00      1.00      1.00      2545\n",
      "           1       0.98      1.00      0.99      6147\n",
      "           2       1.00      0.67      0.80       330\n",
      "           3       0.00      0.00      0.00         8\n",
      "\n",
      "    accuracy                           0.99      9030\n",
      "   macro avg       0.74      0.67      0.70      9030\n",
      "weighted avg       0.99      0.99      0.99      9030\n",
      "\n"
     ]
    }
   ],
   "source": [
    "print(classification_report(y_test, y_pred, zero_division = 0.0))\n",
    "\n",
    "#printing classification report.."
   ]
  },
  {
   "cell_type": "markdown",
   "metadata": {},
   "source": [
    "    - The overall accuracy of the model is very good\n",
    "    - The precision and recall values for 'Class 3' are 0 because the count of 'Class 3' values is 0.\n",
    "    "
   ]
  },
  {
   "cell_type": "code",
   "execution_count": null,
   "metadata": {},
   "outputs": [],
   "source": []
  }
 ],
 "metadata": {
  "kernelspec": {
   "display_name": "Python 3 (ipykernel)",
   "language": "python",
   "name": "python3"
  },
  "language_info": {
   "codemirror_mode": {
    "name": "ipython",
    "version": 3
   },
   "file_extension": ".py",
   "mimetype": "text/x-python",
   "name": "python",
   "nbconvert_exporter": "python",
   "pygments_lexer": "ipython3",
   "version": "3.11.4"
  }
 },
 "nbformat": 4,
 "nbformat_minor": 4
}
