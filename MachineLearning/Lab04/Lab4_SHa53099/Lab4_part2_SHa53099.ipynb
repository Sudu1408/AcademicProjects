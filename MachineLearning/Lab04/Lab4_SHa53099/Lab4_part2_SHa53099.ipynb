{
 "cells": [
  {
   "cell_type": "markdown",
   "metadata": {},
   "source": [
    "# Lab 04\n",
    "\n",
    "### Sudarsan Haridas\n",
    "\n",
    "### 300353099"
   ]
  },
  {
   "cell_type": "markdown",
   "metadata": {},
   "source": []
  },
  {
   "cell_type": "markdown",
   "metadata": {},
   "source": [
    "**LOAD THE PYTHON LIBRARIES**"
   ]
  },
  {
   "cell_type": "code",
   "execution_count": 1,
   "metadata": {},
   "outputs": [
    {
     "name": "stderr",
     "output_type": "stream",
     "text": [
      "/Users/suduharidas/opt/anaconda3/lib/python3.7/site-packages/lightgbm/__init__.py:48: UserWarning: Starting from version 2.2.1, the library file in distribution wheels for macOS is built by the Apple Clang (Xcode_8.3.3) compiler.\n",
      "This means that in case of installing LightGBM from PyPI via the ``pip install lightgbm`` command, you don't need to install the gcc compiler anymore.\n",
      "Instead of that, you need to install the OpenMP library, which is required for running LightGBM on the system with the Apple Clang compiler.\n",
      "You can install the OpenMP library by the following command: ``brew install libomp``.\n",
      "  \"You can install the OpenMP library by the following command: ``brew install libomp``.\", UserWarning)\n"
     ]
    }
   ],
   "source": [
    "import pandas as pd\n",
    "import matplotlib.pyplot as plt\n",
    "\n",
    "from sklearn.model_selection import train_test_split\n",
    "\n",
    "from sklearn.preprocessing import StandardScaler\n",
    "\n",
    "from sklearn.feature_selection import SelectFromModel\n",
    "\n",
    "from sklearn.pipeline import Pipeline\n",
    "\n",
    "from sklearn.linear_model import LinearRegression, SGDRegressor\n",
    "from sklearn.tree import DecisionTreeRegressor\n",
    "from sklearn.ensemble import RandomForestRegressor, AdaBoostRegressor, GradientBoostingRegressor\n",
    "from xgboost import XGBRegressor\n",
    "from catboost import CatBoostRegressor\n",
    "from lightgbm import LGBMRegressor\n",
    "\n",
    "from sklearn.metrics import confusion_matrix, classification_report\n",
    "\n",
    "#importing necessary python libraries..."
   ]
  },
  {
   "cell_type": "code",
   "execution_count": null,
   "metadata": {},
   "outputs": [],
   "source": []
  },
  {
   "cell_type": "markdown",
   "metadata": {},
   "source": [
    "**READ THE DATA**"
   ]
  },
  {
   "cell_type": "code",
   "execution_count": 2,
   "metadata": {},
   "outputs": [],
   "source": [
    "df = pd.read_csv('Lab4_car_emission.csv')\n",
    "\n",
    "df_copy = df.copy()\n",
    "\n",
    "#reading the data and keeping a copy of the original dataset.."
   ]
  },
  {
   "cell_type": "code",
   "execution_count": 3,
   "metadata": {},
   "outputs": [
    {
     "data": {
      "text/html": [
       "<div>\n",
       "<style scoped>\n",
       "    .dataframe tbody tr th:only-of-type {\n",
       "        vertical-align: middle;\n",
       "    }\n",
       "\n",
       "    .dataframe tbody tr th {\n",
       "        vertical-align: top;\n",
       "    }\n",
       "\n",
       "    .dataframe thead th {\n",
       "        text-align: right;\n",
       "    }\n",
       "</style>\n",
       "<table border=\"1\" class=\"dataframe\">\n",
       "  <thead>\n",
       "    <tr style=\"text-align: right;\">\n",
       "      <th></th>\n",
       "      <th>make</th>\n",
       "      <th>type</th>\n",
       "      <th>transmission</th>\n",
       "      <th>fuel</th>\n",
       "      <th>fuel_comb</th>\n",
       "      <th>emissions</th>\n",
       "      <th>engine(l)</th>\n",
       "      <th>cylinder</th>\n",
       "    </tr>\n",
       "  </thead>\n",
       "  <tbody>\n",
       "    <tr>\n",
       "      <th>0</th>\n",
       "      <td>mazda</td>\n",
       "      <td>two_seater</td>\n",
       "      <td>automatic_shift</td>\n",
       "      <td>z</td>\n",
       "      <td>7.9</td>\n",
       "      <td>186</td>\n",
       "      <td>2.0</td>\n",
       "      <td>4</td>\n",
       "    </tr>\n",
       "    <tr>\n",
       "      <th>1</th>\n",
       "      <td>dodge</td>\n",
       "      <td>full_size</td>\n",
       "      <td>automatic</td>\n",
       "      <td>e</td>\n",
       "      <td>14.0</td>\n",
       "      <td>234</td>\n",
       "      <td>3.6</td>\n",
       "      <td>6</td>\n",
       "    </tr>\n",
       "    <tr>\n",
       "      <th>2</th>\n",
       "      <td>mercedes_benz</td>\n",
       "      <td>full_size</td>\n",
       "      <td>automatic</td>\n",
       "      <td>z</td>\n",
       "      <td>15.1</td>\n",
       "      <td>355</td>\n",
       "      <td>6.0</td>\n",
       "      <td>12</td>\n",
       "    </tr>\n",
       "    <tr>\n",
       "      <th>3</th>\n",
       "      <td>infiniti</td>\n",
       "      <td>suv</td>\n",
       "      <td>continuously_variable</td>\n",
       "      <td>x</td>\n",
       "      <td>8.7</td>\n",
       "      <td>200</td>\n",
       "      <td>2.5</td>\n",
       "      <td>4</td>\n",
       "    </tr>\n",
       "    <tr>\n",
       "      <th>4</th>\n",
       "      <td>jeep</td>\n",
       "      <td>suv</td>\n",
       "      <td>continuously_variable</td>\n",
       "      <td>x</td>\n",
       "      <td>11.1</td>\n",
       "      <td>255</td>\n",
       "      <td>2.4</td>\n",
       "      <td>4</td>\n",
       "    </tr>\n",
       "  </tbody>\n",
       "</table>\n",
       "</div>"
      ],
      "text/plain": [
       "            make        type           transmission fuel  fuel_comb  \\\n",
       "0          mazda  two_seater        automatic_shift    z        7.9   \n",
       "1          dodge   full_size              automatic    e       14.0   \n",
       "2  mercedes_benz   full_size              automatic    z       15.1   \n",
       "3       infiniti         suv  continuously_variable    x        8.7   \n",
       "4           jeep         suv  continuously_variable    x       11.1   \n",
       "\n",
       "   emissions  engine(l)  cylinder  \n",
       "0        186        2.0         4  \n",
       "1        234        3.6         6  \n",
       "2        355        6.0        12  \n",
       "3        200        2.5         4  \n",
       "4        255        2.4         4  "
      ]
     },
     "execution_count": 3,
     "metadata": {},
     "output_type": "execute_result"
    }
   ],
   "source": [
    "df.head()"
   ]
  },
  {
   "cell_type": "code",
   "execution_count": null,
   "metadata": {},
   "outputs": [],
   "source": []
  },
  {
   "cell_type": "markdown",
   "metadata": {},
   "source": [
    "**DROP UNNEEDED DATA**"
   ]
  },
  {
   "cell_type": "code",
   "execution_count": 4,
   "metadata": {},
   "outputs": [
    {
     "name": "stdout",
     "output_type": "stream",
     "text": [
      "<class 'pandas.core.frame.DataFrame'>\n",
      "RangeIndex: 6444 entries, 0 to 6443\n",
      "Data columns (total 8 columns):\n",
      " #   Column        Non-Null Count  Dtype  \n",
      "---  ------        --------------  -----  \n",
      " 0   make          6444 non-null   object \n",
      " 1   type          6444 non-null   object \n",
      " 2   transmission  6444 non-null   object \n",
      " 3   fuel          6444 non-null   object \n",
      " 4   fuel_comb     6444 non-null   float64\n",
      " 5   emissions     6444 non-null   int64  \n",
      " 6   engine(l)     6444 non-null   float64\n",
      " 7   cylinder      6444 non-null   int64  \n",
      "dtypes: float64(2), int64(2), object(4)\n",
      "memory usage: 402.9+ KB\n"
     ]
    }
   ],
   "source": [
    "df.info()\n",
    "\n",
    "#There are no null values..."
   ]
  },
  {
   "cell_type": "code",
   "execution_count": 5,
   "metadata": {},
   "outputs": [
    {
     "data": {
      "text/plain": [
       "0"
      ]
     },
     "execution_count": 5,
     "metadata": {},
     "output_type": "execute_result"
    }
   ],
   "source": [
    "df.isnull().sum().sum()"
   ]
  },
  {
   "cell_type": "code",
   "execution_count": null,
   "metadata": {},
   "outputs": [],
   "source": []
  },
  {
   "cell_type": "markdown",
   "metadata": {},
   "source": [
    "**CREATE DUMMY VALUES FOR DATAFRAME**"
   ]
  },
  {
   "cell_type": "code",
   "execution_count": 6,
   "metadata": {},
   "outputs": [],
   "source": [
    "target = df.emissions\n",
    "\n",
    "features = df.drop('emissions', axis = 1)\n",
    "\n",
    "#splitting features and target variable..."
   ]
  },
  {
   "cell_type": "code",
   "execution_count": 7,
   "metadata": {},
   "outputs": [],
   "source": [
    "features = pd.get_dummies(features, drop_first = True)\n",
    "\n",
    "#creating dummy columns for categorical variables..."
   ]
  },
  {
   "cell_type": "code",
   "execution_count": null,
   "metadata": {},
   "outputs": [],
   "source": []
  },
  {
   "cell_type": "markdown",
   "metadata": {},
   "source": [
    "**PREPARE THE FEATURE AND TARGET VARIABLE**"
   ]
  },
  {
   "cell_type": "code",
   "execution_count": 8,
   "metadata": {},
   "outputs": [],
   "source": [
    "x_train, x_test, y_train, y_test = train_test_split(features, target, test_size = 0.25, random_state = 99)\n",
    "\n",
    "#training and testing data split.."
   ]
  },
  {
   "cell_type": "code",
   "execution_count": null,
   "metadata": {},
   "outputs": [],
   "source": []
  },
  {
   "cell_type": "markdown",
   "metadata": {},
   "source": [
    "**CREATING PIPELINE**"
   ]
  },
  {
   "cell_type": "code",
   "execution_count": 9,
   "metadata": {},
   "outputs": [],
   "source": [
    "name_of_model = ['Linear Regression', 'Decision Tree', 'Random Forest Regressor', \n",
    "                 'GradientBoosting Regressor', 'AdaBoost Regressor', 'XGBoost Regressor', \n",
    "                 'CatBoost Regressor', 'LightGBM Regressor', 'SGD Regressor']\n",
    "\n",
    "score_of_model = []\n",
    "\n",
    "\n",
    "list_of_models = [\n",
    "    LinearRegression(),\n",
    "    DecisionTreeRegressor(),\n",
    "    RandomForestRegressor(n_estimators = 100),\n",
    "    GradientBoostingRegressor(),\n",
    "    AdaBoostRegressor(),\n",
    "    XGBRegressor(),\n",
    "    CatBoostRegressor(learning_rate = 0.1,verbose = False),\n",
    "    LGBMRegressor(learning_rate = 0.1, n_estimators = 100),\n",
    "    SGDRegressor(max_iter = 10000, tol = 0.0001, eta0 = 0.01)\n",
    "]\n",
    "\n",
    "\n",
    "#list of model names..\n",
    "#empty list to hold score of each model...\n",
    "#List of models"
   ]
  },
  {
   "cell_type": "code",
   "execution_count": 10,
   "metadata": {},
   "outputs": [],
   "source": [
    "for i, reg in enumerate(list_of_models):\n",
    "    \n",
    "    pipe = Pipeline(\n",
    "    [\n",
    "        ('Scaler', StandardScaler()),\n",
    "        ('Feature Selection', SelectFromModel(estimator = RandomForestRegressor( n_estimators = 100))),\n",
    "        (name_of_model[i], reg)\n",
    "    ]\n",
    "    )\n",
    "    \n",
    "    pipe.fit(x_train, y_train)\n",
    "    \n",
    "    score_of_model.append(pipe.score(x_test, y_test))\n",
    "    \n",
    "    \n",
    "    \n",
    "#creating a pipeline of feature scaling, selection and regression models..."
   ]
  },
  {
   "cell_type": "code",
   "execution_count": 11,
   "metadata": {},
   "outputs": [],
   "source": [
    "scores = pd.DataFrame(zip(name_of_model, score_of_model), columns = ['Regressor', 'R^2'])\n",
    "\n",
    "#creating a dataframe of model scores..."
   ]
  },
  {
   "cell_type": "code",
   "execution_count": null,
   "metadata": {},
   "outputs": [],
   "source": []
  },
  {
   "cell_type": "markdown",
   "metadata": {},
   "source": [
    "**SELECT THE BEST PIPE**"
   ]
  },
  {
   "cell_type": "code",
   "execution_count": 12,
   "metadata": {},
   "outputs": [
    {
     "data": {
      "text/html": [
       "<div>\n",
       "<style scoped>\n",
       "    .dataframe tbody tr th:only-of-type {\n",
       "        vertical-align: middle;\n",
       "    }\n",
       "\n",
       "    .dataframe tbody tr th {\n",
       "        vertical-align: top;\n",
       "    }\n",
       "\n",
       "    .dataframe thead th {\n",
       "        text-align: right;\n",
       "    }\n",
       "</style>\n",
       "<table border=\"1\" class=\"dataframe\">\n",
       "  <thead>\n",
       "    <tr style=\"text-align: right;\">\n",
       "      <th></th>\n",
       "      <th>Regressor</th>\n",
       "      <th>R^2</th>\n",
       "    </tr>\n",
       "  </thead>\n",
       "  <tbody>\n",
       "    <tr>\n",
       "      <th>6</th>\n",
       "      <td>CatBoost Regressor</td>\n",
       "      <td>0.989861</td>\n",
       "    </tr>\n",
       "    <tr>\n",
       "      <th>2</th>\n",
       "      <td>Random Forest Regressor</td>\n",
       "      <td>0.989838</td>\n",
       "    </tr>\n",
       "    <tr>\n",
       "      <th>1</th>\n",
       "      <td>Decision Tree</td>\n",
       "      <td>0.989779</td>\n",
       "    </tr>\n",
       "    <tr>\n",
       "      <th>5</th>\n",
       "      <td>XGBoost Regressor</td>\n",
       "      <td>0.989777</td>\n",
       "    </tr>\n",
       "    <tr>\n",
       "      <th>3</th>\n",
       "      <td>GradientBoosting Regressor</td>\n",
       "      <td>0.989462</td>\n",
       "    </tr>\n",
       "    <tr>\n",
       "      <th>7</th>\n",
       "      <td>LightGBM Regressor</td>\n",
       "      <td>0.988776</td>\n",
       "    </tr>\n",
       "    <tr>\n",
       "      <th>0</th>\n",
       "      <td>Linear Regression</td>\n",
       "      <td>0.984579</td>\n",
       "    </tr>\n",
       "    <tr>\n",
       "      <th>8</th>\n",
       "      <td>SGD Regressor</td>\n",
       "      <td>0.984383</td>\n",
       "    </tr>\n",
       "    <tr>\n",
       "      <th>4</th>\n",
       "      <td>AdaBoost Regressor</td>\n",
       "      <td>0.956781</td>\n",
       "    </tr>\n",
       "  </tbody>\n",
       "</table>\n",
       "</div>"
      ],
      "text/plain": [
       "                    Regressor       R^2\n",
       "6          CatBoost Regressor  0.989861\n",
       "2     Random Forest Regressor  0.989838\n",
       "1               Decision Tree  0.989779\n",
       "5           XGBoost Regressor  0.989777\n",
       "3  GradientBoosting Regressor  0.989462\n",
       "7          LightGBM Regressor  0.988776\n",
       "0           Linear Regression  0.984579\n",
       "8               SGD Regressor  0.984383\n",
       "4          AdaBoost Regressor  0.956781"
      ]
     },
     "execution_count": 12,
     "metadata": {},
     "output_type": "execute_result"
    }
   ],
   "source": [
    "scores.sort_values( by = ['R^2'], ascending = False)\n",
    "\n",
    "#sorting models by R^2 score.."
   ]
  },
  {
   "cell_type": "markdown",
   "metadata": {},
   "source": [
    "CatBoost Regressor is the best model..."
   ]
  },
  {
   "cell_type": "code",
   "execution_count": 13,
   "metadata": {},
   "outputs": [],
   "source": [
    "best_reg_pipe = Pipeline(\n",
    "    [\n",
    "        ('Scaler', StandardScaler()),\n",
    "        ('Feature Selection', SelectFromModel(estimator = RandomForestRegressor( n_estimators = 100))),\n",
    "        ('CatBoost Regressor', CatBoostRegressor(learning_rate = 0.1,verbose = False))\n",
    "    ]\n",
    "    )\n",
    "\n",
    "best_reg_pipe.fit(x_train, y_train)\n",
    "\n",
    "y_pred = best_reg_pipe.predict(x_test)\n",
    "\n",
    "#predicting using best regression model.."
   ]
  },
  {
   "cell_type": "code",
   "execution_count": 14,
   "metadata": {},
   "outputs": [
    {
     "data": {
      "text/plain": [
       "Text(0.5, 1.0, 'CatBoost Regressor Model')"
      ]
     },
     "execution_count": 14,
     "metadata": {},
     "output_type": "execute_result"
    },
    {
     "data": {
      "image/png": "[encoded data removed]",
      "text/plain": [
       "<Figure size 1008x720 with 1 Axes>"
      ]
     },
     "metadata": {
      "needs_background": "light"
     },
     "output_type": "display_data"
    }
   ],
   "source": [
    "plt.figure(figsize = (14,10))\n",
    "\n",
    "plt.scatter(y_pred, y_test) \n",
    "\n",
    "plt.xlabel('Predicted Emission Value')\n",
    "plt.ylabel('Actual Emission Value')\n",
    "\n",
    "plt.title('CatBoost Regressor Model')\n",
    "\n",
    "#Plotting predicted and actual values to visualize the model's performance"
   ]
  },
  {
   "cell_type": "markdown",
   "metadata": {},
   "source": [
    "The model looks to perform very good, as indicated by the above visualization and also the R^2 score..."
   ]
  },
  {
   "cell_type": "code",
   "execution_count": null,
   "metadata": {},
   "outputs": [],
   "source": []
  }
 ],
 "metadata": {
  "kernelspec": {
   "display_name": "Python 3",
   "language": "python",
   "name": "python3"
  },
  "language_info": {
   "codemirror_mode": {
    "name": "ipython",
    "version": 3
   },
   "file_extension": ".py",
   "mimetype": "text/x-python",
   "name": "python",
   "nbconvert_exporter": "python",
   "pygments_lexer": "ipython3",
   "version": "3.7.6"
  }
 },
 "nbformat": 4,
 "nbformat_minor": 4
}
